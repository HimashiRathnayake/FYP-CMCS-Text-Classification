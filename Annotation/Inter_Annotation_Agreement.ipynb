{
  "nbformat": 4,
  "nbformat_minor": 0,
  "metadata": {
    "colab": {
      "name": "Inter Annotation Agreement.ipynb",
      "provenance": [],
      "authorship_tag": "ABX9TyO6UnLymDTqTSBFzGUQ0Muf",
      "include_colab_link": true
    },
    "kernelspec": {
      "name": "python3",
      "display_name": "Python 3"
    },
    "language_info": {
      "name": "python"
    }
  },
  "cells": [
    {
      "cell_type": "markdown",
      "metadata": {
        "id": "view-in-github",
        "colab_type": "text"
      },
      "source": [
        "<a href=\"https://colab.research.google.com/github/HimashiRathnayake/Hate-Speech-Humor-Detection/blob/branch-1/Annotation/Inter_Annotation_Agreement.ipynb\" target=\"_parent\"><img src=\"https://colab.research.google.com/assets/colab-badge.svg\" alt=\"Open In Colab\"/></a>"
      ]
    },
    {
      "cell_type": "markdown",
      "metadata": {
        "id": "IEObw5biNZiv"
      },
      "source": [
        "**Parameters**"
      ]
    },
    {
      "cell_type": "code",
      "metadata": {
        "id": "sW1JyIKmNX4g"
      },
      "source": [
        "tag_set = \"Sentiment\" #@param [\"Sentiment\",\"Humor\",\"Aspect\",\"HateSpeech\",\"LanguageID\"]\n",
        "sentences_no = 10 #@param {allow-input: true}\n",
        "annotators = ['Raveesha','Himashi']\n",
        "\n",
        "if (tag_set==\"Sentiment\"):\n",
        "  tags = ['Positive', 'Negative','Neutral','Conflict'];\n",
        "elif (tag_set==\"Humor\"):\n",
        "  tags = ['Humorous','Non-humorous'];\n",
        "elif (tag_set==\"Aspect\"):\n",
        " tags = ['Hate-Inducing', 'Abusive', 'Not offensive'];\n",
        "elif (tag_set==\"HateSpeech\"):\n",
        "  tags = ['Billing or price','Customer service','Data','Network','None','Package','Service or product'];\n",
        "elif (tag_set==\"LanguageID\"):\n",
        "  tags = ['Sinhala','English','Sin-Eng','Eng-Sin','Unknown','name'];"
      ],
      "execution_count": 5,
      "outputs": []
    },
    {
      "cell_type": "markdown",
      "metadata": {
        "id": "zidEbVePZqFU"
      },
      "source": [
        "**Read UIMA CAS XMI File to a matrix**"
      ]
    },
    {
      "cell_type": "code",
      "metadata": {
        "id": "voMiSnkGOyiB"
      },
      "source": [
        "!pip install dkpro-cassis > /dev/null"
      ],
      "execution_count": 6,
      "outputs": []
    },
    {
      "cell_type": "code",
      "metadata": {
        "colab": {
          "base_uri": "https://localhost:8080/"
        },
        "id": "XD2Qbjn7jQ2a",
        "outputId": "03c4ddca-64ae-4f84-8fed-883c13b54615"
      },
      "source": [
        "from google.colab import drive\n",
        "drive.mount('/content/drive')"
      ],
      "execution_count": 7,
      "outputs": [
        {
          "output_type": "stream",
          "text": [
            "Drive already mounted at /content/drive; to attempt to forcibly remount, call drive.mount(\"/content/drive\", force_remount=True).\n"
          ],
          "name": "stdout"
        }
      ]
    },
    {
      "cell_type": "code",
      "metadata": {
        "colab": {
          "base_uri": "https://localhost:8080/"
        },
        "id": "bopkYo1wZops",
        "outputId": "73925e5d-8316-44b2-f604-9069b1a606ee"
      },
      "source": [
        "from cassis import *\n",
        "import numpy as np\n",
        "\n",
        "tags_no = len(tags)\n",
        "matrix_to_kappa = np.zeros((sentences_no, tags_no), dtype=int)\n",
        "\n",
        "for annotator in annotators:\n",
        "\n",
        "  with open('/content/drive/Shareddrives/FYP-CodeStars/Annotations/'+annotator+'/TypeSystem.xml', 'rb') as f:\n",
        "    typesystem = load_typesystem(f)\n",
        "\n",
        "  with open('/content/drive/Shareddrives/FYP-CodeStars/Annotations/'+annotator+'/Kappa_Annotation_'+annotator+'.xmi', 'rb') as f:\n",
        "    doc = load_cas_from_xmi(f, typesystem=typesystem)\n",
        "\n",
        "for (index, sentence) in enumerate(doc.select('webanno.custom.'+tag_set)):\n",
        "  for (tag_id, tag) in enumerate(tags):\n",
        "    if (sentence.Sentiment==tag): #Change to tag name\n",
        "      matrix_to_kappa[index,tag_id]=matrix_to_kappa[index,tag_id]+1\n",
        "\n",
        "print(matrix_to_kappa)"
      ],
      "execution_count": 17,
      "outputs": [
        {
          "output_type": "stream",
          "text": [
            "[[0 0 1 0]\n",
            " [0 0 1 0]\n",
            " [0 0 1 0]\n",
            " [0 0 1 0]\n",
            " [0 0 1 0]\n",
            " [0 0 1 0]\n",
            " [0 1 0 0]\n",
            " [0 0 1 0]\n",
            " [0 0 1 0]\n",
            " [1 0 0 0]]\n"
          ],
          "name": "stdout"
        }
      ]
    },
    {
      "cell_type": "markdown",
      "metadata": {
        "id": "FeqfHiLqHg4B"
      },
      "source": [
        "## **Calculate Inter Annotation Agreement**\n",
        "\n",
        "---\n",
        "\n"
      ]
    },
    {
      "cell_type": "markdown",
      "metadata": {
        "id": "KYc8hcS9RzT8"
      },
      "source": [
        "#### **Calculate Cohen Kappa** "
      ]
    },
    {
      "cell_type": "code",
      "metadata": {
        "id": "ZEewNuMHGKEM"
      },
      "source": [
        "# import sklearn.metrics\n",
        "# sklearn.metrics.cohen_kappa_score(['humorous','non-humorous','humorous'], ['humorous','non-humorous',''], labels=None, weights=None, sample_weight=None)"
      ],
      "execution_count": 9,
      "outputs": []
    },
    {
      "cell_type": "markdown",
      "metadata": {
        "id": "3yZJGY4mIJDm"
      },
      "source": [
        "#### **Calculate Fleiss Kappa**\n",
        "\n",
        "Reference: https://towardsdatascience.com/inter-annotator-agreement-2f46c6d37bf3"
      ]
    },
    {
      "cell_type": "code",
      "metadata": {
        "colab": {
          "base_uri": "https://localhost:8080/"
        },
        "id": "jDyIzlWvGMep",
        "outputId": "512813bc-c414-4ac2-9563-29cb85445ad4"
      },
      "source": [
        "def fleiss_kappa(M):\n",
        "    \"\"\"Computes Fleiss' kappa for group of annotators.\n",
        "    :param M: a matrix of shape (:attr:'N', :attr:'k') with 'N' = number of subjects and 'k' = the number of categories.\n",
        "        'M[i, j]' represent the number of raters who assigned the 'i'th subject to the 'j'th category.\n",
        "    :type: numpy matrix\n",
        "    :rtype: float\n",
        "    :return: Fleiss' kappa score\n",
        "    \"\"\"\n",
        "    N, k = M.shape  # N is # of items, k is # of categories\n",
        "    n_annotators = float(np.sum(M[0, :]))  # # of annotators\n",
        "    tot_annotations = N * n_annotators  # the total # of annotations\n",
        "    category_sum = np.sum(M, axis=0)  # the sum of each category over all items\n",
        "\n",
        "    # chance agreement\n",
        "    p = category_sum / tot_annotations  # the distribution of each category over all annotations\n",
        "    PbarE = np.sum(p * p)  # average chance agreement over all categories\n",
        "\n",
        "    # observed agreement\n",
        "    P = (np.sum(M * M, axis=1) - n_annotators) / (n_annotators * (n_annotators - 1))\n",
        "    Pbar = np.sum(P) / N  # add all observed agreement chances per item and divide by amount of items\n",
        "\n",
        "    return round((Pbar - PbarE) / (1 - PbarE), 4)\n",
        "\n",
        "fleiss_kappa(matrix_to_kappa)"
      ],
      "execution_count": 10,
      "outputs": [
        {
          "output_type": "stream",
          "text": [
            "/usr/local/lib/python3.7/dist-packages/ipykernel_launcher.py:19: RuntimeWarning: invalid value encountered in true_divide\n"
          ],
          "name": "stderr"
        },
        {
          "output_type": "execute_result",
          "data": {
            "text/plain": [
              "nan"
            ]
          },
          "metadata": {
            "tags": []
          },
          "execution_count": 10
        }
      ]
    },
    {
      "cell_type": "code",
      "metadata": {
        "colab": {
          "base_uri": "https://localhost:8080/"
        },
        "id": "hyVpFROeI5JJ",
        "outputId": "19766776-2530-4df3-d1df-f7eb4cf13ad2"
      },
      "source": [
        "import statsmodels\n",
        "from statsmodels.stats.inter_rater import fleiss_kappa\n",
        "fleiss_kappa(np.array(matrix_to_kappa))"
      ],
      "execution_count": 11,
      "outputs": [
        {
          "output_type": "stream",
          "text": [
            "/usr/local/lib/python3.7/dist-packages/statsmodels/tools/_testing.py:19: FutureWarning: pandas.util.testing is deprecated. Use the functions in the public API at pandas.testing instead.\n",
            "  import pandas.util.testing as tm\n",
            "/usr/local/lib/python3.7/dist-packages/statsmodels/stats/inter_rater.py:258: RuntimeWarning: invalid value encountered in true_divide\n",
            "  p_rat = (table2.sum(1) - n_rat) / (n_rat * (n_rat - 1.))\n"
          ],
          "name": "stderr"
        },
        {
          "output_type": "execute_result",
          "data": {
            "text/plain": [
              "nan"
            ]
          },
          "metadata": {
            "tags": []
          },
          "execution_count": 11
        }
      ]
    },
    {
      "cell_type": "code",
      "metadata": {
        "id": "MTuP-zlzMKjn"
      },
      "source": [
        ""
      ],
      "execution_count": 7,
      "outputs": []
    }
  ]
}