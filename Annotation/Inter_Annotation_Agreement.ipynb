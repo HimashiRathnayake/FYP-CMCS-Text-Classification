{
  "nbformat": 4,
  "nbformat_minor": 0,
  "metadata": {
    "colab": {
      "name": "Inter Annotation Agreement.ipynb",
      "provenance": [],
      "authorship_tag": "ABX9TyO/iafkD6kLSEm70l926SoV",
      "include_colab_link": true
    },
    "kernelspec": {
      "name": "python3",
      "display_name": "Python 3"
    },
    "language_info": {
      "name": "python"
    }
  },
  "cells": [
    {
      "cell_type": "markdown",
      "metadata": {
        "id": "view-in-github",
        "colab_type": "text"
      },
      "source": [
        "<a href=\"https://colab.research.google.com/github/HimashiRathnayake/Hate-Speech-Humor-Detection/blob/branch-1/Annotation/Inter_Annotation_Agreement.ipynb\" target=\"_parent\"><img src=\"https://colab.research.google.com/assets/colab-badge.svg\" alt=\"Open In Colab\"/></a>"
      ]
    },
    {
      "cell_type": "markdown",
      "metadata": {
        "id": "IEObw5biNZiv"
      },
      "source": [
        "**User Parameters**"
      ]
    },
    {
      "cell_type": "code",
      "metadata": {
        "id": "sW1JyIKmNX4g"
      },
      "source": [
        "tags_no = 2\n",
        "sentences_no = 10\n",
        "annotators = ['Raveesha','Himashi']"
      ],
      "execution_count": 5,
      "outputs": []
    },
    {
      "cell_type": "markdown",
      "metadata": {
        "id": "zidEbVePZqFU"
      },
      "source": [
        "**Read UIMA CAS XMI File to get data**"
      ]
    },
    {
      "cell_type": "code",
      "metadata": {
        "id": "voMiSnkGOyiB"
      },
      "source": [
        "!pip install dkpro-cassis > /dev/null"
      ],
      "execution_count": 6,
      "outputs": []
    },
    {
      "cell_type": "code",
      "metadata": {
        "colab": {
          "base_uri": "https://localhost:8080/"
        },
        "id": "XD2Qbjn7jQ2a",
        "outputId": "fc1a7e9a-f6dc-4e0d-ec77-0fef87419004"
      },
      "source": [
        "from google.colab import drive\n",
        "drive.mount('/content/drive')"
      ],
      "execution_count": 7,
      "outputs": [
        {
          "output_type": "stream",
          "text": [
            "Drive already mounted at /content/drive; to attempt to forcibly remount, call drive.mount(\"/content/drive\", force_remount=True).\n"
          ],
          "name": "stdout"
        }
      ]
    },
    {
      "cell_type": "code",
      "metadata": {
        "colab": {
          "base_uri": "https://localhost:8080/"
        },
        "id": "bopkYo1wZops",
        "outputId": "30637f10-f94b-4957-a671-56f1f399be30"
      },
      "source": [
        "from cassis import *\n",
        "import numpy as np\n",
        "\n",
        "matrix_to_kappa = np.zeros((sentences_no, tags_no), dtype=int)\n",
        "\n",
        "for annotator in annotators:\n",
        "\n",
        "  # Read humor tags from Himashi\n",
        "  with open('/content/drive/Shareddrives/FYP-CodeStars/Annotations/'+annotator+'/TypeSystem.xml', 'rb') as f:\n",
        "    typesystem = load_typesystem(f)\n",
        "\n",
        "  with open('/content/drive/Shareddrives/FYP-CodeStars/Annotations/'+annotator+'/Kappa_Annotation_'+annotator+'.xmi', 'rb') as f:\n",
        "    doc = load_cas_from_xmi(f, typesystem=typesystem)\n",
        "\n",
        "  with open('sentiment-sentence-per-line.txt', 'w') as f:\n",
        "    for (index, sentence) in enumerate(doc.select('webanno.custom.Humor')):\n",
        "      if (sentence.Humor==\"Humorous\"):\n",
        "        matrix_to_kappa[index,0]=matrix_to_kappa[index,0]+1\n",
        "      elif (sentence.Humor==\"Non-humorous\"):\n",
        "        matrix_to_kappa[index,1]=matrix_to_kappa[index,1]+1\n",
        "\n",
        "print(matrix_to_kappa)"
      ],
      "execution_count": 8,
      "outputs": [
        {
          "output_type": "stream",
          "text": [
            "[[0 2]\n",
            " [0 2]\n",
            " [0 2]\n",
            " [0 2]\n",
            " [0 2]\n",
            " [0 2]\n",
            " [0 2]\n",
            " [0 2]\n",
            " [0 2]\n",
            " [0 2]]\n"
          ],
          "name": "stdout"
        }
      ]
    },
    {
      "cell_type": "markdown",
      "metadata": {
        "id": "FeqfHiLqHg4B"
      },
      "source": [
        "**Calculate Cohen Kappa**"
      ]
    },
    {
      "cell_type": "code",
      "metadata": {
        "id": "ZEewNuMHGKEM"
      },
      "source": [
        "# import sklearn.metrics\n",
        "# sklearn.metrics.cohen_kappa_score(['humorous','non-humorous','humorous'], ['humorous','non-humorous',''], labels=None, weights=None, sample_weight=None)"
      ],
      "execution_count": 9,
      "outputs": []
    },
    {
      "cell_type": "markdown",
      "metadata": {
        "id": "3yZJGY4mIJDm"
      },
      "source": [
        "**Calculate Fleiss Kappa**"
      ]
    },
    {
      "cell_type": "code",
      "metadata": {
        "colab": {
          "base_uri": "https://localhost:8080/"
        },
        "id": "jDyIzlWvGMep",
        "outputId": "e103ff70-6dcc-47dc-b6b3-395d69d3cd5e"
      },
      "source": [
        "def fleiss_kappa(M):\n",
        "    \"\"\"Computes Fleiss' kappa for group of annotators.\n",
        "    :param M: a matrix of shape (:attr:'N', :attr:'k') with 'N' = number of subjects and 'k' = the number of categories.\n",
        "        'M[i, j]' represent the number of raters who assigned the 'i'th subject to the 'j'th category.\n",
        "    :type: numpy matrix\n",
        "    :rtype: float\n",
        "    :return: Fleiss' kappa score\n",
        "    \"\"\"\n",
        "    N, k = M.shape  # N is # of items, k is # of categories\n",
        "    n_annotators = float(np.sum(M[0, :]))  # # of annotators\n",
        "    tot_annotations = N * n_annotators  # the total # of annotations\n",
        "    category_sum = np.sum(M, axis=0)  # the sum of each category over all items\n",
        "\n",
        "    # chance agreement\n",
        "    p = category_sum / tot_annotations  # the distribution of each category over all annotations\n",
        "    PbarE = np.sum(p * p)  # average chance agreement over all categories\n",
        "\n",
        "    # observed agreement\n",
        "    P = (np.sum(M * M, axis=1) - n_annotators) / (n_annotators * (n_annotators - 1))\n",
        "    Pbar = np.sum(P) / N  # add all observed agreement chances per item and divide by amount of items\n",
        "\n",
        "    return round((Pbar - PbarE) / (1 - PbarE), 4)\n",
        "\n",
        "fleiss_kappa(matrix_to_kappa)"
      ],
      "execution_count": 10,
      "outputs": [
        {
          "output_type": "stream",
          "text": [
            "/usr/local/lib/python3.7/dist-packages/ipykernel_launcher.py:22: RuntimeWarning: invalid value encountered in double_scalars\n"
          ],
          "name": "stderr"
        },
        {
          "output_type": "execute_result",
          "data": {
            "text/plain": [
              "nan"
            ]
          },
          "metadata": {
            "tags": []
          },
          "execution_count": 10
        }
      ]
    },
    {
      "cell_type": "code",
      "metadata": {
        "colab": {
          "base_uri": "https://localhost:8080/"
        },
        "id": "hyVpFROeI5JJ",
        "outputId": "c5c92460-cfae-4e4c-a534-b71d05c142b2"
      },
      "source": [
        "import statsmodels\n",
        "from statsmodels.stats.inter_rater import fleiss_kappa\n",
        "fleiss_kappa(np.array(matrix_to_kappa))"
      ],
      "execution_count": 12,
      "outputs": [
        {
          "output_type": "stream",
          "text": [
            "/usr/local/lib/python3.7/dist-packages/statsmodels/stats/inter_rater.py:266: RuntimeWarning: invalid value encountered in double_scalars\n",
            "  kappa = (p_mean - p_mean_exp) / (1- p_mean_exp)\n"
          ],
          "name": "stderr"
        },
        {
          "output_type": "execute_result",
          "data": {
            "text/plain": [
              "nan"
            ]
          },
          "metadata": {
            "tags": []
          },
          "execution_count": 12
        }
      ]
    },
    {
      "cell_type": "code",
      "metadata": {
        "id": "MTuP-zlzMKjn"
      },
      "source": [
        ""
      ],
      "execution_count": 4,
      "outputs": []
    }
  ]
}