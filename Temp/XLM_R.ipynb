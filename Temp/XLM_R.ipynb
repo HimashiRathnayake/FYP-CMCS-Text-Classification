{
  "nbformat": 4,
  "nbformat_minor": 0,
  "metadata": {
    "colab": {
      "name": "XLM-R.ipynb",
      "provenance": [],
      "collapsed_sections": [
        "L583oCwfvgiR",
        "hslUWjdO2mg6"
      ],
      "include_colab_link": true
    },
    "kernelspec": {
      "display_name": "Python 3",
      "name": "python3"
    },
    "language_info": {
      "name": "python"
    },
    "accelerator": "GPU"
  },
  "cells": [
    {
      "cell_type": "markdown",
      "metadata": {
        "id": "view-in-github",
        "colab_type": "text"
      },
      "source": [
        "<a href=\"https://colab.research.google.com/github/HimashiRathnayake/Hate-Speech-Humor-Detection/blob/main/Temp/XLM_R.ipynb\" target=\"_parent\"><img src=\"https://colab.research.google.com/assets/colab-badge.svg\" alt=\"Open In Colab\"/></a>"
      ]
    },
    {
      "cell_type": "markdown",
      "metadata": {
        "id": "jjz_B0ExMG-i"
      },
      "source": [
        "## Fine Tune XLM-R \n",
        "Humor Detection & Hate speech Detection of Sinhala-English Code-Mixed Data."
      ]
    },
    {
      "cell_type": "markdown",
      "metadata": {
        "id": "83BIF6GkMOgX"
      },
      "source": [
        "### **Parameters**"
      ]
    },
    {
      "cell_type": "markdown",
      "metadata": {
        "id": "ttEdhhiXzLV4"
      },
      "source": [
        "**User Parameters**"
      ]
    },
    {
      "cell_type": "code",
      "metadata": {
        "id": "g-dOwN7izK9c"
      },
      "source": [
        "technique = \"humor\" #@param [\"humor\", \"hate speech\"]\n",
        "experiment_no = \"1\" #@param [] {allow-input: true}\n",
        "over_sampling_technique = \"\" #@param [\"\", \"ROS\",\"ADASYN\", \"SMOTE\", \"BorderlineSMOTE\"]\n",
        "sampling_strategy = \"\" #@param [] {allow-input: true}\n",
        "\n",
        "if technique == \"humor\" :\n",
        "  NO_OUTPUT_LAYERS = 2\n",
        "  tag_set = [\"Humorous\", \"Non-Humorous\"]\n",
        "elif technique == \"hate speech\":\n",
        "  NO_OUTPUT_LAYERS = 3\n",
        "  tag_set = [\"Abusive\", \"Hate-Inducing\", \"Not offensive\"]"
      ],
      "execution_count": 1,
      "outputs": []
    },
    {
      "cell_type": "code",
      "metadata": {
        "id": "rOJd03ixfefB"
      },
      "source": [
        "MAX_LEN = 128\n",
        "BATCH_SIZE = 32\n",
        "LEARNING_RATE = 5e-5 # Janani - 2e-5\n",
        "EPOCHS = 3 # Janani - 5"
      ],
      "execution_count": 2,
      "outputs": []
    },
    {
      "cell_type": "markdown",
      "metadata": {
        "id": "h8TuP3plzhYD"
      },
      "source": [
        "**Folder Paths**"
      ]
    },
    {
      "cell_type": "code",
      "metadata": {
        "id": "S-0l0Ry7zkCr"
      },
      "source": [
        "dataset_path = \"/content/drive/Shareddrives/FYP/corpus/çompleted_draft.csv\"\n",
        "model_save_path = \"/content/drive/Shareddrives/FYP/Humor_HateSpeech_detection/XLMR/\"+technique+\"/\"+experiment_no"
      ],
      "execution_count": 3,
      "outputs": []
    },
    {
      "cell_type": "markdown",
      "metadata": {
        "id": "sEbnAyepy4Bp"
      },
      "source": [
        "**Dependencies**"
      ]
    },
    {
      "cell_type": "code",
      "metadata": {
        "id": "FzofSf7qwUjJ"
      },
      "source": [
        "# !pip install transformers\n",
        "# !pip install sentencepiece\n",
        "# !pip install datasets\n",
        "# # !pip install optuna"
      ],
      "execution_count": 4,
      "outputs": []
    },
    {
      "cell_type": "code",
      "metadata": {
        "id": "oNDBKaShv_EH",
        "colab": {
          "base_uri": "https://localhost:8080/"
        },
        "outputId": "31f167e9-efd4-465b-d02f-d581c446ff08"
      },
      "source": [
        "import re\n",
        "import time\n",
        "import torch\n",
        "from torch.utils.data import TensorDataset, DataLoader, RandomSampler, SequentialSampler\n",
        "from transformers import XLMRobertaTokenizer, XLMRobertaForSequenceClassification, TrainingArguments, Trainer, AdamW, get_scheduler\n",
        "from tqdm import tqdm\n",
        "import numpy as np\n",
        "import pandas as pd\n",
        "from sklearn.model_selection import train_test_split\n",
        "from google.colab import drive\n",
        "from keras.preprocessing.sequence import pad_sequences\n",
        "from sklearn.metrics import classification_report\n",
        "import io\n",
        "import seaborn as sns\n",
        "from datasets import load_metric\n",
        "from collections import Counter\n",
        "from imblearn.over_sampling import RandomOverSampler, SMOTE, ADASYN, BorderlineSMOTE\n",
        "import matplotlib.pyplot as plt\n",
        "% matplotlib inline"
      ],
      "execution_count": 5,
      "outputs": [
        {
          "output_type": "stream",
          "name": "stderr",
          "text": [
            "/usr/local/lib/python3.7/dist-packages/sklearn/externals/six.py:31: FutureWarning: The module is deprecated in version 0.21 and will be removed in version 0.23 since we've dropped support for Python 2.7. Please rely on the official version of six (https://pypi.org/project/six/).\n",
            "  \"(https://pypi.org/project/six/).\", FutureWarning)\n",
            "/usr/local/lib/python3.7/dist-packages/sklearn/utils/deprecation.py:144: FutureWarning: The sklearn.neighbors.base module is  deprecated in version 0.22 and will be removed in version 0.24. The corresponding classes / functions should instead be imported from sklearn.neighbors. Anything that cannot be imported from sklearn.neighbors is now part of the private API.\n",
            "  warnings.warn(message, FutureWarning)\n"
          ]
        }
      ]
    },
    {
      "cell_type": "code",
      "metadata": {
        "colab": {
          "base_uri": "https://localhost:8080/"
        },
        "id": "gGy9gk5_w-37",
        "outputId": "69c34285-4bb0-4301-ec24-86eb2b755a90"
      },
      "source": [
        "drive.mount('/content/drive')"
      ],
      "execution_count": 6,
      "outputs": [
        {
          "output_type": "stream",
          "name": "stdout",
          "text": [
            "Drive already mounted at /content/drive; to attempt to forcibly remount, call drive.mount(\"/content/drive\", force_remount=True).\n"
          ]
        }
      ]
    },
    {
      "cell_type": "markdown",
      "metadata": {
        "id": "Dui-e7Gz2w-R"
      },
      "source": [
        "### **Oversampling**"
      ]
    },
    {
      "cell_type": "code",
      "metadata": {
        "id": "94nmLCkX2v6r"
      },
      "source": [
        "def apply_oversampling(x, y):\n",
        "\n",
        "  (unique, counts) = np.unique(y, axis=0, return_counts=True)\n",
        "  print(\"Class Distribution Without Oversampling\", counts)\n",
        "\n",
        "  # define oversampling strategy\n",
        "  if (over_sampling_technique == \"\"):\n",
        "    return x, y\n",
        "  elif (over_sampling_technique == \"ROS\"):\n",
        "    if (technique==\"humor\"):\n",
        "      oversample = RandomOverSampler(sampling_strategy = float(sampling_strategy))\n",
        "    else:\n",
        "      sampling_ratio = sampling_strategy.split(\":\");\n",
        "      oversample = RandomOverSampler(ratio = {\n",
        "          0:int(counts[0]*float(sampling_ratio[0])), \n",
        "          1:int(counts[0]*float(sampling_ratio[1])), \n",
        "          2:int(counts[0]*float(sampling_ratio[2]))\n",
        "          })\n",
        "  elif (over_sampling_technique == \"ADASYN\"):\n",
        "    oversample = ADASYN(sampling_strategy=\"minority\")\n",
        "  elif (over_sampling_technique == \"SMOTE\"):\n",
        "    oversample = SMOTE()\n",
        "  elif (over_sampling_technique == \"BorderlineSMOTE\"):\n",
        "    oversample = BorderlineSMOTE()\n",
        "\n",
        "  # fit and apply the transform\n",
        "  X_over, y_over = oversample.fit_resample(x, y)\n",
        "\n",
        "  (unique, counts) = np.unique(y_over, axis=0, return_counts=True)\n",
        "  print(\"Class Distribution After Oversampling\", counts)\n",
        "\n",
        "  return X_over, y_over"
      ],
      "execution_count": 7,
      "outputs": []
    },
    {
      "cell_type": "markdown",
      "metadata": {
        "id": "LLhb8qPCsVr9"
      },
      "source": [
        "### **Load & Preprocess Dataset**"
      ]
    },
    {
      "cell_type": "code",
      "metadata": {
        "id": "ai_G9OEMt2iF"
      },
      "source": [
        "def preprocess_texts(sentences):\n",
        "  sentences = [re.sub(r'http\\S+','',s) for s in sentences]\n",
        "  sentences = [s.replace('#','') for s in sentences]\n",
        "  sentences = [s + \" [SEP] [CLS]\" for s in sentences]\n",
        "  return sentences"
      ],
      "execution_count": 8,
      "outputs": []
    },
    {
      "cell_type": "code",
      "metadata": {
        "id": "9YTNMEO4sUFw"
      },
      "source": [
        "all_data = pd.read_csv(dataset_path)\n",
        "\n",
        "if (technique == \"humor\"):\n",
        "  all_data = all_data[['Sentence', 'Humor']]\n",
        "elif (technique == \"hate speech\"):\n",
        "  all_data = all_data[['Sentence', 'Hate_speech']]\n",
        "else:\n",
        "  all_data = all_data[['Sentence', 'Offensive']]\n",
        "\n",
        "all_data.columns = ['Sentence', 'Label']\n",
        "all_data['Label'], uniq = pd.factorize(all_data['Label'])\n",
        "\n",
        "X = all_data['Sentence'].values.tolist()\n",
        "y = all_data['Label'].values.tolist()\n",
        "\n",
        "X = preprocess_texts(X)"
      ],
      "execution_count": 9,
      "outputs": []
    },
    {
      "cell_type": "code",
      "metadata": {
        "id": "NZLIxGtZzAxW"
      },
      "source": [
        "X_train, X_test, y_train, y_test = train_test_split(X, y, test_size=0.1, random_state = 2)\n",
        "# print(y_train[:5])\n",
        "# print(X_train[:5])\n",
        "# X_train = np.array(X_train).reshape(-1, 1)\n",
        "# X_train, y_train = apply_oversampling(X_train, y_train)\n",
        "# X_train = [x[0] for x in X_train.tolist()]\n",
        "# y_train = y_train.tolist()\n",
        "# print(X_train[:5])\n",
        "# print(y_train[:5])"
      ],
      "execution_count": 10,
      "outputs": []
    },
    {
      "cell_type": "markdown",
      "metadata": {
        "id": "yPVtYGe-aiqR"
      },
      "source": [
        "##### **Preprocess Data**"
      ]
    },
    {
      "cell_type": "code",
      "metadata": {
        "id": "ENzyR3O6ahPv"
      },
      "source": [
        "tokenizer = XLMRobertaTokenizer.from_pretrained(\"xlm-roberta-base\", do_lower_case=True) #######################################################uncased"
      ],
      "execution_count": 11,
      "outputs": []
    },
    {
      "cell_type": "code",
      "metadata": {
        "id": "3Q5BljjzbKS_",
        "colab": {
          "base_uri": "https://localhost:8080/"
        },
        "outputId": "1600935d-c778-4fc8-f0b1-996835697e1b"
      },
      "source": [
        "encoded_X_train = tokenizer(X_train, truncation=True, padding=True, max_length=MAX_LEN)\n",
        "encoded_X_test = tokenizer(X_test, truncation=True, padding=True, max_length=MAX_LEN)"
      ],
      "execution_count": 12,
      "outputs": [
        {
          "output_type": "stream",
          "name": "stderr",
          "text": [
            "/usr/local/lib/python3.7/dist-packages/transformers/tokenization_utils_base.py:2227: UserWarning: `max_length` is ignored when `padding`=`True`.\n",
            "  warnings.warn(\"`max_length` is ignored when `padding`=`True`.\")\n"
          ]
        }
      ]
    },
    {
      "cell_type": "code",
      "metadata": {
        "id": "mQ36Nr1mbjk8"
      },
      "source": [
        "class DatasetObject(torch.utils.data.Dataset):\n",
        "    def __init__(self, encodings, labels):\n",
        "        self.encodings = encodings\n",
        "        self.labels = labels\n",
        "\n",
        "    def __getitem__(self, idx):\n",
        "        item = {key: torch.tensor(val[idx]) for key, val in self.encodings.items()}\n",
        "        item['labels'] = torch.tensor(self.labels[idx])\n",
        "        return item\n",
        "\n",
        "    def __len__(self):\n",
        "        return len(self.labels)\n",
        "\n",
        "train_data = DatasetObject(encoded_X_train, y_train)\n",
        "validation_data = DatasetObject(encoded_X_test, y_test)"
      ],
      "execution_count": 13,
      "outputs": []
    },
    {
      "cell_type": "code",
      "metadata": {
        "id": "-z8jK1iSwavn"
      },
      "source": [
        "train_sampler = RandomSampler(train_data)\n",
        "validation_sampler = SequentialSampler(validation_data)\n",
        "train_dataloader = DataLoader(train_data, sampler=train_sampler, batch_size=BATCH_SIZE)\n",
        "validation_dataloader = DataLoader(validation_data, sampler=validation_sampler, batch_size=BATCH_SIZE)"
      ],
      "execution_count": 14,
      "outputs": []
    },
    {
      "cell_type": "markdown",
      "metadata": {
        "id": "fYK-Ax5INrYU"
      },
      "source": [
        "### **Fine-Tuning**"
      ]
    },
    {
      "cell_type": "markdown",
      "metadata": {
        "id": "-e-V4t_dREav"
      },
      "source": [
        "#### **Initialize the model**"
      ]
    },
    {
      "cell_type": "code",
      "metadata": {
        "id": "pdW_oSQEft7g",
        "colab": {
          "base_uri": "https://localhost:8080/"
        },
        "outputId": "b3844172-c603-422b-b7e8-6752060f05be"
      },
      "source": [
        "model = XLMRobertaForSequenceClassification.from_pretrained(\"xlm-roberta-base\", num_labels=NO_OUTPUT_LAYERS)\n",
        "model.cuda()\n",
        "print(\"Done\")"
      ],
      "execution_count": 58,
      "outputs": [
        {
          "output_type": "stream",
          "name": "stderr",
          "text": [
            "Some weights of the model checkpoint at xlm-roberta-base were not used when initializing XLMRobertaForSequenceClassification: ['lm_head.layer_norm.bias', 'lm_head.layer_norm.weight', 'roberta.pooler.dense.weight', 'lm_head.dense.bias', 'lm_head.dense.weight', 'lm_head.bias', 'roberta.pooler.dense.bias', 'lm_head.decoder.weight']\n",
            "- This IS expected if you are initializing XLMRobertaForSequenceClassification from the checkpoint of a model trained on another task or with another architecture (e.g. initializing a BertForSequenceClassification model from a BertForPreTraining model).\n",
            "- This IS NOT expected if you are initializing XLMRobertaForSequenceClassification from the checkpoint of a model that you expect to be exactly identical (initializing a BertForSequenceClassification model from a BertForSequenceClassification model).\n",
            "Some weights of XLMRobertaForSequenceClassification were not initialized from the model checkpoint at xlm-roberta-base and are newly initialized: ['classifier.dense.weight', 'classifier.out_proj.bias', 'classifier.dense.bias', 'classifier.out_proj.weight']\n",
            "You should probably TRAIN this model on a down-stream task to be able to use it for predictions and inference.\n"
          ]
        },
        {
          "output_type": "stream",
          "name": "stdout",
          "text": [
            "Done\n"
          ]
        }
      ]
    },
    {
      "cell_type": "code",
      "metadata": {
        "id": "47WrmTxGMx8-",
        "colab": {
          "base_uri": "https://localhost:8080/",
          "height": 35
        },
        "outputId": "c4aae335-2f29-4f2c-fe86-b68b08df2510"
      },
      "source": [
        "device = torch.device(\"cuda\" if torch.cuda.is_available() else \"cpu\")\n",
        "n_gpu = torch.cuda.device_count()\n",
        "torch.cuda.get_device_name(0)"
      ],
      "execution_count": 59,
      "outputs": [
        {
          "output_type": "execute_result",
          "data": {
            "application/vnd.google.colaboratory.intrinsic+json": {
              "type": "string"
            },
            "text/plain": [
              "'Tesla K80'"
            ]
          },
          "metadata": {},
          "execution_count": 59
        }
      ]
    },
    {
      "cell_type": "code",
      "metadata": {
        "id": "pbBk4Z7oECtx",
        "colab": {
          "base_uri": "https://localhost:8080/"
        },
        "outputId": "667f776d-59ad-4138-df3a-4fd570c3931c"
      },
      "source": [
        "import gc\n",
        "# del all_data, encoded_X_train, encoded_X_test, X_train, X_test, tokenizer, DatasetObject\n",
        "torch.cuda.empty_cache()\n",
        "gc.collect()"
      ],
      "execution_count": 60,
      "outputs": [
        {
          "output_type": "execute_result",
          "data": {
            "text/plain": [
              "526"
            ]
          },
          "metadata": {},
          "execution_count": 60
        }
      ]
    },
    {
      "cell_type": "markdown",
      "metadata": {
        "id": "L583oCwfvgiR"
      },
      "source": [
        "#### **Fine-tuning in PyTorch with the Trainer API**"
      ]
    },
    {
      "cell_type": "markdown",
      "metadata": {
        "id": "hslUWjdO2mg6"
      },
      "source": [
        "##### **Fine-tune & Test the model**"
      ]
    },
    {
      "cell_type": "code",
      "metadata": {
        "id": "rgEPDn1_yIwe"
      },
      "source": [
        "def compute_metrics(eval_pred):\n",
        "    metric1 = load_metric(\"precision\")\n",
        "    metric2 = load_metric(\"recall\")\n",
        "    metric3 = load_metric(\"f1\")\n",
        "    metric4 = load_metric(\"accuracy\")\n",
        "    \n",
        "    logits, labels = eval_pred\n",
        "    predictions = np.argmax(logits, axis=-1)\n",
        "    precision = metric1.compute(predictions=predictions, references=labels, average=\"weighted\")[\"precision\"]\n",
        "    recall = metric2.compute(predictions=predictions, references=labels, average=\"weighted\")[\"recall\"]\n",
        "    f1 = metric3.compute(predictions=predictions, references=labels, average=\"weighted\")[\"f1\"]\n",
        "    accuracy = metric4.compute(predictions=predictions, references=labels)[\"accuracy\"]\n",
        "    macro_precision = metric1.compute(predictions=predictions, references=labels, average=\"macro\")[\"precision\"]\n",
        "    macro_recall = metric2.compute(predictions=predictions, references=labels, average=\"macro\")[\"recall\"]\n",
        "    macro_f1 = metric3.compute(predictions=predictions, references=labels, average=\"macro\")[\"f1\"]\n",
        "    return {\"accuracy\":accuracy, \"precision\": precision, \"recall\": recall, \"f1\": f1, \"macro_precision\": macro_precision, \"macro_recall\": macro_recall, \"macro_f1\": macro_f1}"
      ],
      "execution_count": null,
      "outputs": []
    },
    {
      "cell_type": "code",
      "metadata": {
        "id": "MI63-kjFvni-"
      },
      "source": [
        "# Default Hyperparameters\n",
        "# training_args = TrainingArguments(\"test_trainer\") \n",
        "# learning_rate=5e-5, batch_size=8,  weight_decay=0, num_train_epochs=3\n",
        "\n",
        "training_args = TrainingArguments(\n",
        "    learning_rate = LEARNING_RATE,\n",
        "    per_device_train_batch_size = BATCH_SIZE,\n",
        "    per_device_eval_batch_size = BATCH_SIZE,\n",
        "    output_dir = model_save_path,\n",
        "    num_train_epochs = NO_EPOCHS,\n",
        "    evaluation_strategy = \"epoch\",\n",
        "    save_strategy = \"epoch\",\n",
        ")"
      ],
      "execution_count": null,
      "outputs": []
    },
    {
      "cell_type": "code",
      "metadata": {
        "id": "llV3iiwDsRso"
      },
      "source": [
        "trainer = Trainer(\n",
        "    model = model, \n",
        "    args = training_args, \n",
        "    train_dataset = train_dataset,\n",
        "    eval_dataset = test_dataset,\n",
        "    compute_metrics = compute_metrics,\n",
        ")"
      ],
      "execution_count": null,
      "outputs": []
    },
    {
      "cell_type": "markdown",
      "metadata": {
        "id": "lUzsMRnQsSqm"
      },
      "source": [
        "**Train the model**"
      ]
    },
    {
      "cell_type": "code",
      "metadata": {
        "id": "mX7ezOnK2rvM",
        "colab": {
          "base_uri": "https://localhost:8080/",
          "height": 506
        },
        "outputId": "c343f690-4856-41cb-e3ba-eb7add70b879"
      },
      "source": [
        "trainer.train()"
      ],
      "execution_count": null,
      "outputs": [
        {
          "output_type": "stream",
          "name": "stderr",
          "text": [
            "***** Running training *****\n",
            "  Num examples = 13742\n",
            "  Num Epochs = 3\n",
            "  Instantaneous batch size per device = 32\n",
            "  Total train batch size (w. parallel, distributed & accumulation) = 32\n",
            "  Gradient Accumulation steps = 1\n",
            "  Total optimization steps = 1290\n"
          ]
        },
        {
          "output_type": "display_data",
          "data": {
            "text/html": [
              "\n",
              "    <div>\n",
              "      \n",
              "      <progress value='11' max='1290' style='width:300px; height:20px; vertical-align: middle;'></progress>\n",
              "      [  11/1290 00:12 < 30:00, 0.71 it/s, Epoch 0.02/3]\n",
              "    </div>\n",
              "    <table border=\"1\" class=\"dataframe\">\n",
              "  <thead>\n",
              "    <tr style=\"text-align: left;\">\n",
              "      <th>Epoch</th>\n",
              "      <th>Training Loss</th>\n",
              "      <th>Validation Loss</th>\n",
              "    </tr>\n",
              "  </thead>\n",
              "  <tbody>\n",
              "  </tbody>\n",
              "</table><p>"
            ],
            "text/plain": [
              "<IPython.core.display.HTML object>"
            ]
          },
          "metadata": {}
        },
        {
          "output_type": "error",
          "ename": "KeyboardInterrupt",
          "evalue": "ignored",
          "traceback": [
            "\u001b[0;31m---------------------------------------------------------------------------\u001b[0m",
            "\u001b[0;31mKeyboardInterrupt\u001b[0m                         Traceback (most recent call last)",
            "\u001b[0;32m<ipython-input-23-3435b262f1ae>\u001b[0m in \u001b[0;36m<module>\u001b[0;34m()\u001b[0m\n\u001b[0;32m----> 1\u001b[0;31m \u001b[0mtrainer\u001b[0m\u001b[0;34m.\u001b[0m\u001b[0mtrain\u001b[0m\u001b[0;34m(\u001b[0m\u001b[0;34m)\u001b[0m\u001b[0;34m\u001b[0m\u001b[0;34m\u001b[0m\u001b[0m\n\u001b[0m",
            "\u001b[0;32m/usr/local/lib/python3.7/dist-packages/transformers/trainer.py\u001b[0m in \u001b[0;36mtrain\u001b[0;34m(self, resume_from_checkpoint, trial, ignore_keys_for_eval, **kwargs)\u001b[0m\n\u001b[1;32m   1282\u001b[0m                         \u001b[0mtr_loss\u001b[0m \u001b[0;34m+=\u001b[0m \u001b[0mself\u001b[0m\u001b[0;34m.\u001b[0m\u001b[0mtraining_step\u001b[0m\u001b[0;34m(\u001b[0m\u001b[0mmodel\u001b[0m\u001b[0;34m,\u001b[0m \u001b[0minputs\u001b[0m\u001b[0;34m)\u001b[0m\u001b[0;34m\u001b[0m\u001b[0;34m\u001b[0m\u001b[0m\n\u001b[1;32m   1283\u001b[0m                 \u001b[0;32melse\u001b[0m\u001b[0;34m:\u001b[0m\u001b[0;34m\u001b[0m\u001b[0;34m\u001b[0m\u001b[0m\n\u001b[0;32m-> 1284\u001b[0;31m                     \u001b[0mtr_loss\u001b[0m \u001b[0;34m+=\u001b[0m \u001b[0mself\u001b[0m\u001b[0;34m.\u001b[0m\u001b[0mtraining_step\u001b[0m\u001b[0;34m(\u001b[0m\u001b[0mmodel\u001b[0m\u001b[0;34m,\u001b[0m \u001b[0minputs\u001b[0m\u001b[0;34m)\u001b[0m\u001b[0;34m\u001b[0m\u001b[0;34m\u001b[0m\u001b[0m\n\u001b[0m\u001b[1;32m   1285\u001b[0m                 \u001b[0mself\u001b[0m\u001b[0;34m.\u001b[0m\u001b[0mcurrent_flos\u001b[0m \u001b[0;34m+=\u001b[0m \u001b[0mfloat\u001b[0m\u001b[0;34m(\u001b[0m\u001b[0mself\u001b[0m\u001b[0;34m.\u001b[0m\u001b[0mfloating_point_ops\u001b[0m\u001b[0;34m(\u001b[0m\u001b[0minputs\u001b[0m\u001b[0;34m)\u001b[0m\u001b[0;34m)\u001b[0m\u001b[0;34m\u001b[0m\u001b[0;34m\u001b[0m\u001b[0m\n\u001b[1;32m   1286\u001b[0m \u001b[0;34m\u001b[0m\u001b[0m\n",
            "\u001b[0;32m/usr/local/lib/python3.7/dist-packages/transformers/trainer.py\u001b[0m in \u001b[0;36mtraining_step\u001b[0;34m(self, model, inputs)\u001b[0m\n\u001b[1;32m   1805\u001b[0m             \u001b[0mloss\u001b[0m \u001b[0;34m=\u001b[0m \u001b[0mself\u001b[0m\u001b[0;34m.\u001b[0m\u001b[0mdeepspeed\u001b[0m\u001b[0;34m.\u001b[0m\u001b[0mbackward\u001b[0m\u001b[0;34m(\u001b[0m\u001b[0mloss\u001b[0m\u001b[0;34m)\u001b[0m\u001b[0;34m\u001b[0m\u001b[0;34m\u001b[0m\u001b[0m\n\u001b[1;32m   1806\u001b[0m         \u001b[0;32melse\u001b[0m\u001b[0;34m:\u001b[0m\u001b[0;34m\u001b[0m\u001b[0;34m\u001b[0m\u001b[0m\n\u001b[0;32m-> 1807\u001b[0;31m             \u001b[0mloss\u001b[0m\u001b[0;34m.\u001b[0m\u001b[0mbackward\u001b[0m\u001b[0;34m(\u001b[0m\u001b[0;34m)\u001b[0m\u001b[0;34m\u001b[0m\u001b[0;34m\u001b[0m\u001b[0m\n\u001b[0m\u001b[1;32m   1808\u001b[0m \u001b[0;34m\u001b[0m\u001b[0m\n\u001b[1;32m   1809\u001b[0m         \u001b[0;32mreturn\u001b[0m \u001b[0mloss\u001b[0m\u001b[0;34m.\u001b[0m\u001b[0mdetach\u001b[0m\u001b[0;34m(\u001b[0m\u001b[0;34m)\u001b[0m\u001b[0;34m\u001b[0m\u001b[0;34m\u001b[0m\u001b[0m\n",
            "\u001b[0;32m/usr/local/lib/python3.7/dist-packages/torch/_tensor.py\u001b[0m in \u001b[0;36mbackward\u001b[0;34m(self, gradient, retain_graph, create_graph, inputs)\u001b[0m\n\u001b[1;32m    253\u001b[0m                 \u001b[0mcreate_graph\u001b[0m\u001b[0;34m=\u001b[0m\u001b[0mcreate_graph\u001b[0m\u001b[0;34m,\u001b[0m\u001b[0;34m\u001b[0m\u001b[0;34m\u001b[0m\u001b[0m\n\u001b[1;32m    254\u001b[0m                 inputs=inputs)\n\u001b[0;32m--> 255\u001b[0;31m         \u001b[0mtorch\u001b[0m\u001b[0;34m.\u001b[0m\u001b[0mautograd\u001b[0m\u001b[0;34m.\u001b[0m\u001b[0mbackward\u001b[0m\u001b[0;34m(\u001b[0m\u001b[0mself\u001b[0m\u001b[0;34m,\u001b[0m \u001b[0mgradient\u001b[0m\u001b[0;34m,\u001b[0m \u001b[0mretain_graph\u001b[0m\u001b[0;34m,\u001b[0m \u001b[0mcreate_graph\u001b[0m\u001b[0;34m,\u001b[0m \u001b[0minputs\u001b[0m\u001b[0;34m=\u001b[0m\u001b[0minputs\u001b[0m\u001b[0;34m)\u001b[0m\u001b[0;34m\u001b[0m\u001b[0;34m\u001b[0m\u001b[0m\n\u001b[0m\u001b[1;32m    256\u001b[0m \u001b[0;34m\u001b[0m\u001b[0m\n\u001b[1;32m    257\u001b[0m     \u001b[0;32mdef\u001b[0m \u001b[0mregister_hook\u001b[0m\u001b[0;34m(\u001b[0m\u001b[0mself\u001b[0m\u001b[0;34m,\u001b[0m \u001b[0mhook\u001b[0m\u001b[0;34m)\u001b[0m\u001b[0;34m:\u001b[0m\u001b[0;34m\u001b[0m\u001b[0;34m\u001b[0m\u001b[0m\n",
            "\u001b[0;32m/usr/local/lib/python3.7/dist-packages/torch/autograd/__init__.py\u001b[0m in \u001b[0;36mbackward\u001b[0;34m(tensors, grad_tensors, retain_graph, create_graph, grad_variables, inputs)\u001b[0m\n\u001b[1;32m    147\u001b[0m     Variable._execution_engine.run_backward(\n\u001b[1;32m    148\u001b[0m         \u001b[0mtensors\u001b[0m\u001b[0;34m,\u001b[0m \u001b[0mgrad_tensors_\u001b[0m\u001b[0;34m,\u001b[0m \u001b[0mretain_graph\u001b[0m\u001b[0;34m,\u001b[0m \u001b[0mcreate_graph\u001b[0m\u001b[0;34m,\u001b[0m \u001b[0minputs\u001b[0m\u001b[0;34m,\u001b[0m\u001b[0;34m\u001b[0m\u001b[0;34m\u001b[0m\u001b[0m\n\u001b[0;32m--> 149\u001b[0;31m         allow_unreachable=True, accumulate_grad=True)  # allow_unreachable flag\n\u001b[0m\u001b[1;32m    150\u001b[0m \u001b[0;34m\u001b[0m\u001b[0m\n\u001b[1;32m    151\u001b[0m \u001b[0;34m\u001b[0m\u001b[0m\n",
            "\u001b[0;31mKeyboardInterrupt\u001b[0m: "
          ]
        }
      ]
    },
    {
      "cell_type": "markdown",
      "metadata": {
        "id": "wYCFMo-_karm"
      },
      "source": [
        "**Test the fine-tuned model**"
      ]
    },
    {
      "cell_type": "code",
      "metadata": {
        "id": "bIcv3yEmwFpx"
      },
      "source": [
        "trainer.evaluate()"
      ],
      "execution_count": null,
      "outputs": []
    },
    {
      "cell_type": "markdown",
      "metadata": {
        "id": "hjpu4loFOhF-"
      },
      "source": [
        "##### **Hyperparameter Search**"
      ]
    },
    {
      "cell_type": "code",
      "metadata": {
        "id": "Oq_MOrsM8ugi"
      },
      "source": [
        "args = TrainingArguments(\n",
        "    \"test-glue\",\n",
        "    evaluation_strategy = \"epoch\",\n",
        "    save_strategy = \"epoch\",\n",
        "    learning_rate=LEARNING_RATE,\n",
        "    per_device_train_batch_size=BATCH_SIZE,\n",
        "    per_device_eval_batch_size=BATCH_SIZE,\n",
        "    num_train_epochs=NO_EPOCHS,\n",
        "    weight_decay=0.01,\n",
        "    load_best_model_at_end=True,\n",
        "    metric_for_best_model=\"eval_macro_f1\",\n",
        ")"
      ],
      "execution_count": null,
      "outputs": []
    },
    {
      "cell_type": "code",
      "metadata": {
        "id": "CsAB0QwAOjp9"
      },
      "source": [
        "def my_hp_space(trial):\n",
        "    return {\n",
        "        # \"learning_rate\": trial.suggest_float(\"learning_rate\", 1e-7, 1e-3, log=True),\n",
        "        \"num_train_epochs\": trial.suggest_discrete_uniform(\"num_train_epochs\", 1, 5, 1),\n",
        "        # \"seed\": trial.suggest_int(\"seed\", 1, 40),\n",
        "        # \"per_device_train_batch_size\": trial.suggest_categorical(\"per_device_train_batch_size\", [4, 8, 16, 32, 64]),\n",
        "    }"
      ],
      "execution_count": null,
      "outputs": []
    },
    {
      "cell_type": "code",
      "metadata": {
        "id": "7_B7-8AGOlhu"
      },
      "source": [
        "trainer = Trainer(\n",
        "    model_init=model_init,\n",
        "    args=args,\n",
        "    train_dataset=train_dataset,\n",
        "    eval_dataset=test_dataset,\n",
        "    # tokenizer=tokenizer,\n",
        "    compute_metrics=compute_metrics\n",
        ")\n",
        "\n",
        "best_run = trainer.hyperparameter_search(n_trials=5, direction=\"maximize\", hp_space=my_hp_space)"
      ],
      "execution_count": null,
      "outputs": []
    },
    {
      "cell_type": "code",
      "metadata": {
        "id": "cnHgT_mZOo76"
      },
      "source": [
        ""
      ],
      "execution_count": null,
      "outputs": []
    },
    {
      "cell_type": "markdown",
      "metadata": {
        "id": "UX_9phbzvS-w"
      },
      "source": [
        "#### **Fine tuning with native PyTorch**"
      ]
    },
    {
      "cell_type": "markdown",
      "metadata": {
        "id": "3f_2f-ifTkas"
      },
      "source": [
        "**Fine-tune the model**"
      ]
    },
    {
      "cell_type": "code",
      "metadata": {
        "id": "8YupLb6tQvCt"
      },
      "source": [
        "def epoch_time(start_time, end_time):\n",
        "  elapsed_time = end_time - start_time\n",
        "  elapsed_mins = int(elapsed_time / 60)\n",
        "  elapsed_secs = int(elapsed_time - (elapsed_mins * 60))\n",
        "  return elapsed_mins, elapsed_secs"
      ],
      "execution_count": 61,
      "outputs": []
    },
    {
      "cell_type": "code",
      "metadata": {
        "id": "Exnw9_AAPMMI"
      },
      "source": [
        "# apply different hyperpameters for specific parameter groups\n",
        "# param_optimizer = list(model.named_parameters())\n",
        "\n",
        "# optimizer_grouped_parameters = [\n",
        "#     {'params': [p for n, p in param_optimizer if not any(nd in n for nd in no_decay)],\n",
        "#      'weight_decay_rate': 0.01},\n",
        "#     {'params': [p for n, p in param_optimizer if any(nd in n for nd in no_decay)],\n",
        "#      'weight_decay_rate': 0.0}\n",
        "# ]\n",
        "# optimizer = AdamW(optimizer_grouped_parameters, lr=LEARNING_RATE)\n",
        "optimizer = AdamW(model.parameters(), lr=LEARNING_RATE)"
      ],
      "execution_count": 62,
      "outputs": []
    },
    {
      "cell_type": "code",
      "metadata": {
        "id": "9rCA2AEoB3HU",
        "colab": {
          "base_uri": "https://localhost:8080/"
        },
        "outputId": "2064be85-2356-4ca6-9162-4f7655098ddc"
      },
      "source": [
        "train_loss_set = []\n",
        "num_training_steps = EPOCHS * len(train_dataloader)\n",
        "progress_bar = tqdm(range(num_training_steps))\n",
        "model.train()\n",
        "\n",
        "for epoch in range(EPOCHS):\n",
        "  start_time = time.time()\n",
        "\n",
        "  tr_loss = 0\n",
        "  nb_tr_steps = 0\n",
        "  \n",
        "  for batch in train_dataloader:\n",
        "\n",
        "    batch = {k: v.to(device) for k, v in batch.items()}\n",
        "    outputs = model(**batch)\n",
        "    loss = outputs.loss\n",
        "    loss.backward()\n",
        "\n",
        "    optimizer.step()\n",
        "    optimizer.zero_grad()\n",
        "    progress_bar.update(1)\n",
        "\n",
        "    train_loss_set.append(loss.item())    \n",
        "    \n",
        "    tr_loss += loss.item()\n",
        "    nb_tr_steps += 1\n",
        "\n",
        "  end_time = time.time()\n",
        "\n",
        "  print(epoch_time(start_time,end_time))\n",
        "  print(\"\\nTrain loss: {}\".format(tr_loss/nb_tr_steps))"
      ],
      "execution_count": null,
      "outputs": [
        {
          "output_type": "stream",
          "name": "stderr",
          "text": [
            "\n",
            "100%|██████████| 1143/1143 [28:02<00:00,  1.47s/it]\n",
            "\n",
            "  0%|          | 1/1143 [00:01<26:18,  1.38s/it]\u001b[A\n",
            "  0%|          | 2/1143 [00:02<26:16,  1.38s/it]\u001b[A\n",
            "  0%|          | 3/1143 [00:04<26:17,  1.38s/it]\u001b[A\n",
            "  0%|          | 4/1143 [00:05<26:20,  1.39s/it]\u001b[A\n",
            "  0%|          | 5/1143 [00:06<26:17,  1.39s/it]\u001b[A\n",
            "  1%|          | 6/1143 [00:08<26:14,  1.39s/it]\u001b[A\n",
            "  1%|          | 7/1143 [00:09<26:10,  1.38s/it]\u001b[A\n",
            "  1%|          | 8/1143 [00:11<26:10,  1.38s/it]\u001b[A\n",
            "  1%|          | 9/1143 [00:12<26:09,  1.38s/it]\u001b[A\n",
            "  1%|          | 10/1143 [00:13<26:06,  1.38s/it]\u001b[A\n",
            "  1%|          | 11/1143 [00:15<26:03,  1.38s/it]\u001b[A\n",
            "  1%|          | 12/1143 [00:16<26:01,  1.38s/it]\u001b[A\n",
            "  1%|          | 13/1143 [00:17<26:02,  1.38s/it]\u001b[A\n",
            "  1%|          | 14/1143 [00:19<26:03,  1.38s/it]\u001b[A\n",
            "  1%|▏         | 15/1143 [00:20<25:59,  1.38s/it]\u001b[A\n",
            "  1%|▏         | 16/1143 [00:22<25:59,  1.38s/it]\u001b[A\n",
            "  1%|▏         | 17/1143 [00:23<25:56,  1.38s/it]\u001b[A\n",
            "  2%|▏         | 18/1143 [00:24<25:53,  1.38s/it]\u001b[A\n",
            "  2%|▏         | 19/1143 [00:26<25:51,  1.38s/it]\u001b[A\n",
            "  2%|▏         | 20/1143 [00:27<25:51,  1.38s/it]\u001b[A\n",
            "  2%|▏         | 21/1143 [00:29<25:49,  1.38s/it]\u001b[A\n",
            "  2%|▏         | 22/1143 [00:30<25:46,  1.38s/it]\u001b[A\n",
            "  2%|▏         | 23/1143 [00:31<25:45,  1.38s/it]\u001b[A\n",
            "  2%|▏         | 24/1143 [00:33<25:42,  1.38s/it]\u001b[A\n",
            "  2%|▏         | 25/1143 [00:34<25:41,  1.38s/it]\u001b[A\n",
            "  2%|▏         | 26/1143 [00:35<25:37,  1.38s/it]\u001b[A\n",
            "  2%|▏         | 27/1143 [00:37<25:37,  1.38s/it]\u001b[A\n",
            "  2%|▏         | 28/1143 [00:38<25:36,  1.38s/it]\u001b[A\n",
            "  3%|▎         | 29/1143 [00:40<25:35,  1.38s/it]\u001b[A\n",
            "  3%|▎         | 30/1143 [00:41<25:32,  1.38s/it]\u001b[A\n",
            "  3%|▎         | 31/1143 [00:42<25:28,  1.37s/it]\u001b[A\n",
            "  3%|▎         | 32/1143 [00:44<25:27,  1.37s/it]\u001b[A\n",
            "  3%|▎         | 33/1143 [00:45<25:25,  1.37s/it]\u001b[A\n",
            "  3%|▎         | 34/1143 [00:46<25:24,  1.37s/it]\u001b[A\n",
            "  3%|▎         | 35/1143 [00:48<25:21,  1.37s/it]\u001b[A\n",
            "  3%|▎         | 36/1143 [00:49<25:20,  1.37s/it]\u001b[A\n",
            "  3%|▎         | 37/1143 [00:51<25:20,  1.37s/it]\u001b[A\n",
            "  3%|▎         | 38/1143 [00:52<25:20,  1.38s/it]\u001b[A\n",
            "  3%|▎         | 39/1143 [00:53<25:18,  1.38s/it]\u001b[A\n",
            "  3%|▎         | 40/1143 [00:55<25:15,  1.37s/it]\u001b[A\n",
            "  4%|▎         | 41/1143 [00:56<25:14,  1.37s/it]\u001b[A\n",
            "  4%|▎         | 42/1143 [00:57<25:15,  1.38s/it]\u001b[A\n",
            "  4%|▍         | 43/1143 [00:59<25:12,  1.38s/it]\u001b[A\n",
            "  4%|▍         | 44/1143 [01:00<25:11,  1.37s/it]\u001b[A\n",
            "  4%|▍         | 45/1143 [01:02<25:07,  1.37s/it]\u001b[A\n",
            "  4%|▍         | 46/1143 [01:03<25:04,  1.37s/it]\u001b[A\n",
            "  4%|▍         | 47/1143 [01:04<25:02,  1.37s/it]\u001b[A\n",
            "  4%|▍         | 48/1143 [01:06<25:00,  1.37s/it]\u001b[A\n",
            "  4%|▍         | 49/1143 [01:07<25:01,  1.37s/it]\u001b[A\n",
            "  4%|▍         | 50/1143 [01:08<24:59,  1.37s/it]\u001b[A\n",
            "  4%|▍         | 51/1143 [01:10<24:58,  1.37s/it]\u001b[A\n",
            "  5%|▍         | 52/1143 [01:11<24:56,  1.37s/it]\u001b[A\n",
            "  5%|▍         | 53/1143 [01:13<24:55,  1.37s/it]\u001b[A\n",
            "  5%|▍         | 54/1143 [01:14<24:55,  1.37s/it]\u001b[A\n",
            "  5%|▍         | 55/1143 [01:15<24:55,  1.37s/it]\u001b[A\n",
            "  5%|▍         | 56/1143 [01:17<24:52,  1.37s/it]\u001b[A\n",
            "  5%|▍         | 57/1143 [01:18<24:49,  1.37s/it]\u001b[A\n",
            "  5%|▌         | 58/1143 [01:19<24:47,  1.37s/it]\u001b[A\n",
            "  5%|▌         | 59/1143 [01:21<24:44,  1.37s/it]\u001b[A\n",
            "  5%|▌         | 60/1143 [01:22<24:44,  1.37s/it]\u001b[A\n",
            "  5%|▌         | 61/1143 [01:23<24:43,  1.37s/it]\u001b[A\n",
            "  5%|▌         | 62/1143 [01:25<24:40,  1.37s/it]\u001b[A\n",
            "  6%|▌         | 63/1143 [01:26<24:39,  1.37s/it]\u001b[A\n",
            "  6%|▌         | 64/1143 [01:28<24:39,  1.37s/it]\u001b[A\n",
            "  6%|▌         | 65/1143 [01:29<24:40,  1.37s/it]\u001b[A\n",
            "  6%|▌         | 66/1143 [01:30<24:38,  1.37s/it]\u001b[A\n",
            "  6%|▌         | 67/1143 [01:32<24:35,  1.37s/it]\u001b[A\n",
            "  6%|▌         | 68/1143 [01:33<24:34,  1.37s/it]\u001b[A\n",
            "  6%|▌         | 69/1143 [01:34<24:32,  1.37s/it]\u001b[A\n",
            "  6%|▌         | 70/1143 [01:36<24:29,  1.37s/it]\u001b[A\n",
            "  6%|▌         | 71/1143 [01:37<24:29,  1.37s/it]\u001b[A\n",
            "  6%|▋         | 72/1143 [01:39<24:26,  1.37s/it]\u001b[A\n",
            "  6%|▋         | 73/1143 [01:40<24:26,  1.37s/it]\u001b[A\n",
            "  6%|▋         | 74/1143 [01:41<24:23,  1.37s/it]\u001b[A\n",
            "  7%|▋         | 75/1143 [01:43<24:21,  1.37s/it]\u001b[A\n",
            "  7%|▋         | 76/1143 [01:44<24:19,  1.37s/it]\u001b[A\n",
            "  7%|▋         | 77/1143 [01:45<24:19,  1.37s/it]\u001b[A\n",
            "  7%|▋         | 78/1143 [01:47<24:20,  1.37s/it]\u001b[A\n",
            "  7%|▋         | 79/1143 [01:48<24:19,  1.37s/it]\u001b[A\n",
            "  7%|▋         | 80/1143 [01:50<24:16,  1.37s/it]\u001b[A\n",
            "  7%|▋         | 81/1143 [01:51<24:14,  1.37s/it]\u001b[A\n",
            "  7%|▋         | 82/1143 [01:52<24:13,  1.37s/it]\u001b[A\n",
            "  7%|▋         | 83/1143 [01:54<24:12,  1.37s/it]\u001b[A\n",
            "  7%|▋         | 84/1143 [01:55<24:10,  1.37s/it]\u001b[A\n",
            "  7%|▋         | 85/1143 [01:56<24:09,  1.37s/it]\u001b[A\n",
            "  8%|▊         | 86/1143 [01:58<24:07,  1.37s/it]\u001b[A\n",
            "  8%|▊         | 87/1143 [01:59<24:05,  1.37s/it]\u001b[A\n",
            "  8%|▊         | 88/1143 [02:00<24:04,  1.37s/it]\u001b[A\n",
            "  8%|▊         | 89/1143 [02:02<24:03,  1.37s/it]\u001b[A\n",
            "  8%|▊         | 90/1143 [02:03<24:02,  1.37s/it]\u001b[A\n",
            "  8%|▊         | 91/1143 [02:05<24:00,  1.37s/it]\u001b[A\n",
            "  8%|▊         | 92/1143 [02:06<23:59,  1.37s/it]\u001b[A\n",
            "  8%|▊         | 93/1143 [02:07<23:58,  1.37s/it]\u001b[A\n",
            "  8%|▊         | 94/1143 [02:09<23:58,  1.37s/it]\u001b[A\n",
            "  8%|▊         | 95/1143 [02:10<23:55,  1.37s/it]\u001b[A\n",
            "  8%|▊         | 96/1143 [02:11<23:54,  1.37s/it]\u001b[A\n",
            "  8%|▊         | 97/1143 [02:13<23:53,  1.37s/it]\u001b[A\n",
            "  9%|▊         | 98/1143 [02:14<23:51,  1.37s/it]\u001b[A\n",
            "  9%|▊         | 99/1143 [02:16<23:50,  1.37s/it]\u001b[A\n",
            "  9%|▊         | 100/1143 [02:17<23:49,  1.37s/it]\u001b[A\n",
            "  9%|▉         | 101/1143 [02:18<23:47,  1.37s/it]\u001b[A\n",
            "  9%|▉         | 102/1143 [02:20<23:45,  1.37s/it]\u001b[A\n",
            "  9%|▉         | 103/1143 [02:21<23:44,  1.37s/it]\u001b[A\n",
            "  9%|▉         | 104/1143 [02:22<23:42,  1.37s/it]\u001b[A\n",
            "  9%|▉         | 105/1143 [02:24<23:44,  1.37s/it]\u001b[A\n",
            "  9%|▉         | 106/1143 [02:25<23:42,  1.37s/it]\u001b[A\n",
            "  9%|▉         | 107/1143 [02:27<23:39,  1.37s/it]\u001b[A\n",
            "  9%|▉         | 108/1143 [02:28<23:37,  1.37s/it]\u001b[A\n",
            " 10%|▉         | 109/1143 [02:29<23:34,  1.37s/it]\u001b[A\n",
            " 10%|▉         | 110/1143 [02:31<23:33,  1.37s/it]\u001b[A\n",
            " 10%|▉         | 111/1143 [02:32<23:32,  1.37s/it]\u001b[A\n",
            " 10%|▉         | 112/1143 [02:33<23:29,  1.37s/it]\u001b[A\n",
            " 10%|▉         | 113/1143 [02:35<23:29,  1.37s/it]\u001b[A\n",
            " 10%|▉         | 114/1143 [02:36<23:27,  1.37s/it]\u001b[A\n",
            " 10%|█         | 115/1143 [02:37<23:26,  1.37s/it]\u001b[A\n",
            " 10%|█         | 116/1143 [02:39<23:25,  1.37s/it]\u001b[A\n",
            " 10%|█         | 117/1143 [02:40<23:25,  1.37s/it]\u001b[A\n",
            " 10%|█         | 118/1143 [02:42<23:25,  1.37s/it]\u001b[A\n",
            " 10%|█         | 119/1143 [02:43<23:22,  1.37s/it]\u001b[A\n",
            " 10%|█         | 120/1143 [02:44<23:21,  1.37s/it]\u001b[A\n",
            " 11%|█         | 121/1143 [02:46<23:19,  1.37s/it]\u001b[A\n",
            " 11%|█         | 122/1143 [02:47<23:16,  1.37s/it]\u001b[A\n",
            " 11%|█         | 123/1143 [02:48<23:15,  1.37s/it]\u001b[A\n",
            " 11%|█         | 124/1143 [02:50<23:14,  1.37s/it]\u001b[A\n",
            " 11%|█         | 125/1143 [02:51<23:13,  1.37s/it]\u001b[A\n",
            " 11%|█         | 126/1143 [02:53<23:12,  1.37s/it]\u001b[A\n",
            " 11%|█         | 127/1143 [02:54<23:10,  1.37s/it]\u001b[A\n",
            " 11%|█         | 128/1143 [02:55<23:07,  1.37s/it]\u001b[A\n",
            " 11%|█▏        | 129/1143 [02:57<23:08,  1.37s/it]\u001b[A\n",
            " 11%|█▏        | 130/1143 [02:58<23:08,  1.37s/it]\u001b[A\n",
            " 11%|█▏        | 131/1143 [02:59<23:05,  1.37s/it]\u001b[A\n",
            " 12%|█▏        | 132/1143 [03:01<23:03,  1.37s/it]\u001b[A\n",
            " 12%|█▏        | 133/1143 [03:02<23:02,  1.37s/it]\u001b[A\n",
            " 12%|█▏        | 134/1143 [03:03<23:00,  1.37s/it]\u001b[A\n",
            " 12%|█▏        | 135/1143 [03:05<22:59,  1.37s/it]\u001b[A\n",
            " 12%|█▏        | 136/1143 [03:06<22:57,  1.37s/it]\u001b[A\n",
            " 12%|█▏        | 137/1143 [03:08<22:57,  1.37s/it]\u001b[A\n",
            " 12%|█▏        | 138/1143 [03:09<22:56,  1.37s/it]\u001b[A\n",
            " 12%|█▏        | 139/1143 [03:10<22:54,  1.37s/it]\u001b[A\n",
            " 12%|█▏        | 140/1143 [03:12<22:53,  1.37s/it]\u001b[A\n",
            " 12%|█▏        | 141/1143 [03:13<22:53,  1.37s/it]\u001b[A\n",
            " 12%|█▏        | 142/1143 [03:14<22:51,  1.37s/it]\u001b[A\n",
            " 13%|█▎        | 143/1143 [03:16<22:51,  1.37s/it]\u001b[A\n",
            " 13%|█▎        | 144/1143 [03:17<22:49,  1.37s/it]\u001b[A\n",
            " 13%|█▎        | 145/1143 [03:19<22:45,  1.37s/it]\u001b[A\n",
            " 13%|█▎        | 146/1143 [03:20<22:44,  1.37s/it]\u001b[A\n",
            " 13%|█▎        | 147/1143 [03:21<22:41,  1.37s/it]\u001b[A\n",
            " 13%|█▎        | 148/1143 [03:23<22:40,  1.37s/it]\u001b[A\n",
            " 13%|█▎        | 149/1143 [03:24<22:39,  1.37s/it]\u001b[A\n",
            " 13%|█▎        | 150/1143 [03:25<22:38,  1.37s/it]\u001b[A\n",
            " 13%|█▎        | 151/1143 [03:27<22:38,  1.37s/it]\u001b[A\n",
            " 13%|█▎        | 152/1143 [03:28<22:35,  1.37s/it]\u001b[A\n",
            " 13%|█▎        | 153/1143 [03:29<22:35,  1.37s/it]\u001b[A\n",
            " 13%|█▎        | 154/1143 [03:31<22:36,  1.37s/it]\u001b[A\n",
            " 14%|█▎        | 155/1143 [03:32<22:33,  1.37s/it]\u001b[A\n",
            " 14%|█▎        | 156/1143 [03:34<22:31,  1.37s/it]\u001b[A\n",
            " 14%|█▎        | 157/1143 [03:35<22:29,  1.37s/it]\u001b[A\n",
            " 14%|█▍        | 158/1143 [03:36<22:27,  1.37s/it]\u001b[A\n",
            " 14%|█▍        | 159/1143 [03:38<22:25,  1.37s/it]\u001b[A\n",
            " 14%|█▍        | 160/1143 [03:39<22:24,  1.37s/it]\u001b[A\n",
            " 14%|█▍        | 161/1143 [03:40<22:22,  1.37s/it]\u001b[A\n",
            " 14%|█▍        | 162/1143 [03:42<22:21,  1.37s/it]\u001b[A\n",
            " 14%|█▍        | 163/1143 [03:43<22:20,  1.37s/it]\u001b[A\n",
            " 14%|█▍        | 164/1143 [03:45<22:19,  1.37s/it]\u001b[A\n",
            " 14%|█▍        | 165/1143 [03:46<22:18,  1.37s/it]\u001b[A\n",
            " 15%|█▍        | 166/1143 [03:47<22:17,  1.37s/it]\u001b[A\n",
            " 15%|█▍        | 167/1143 [03:49<22:18,  1.37s/it]\u001b[A\n",
            " 15%|█▍        | 168/1143 [03:50<22:16,  1.37s/it]\u001b[A\n",
            " 15%|█▍        | 169/1143 [03:51<22:14,  1.37s/it]\u001b[A\n",
            " 15%|█▍        | 170/1143 [03:53<22:13,  1.37s/it]\u001b[A\n",
            " 15%|█▍        | 171/1143 [03:54<22:12,  1.37s/it]\u001b[A\n",
            " 15%|█▌        | 172/1143 [03:55<22:08,  1.37s/it]\u001b[A\n",
            " 15%|█▌        | 173/1143 [03:57<22:08,  1.37s/it]\u001b[A\n",
            " 15%|█▌        | 174/1143 [03:58<22:05,  1.37s/it]\u001b[A\n",
            " 15%|█▌        | 175/1143 [04:00<22:04,  1.37s/it]\u001b[A\n",
            " 15%|█▌        | 176/1143 [04:01<22:00,  1.37s/it]\u001b[A\n",
            " 15%|█▌        | 177/1143 [04:02<21:57,  1.36s/it]\u001b[A\n",
            " 16%|█▌        | 178/1143 [04:04<21:58,  1.37s/it]\u001b[A\n",
            " 16%|█▌        | 179/1143 [04:05<21:58,  1.37s/it]\u001b[A\n",
            " 16%|█▌        | 180/1143 [04:06<21:57,  1.37s/it]\u001b[A\n",
            " 16%|█▌        | 181/1143 [04:08<21:56,  1.37s/it]\u001b[A\n",
            " 16%|█▌        | 182/1143 [04:09<21:54,  1.37s/it]\u001b[A\n",
            " 16%|█▌        | 183/1143 [04:11<21:52,  1.37s/it]\u001b[A\n",
            " 16%|█▌        | 184/1143 [04:12<21:52,  1.37s/it]\u001b[A\n",
            " 16%|█▌        | 185/1143 [04:13<21:49,  1.37s/it]\u001b[A\n",
            " 16%|█▋        | 186/1143 [04:15<21:49,  1.37s/it]\u001b[A\n",
            " 16%|█▋        | 187/1143 [04:16<21:48,  1.37s/it]\u001b[A\n",
            " 16%|█▋        | 188/1143 [04:17<21:46,  1.37s/it]\u001b[A\n",
            " 17%|█▋        | 189/1143 [04:19<21:44,  1.37s/it]\u001b[A\n",
            " 17%|█▋        | 190/1143 [04:20<21:42,  1.37s/it]\u001b[A\n",
            " 17%|█▋        | 191/1143 [04:21<21:42,  1.37s/it]\u001b[A\n",
            " 17%|█▋        | 192/1143 [04:23<21:42,  1.37s/it]\u001b[A\n",
            " 17%|█▋        | 193/1143 [04:24<21:41,  1.37s/it]\u001b[A\n",
            " 17%|█▋        | 194/1143 [04:26<21:40,  1.37s/it]\u001b[A\n",
            " 17%|█▋        | 195/1143 [04:27<21:40,  1.37s/it]\u001b[A\n",
            " 17%|█▋        | 196/1143 [04:28<21:35,  1.37s/it]\u001b[A\n",
            " 17%|█▋        | 197/1143 [04:30<21:33,  1.37s/it]\u001b[A\n",
            " 17%|█▋        | 198/1143 [04:31<21:34,  1.37s/it]\u001b[A\n",
            " 17%|█▋        | 199/1143 [04:32<21:32,  1.37s/it]\u001b[A\n",
            " 17%|█▋        | 200/1143 [04:34<21:30,  1.37s/it]\u001b[A\n",
            " 18%|█▊        | 201/1143 [04:35<21:28,  1.37s/it]\u001b[A\n",
            " 18%|█▊        | 202/1143 [04:37<21:29,  1.37s/it]\u001b[A\n",
            " 18%|█▊        | 203/1143 [04:38<21:27,  1.37s/it]\u001b[A\n",
            " 18%|█▊        | 204/1143 [04:39<21:24,  1.37s/it]\u001b[A\n",
            " 18%|█▊        | 205/1143 [04:41<21:25,  1.37s/it]\u001b[A\n",
            " 18%|█▊        | 206/1143 [04:42<21:24,  1.37s/it]\u001b[A\n",
            " 18%|█▊        | 207/1143 [04:43<21:22,  1.37s/it]\u001b[A\n",
            " 18%|█▊        | 208/1143 [04:45<21:20,  1.37s/it]\u001b[A\n",
            " 18%|█▊        | 209/1143 [04:46<21:18,  1.37s/it]\u001b[A\n",
            " 18%|█▊        | 210/1143 [04:47<21:16,  1.37s/it]\u001b[A\n",
            " 18%|█▊        | 211/1143 [04:49<21:14,  1.37s/it]\u001b[A\n",
            " 19%|█▊        | 212/1143 [04:50<21:15,  1.37s/it]\u001b[A\n",
            " 19%|█▊        | 213/1143 [04:52<21:12,  1.37s/it]\u001b[A\n",
            " 19%|█▊        | 214/1143 [04:53<21:12,  1.37s/it]\u001b[A\n",
            " 19%|█▉        | 215/1143 [04:54<21:09,  1.37s/it]\u001b[A\n",
            " 19%|█▉        | 216/1143 [04:56<21:09,  1.37s/it]\u001b[A\n",
            " 19%|█▉        | 217/1143 [04:57<21:08,  1.37s/it]\u001b[A\n",
            " 19%|█▉        | 218/1143 [04:58<21:07,  1.37s/it]\u001b[A\n",
            " 19%|█▉        | 219/1143 [05:00<21:03,  1.37s/it]\u001b[A\n",
            " 19%|█▉        | 220/1143 [05:01<21:02,  1.37s/it]\u001b[A\n",
            " 19%|█▉        | 221/1143 [05:03<21:01,  1.37s/it]\u001b[A\n",
            " 19%|█▉        | 222/1143 [05:04<20:59,  1.37s/it]\u001b[A\n",
            " 20%|█▉        | 223/1143 [05:05<20:58,  1.37s/it]\u001b[A\n",
            " 20%|█▉        | 224/1143 [05:07<20:57,  1.37s/it]\u001b[A\n",
            " 20%|█▉        | 225/1143 [05:08<20:56,  1.37s/it]\u001b[A\n",
            " 20%|█▉        | 226/1143 [05:09<20:52,  1.37s/it]\u001b[A\n",
            " 20%|█▉        | 227/1143 [05:11<20:51,  1.37s/it]\u001b[A\n",
            " 20%|█▉        | 228/1143 [05:12<20:50,  1.37s/it]\u001b[A\n",
            " 20%|██        | 229/1143 [05:13<20:49,  1.37s/it]\u001b[A\n",
            " 20%|██        | 230/1143 [05:15<20:49,  1.37s/it]\u001b[A\n",
            " 20%|██        | 231/1143 [05:16<20:48,  1.37s/it]\u001b[A\n",
            " 20%|██        | 232/1143 [05:18<20:48,  1.37s/it]\u001b[A\n",
            " 20%|██        | 233/1143 [05:19<20:46,  1.37s/it]\u001b[A\n",
            " 20%|██        | 234/1143 [05:20<20:44,  1.37s/it]\u001b[A\n",
            " 21%|██        | 235/1143 [05:22<20:43,  1.37s/it]\u001b[A\n",
            " 21%|██        | 236/1143 [05:23<20:41,  1.37s/it]\u001b[A\n",
            " 21%|██        | 237/1143 [05:24<20:40,  1.37s/it]\u001b[A\n",
            " 21%|██        | 238/1143 [05:26<20:38,  1.37s/it]\u001b[A\n",
            " 21%|██        | 239/1143 [05:27<20:36,  1.37s/it]\u001b[A\n",
            " 21%|██        | 240/1143 [05:29<20:35,  1.37s/it]\u001b[A\n",
            " 21%|██        | 241/1143 [05:30<20:34,  1.37s/it]\u001b[A\n",
            " 21%|██        | 242/1143 [05:31<20:35,  1.37s/it]\u001b[A\n",
            " 21%|██▏       | 243/1143 [05:33<20:33,  1.37s/it]\u001b[A\n",
            " 21%|██▏       | 244/1143 [05:34<20:32,  1.37s/it]\u001b[A\n",
            " 21%|██▏       | 245/1143 [05:35<20:29,  1.37s/it]\u001b[A\n",
            " 22%|██▏       | 246/1143 [05:37<20:27,  1.37s/it]\u001b[A\n",
            " 22%|██▏       | 247/1143 [05:38<20:26,  1.37s/it]\u001b[A\n",
            " 22%|██▏       | 248/1143 [05:40<20:25,  1.37s/it]\u001b[A\n",
            " 22%|██▏       | 249/1143 [05:41<20:23,  1.37s/it]\u001b[A\n",
            " 22%|██▏       | 250/1143 [05:42<20:21,  1.37s/it]\u001b[A\n",
            " 22%|██▏       | 251/1143 [05:44<20:20,  1.37s/it]\u001b[A\n",
            " 22%|██▏       | 252/1143 [05:45<20:19,  1.37s/it]\u001b[A\n",
            " 22%|██▏       | 253/1143 [05:46<20:17,  1.37s/it]\u001b[A\n",
            " 22%|██▏       | 254/1143 [05:48<20:16,  1.37s/it]\u001b[A\n",
            " 22%|██▏       | 255/1143 [05:49<20:15,  1.37s/it]\u001b[A\n",
            " 22%|██▏       | 256/1143 [05:50<20:15,  1.37s/it]\u001b[A\n",
            " 22%|██▏       | 257/1143 [05:52<20:11,  1.37s/it]\u001b[A\n",
            " 23%|██▎       | 258/1143 [05:53<20:11,  1.37s/it]\u001b[A\n",
            " 23%|██▎       | 259/1143 [05:55<20:08,  1.37s/it]\u001b[A\n",
            " 23%|██▎       | 260/1143 [05:56<20:07,  1.37s/it]\u001b[A\n",
            " 23%|██▎       | 261/1143 [05:57<20:06,  1.37s/it]\u001b[A\n",
            " 23%|██▎       | 262/1143 [05:59<20:05,  1.37s/it]\u001b[A\n",
            " 23%|██▎       | 263/1143 [06:00<20:03,  1.37s/it]\u001b[A\n",
            " 23%|██▎       | 264/1143 [06:01<20:01,  1.37s/it]\u001b[A\n",
            " 23%|██▎       | 265/1143 [06:03<20:00,  1.37s/it]\u001b[A\n",
            " 23%|██▎       | 266/1143 [06:04<20:00,  1.37s/it]\u001b[A\n",
            " 23%|██▎       | 267/1143 [06:06<19:59,  1.37s/it]\u001b[A\n",
            " 23%|██▎       | 268/1143 [06:07<19:57,  1.37s/it]\u001b[A\n",
            " 24%|██▎       | 269/1143 [06:08<19:56,  1.37s/it]\u001b[A\n",
            " 24%|██▎       | 270/1143 [06:10<19:56,  1.37s/it]\u001b[A\n",
            " 24%|██▎       | 271/1143 [06:11<19:54,  1.37s/it]\u001b[A\n",
            " 24%|██▍       | 272/1143 [06:12<19:51,  1.37s/it]\u001b[A\n",
            " 24%|██▍       | 273/1143 [06:14<19:49,  1.37s/it]\u001b[A\n",
            " 24%|██▍       | 274/1143 [06:15<19:48,  1.37s/it]\u001b[A\n",
            " 24%|██▍       | 275/1143 [06:16<19:46,  1.37s/it]\u001b[A\n",
            " 24%|██▍       | 276/1143 [06:18<19:44,  1.37s/it]\u001b[A\n",
            " 24%|██▍       | 277/1143 [06:19<19:43,  1.37s/it]\u001b[A\n",
            " 24%|██▍       | 278/1143 [06:21<19:43,  1.37s/it]\u001b[A\n",
            " 24%|██▍       | 279/1143 [06:22<19:43,  1.37s/it]\u001b[A\n",
            " 24%|██▍       | 280/1143 [06:23<19:41,  1.37s/it]\u001b[A\n",
            " 25%|██▍       | 281/1143 [06:25<19:41,  1.37s/it]\u001b[A\n",
            " 25%|██▍       | 282/1143 [06:26<19:39,  1.37s/it]\u001b[A\n",
            " 25%|██▍       | 283/1143 [06:27<19:37,  1.37s/it]\u001b[A\n",
            " 25%|██▍       | 284/1143 [06:29<19:35,  1.37s/it]\u001b[A\n",
            " 25%|██▍       | 285/1143 [06:30<19:34,  1.37s/it]\u001b[A\n",
            " 25%|██▌       | 286/1143 [06:32<19:34,  1.37s/it]\u001b[A\n",
            " 25%|██▌       | 287/1143 [06:33<19:32,  1.37s/it]\u001b[A\n",
            " 25%|██▌       | 288/1143 [06:34<19:29,  1.37s/it]\u001b[A\n",
            " 25%|██▌       | 289/1143 [06:36<19:29,  1.37s/it]\u001b[A\n",
            " 25%|██▌       | 290/1143 [06:37<19:27,  1.37s/it]\u001b[A\n",
            " 25%|██▌       | 291/1143 [06:38<19:27,  1.37s/it]\u001b[A\n",
            " 26%|██▌       | 292/1143 [06:40<19:25,  1.37s/it]\u001b[A\n",
            " 26%|██▌       | 293/1143 [06:41<19:23,  1.37s/it]\u001b[A\n",
            " 26%|██▌       | 294/1143 [06:42<19:22,  1.37s/it]\u001b[A\n",
            " 26%|██▌       | 295/1143 [06:44<19:22,  1.37s/it]\u001b[A\n",
            " 26%|██▌       | 296/1143 [06:45<19:21,  1.37s/it]\u001b[A\n",
            " 26%|██▌       | 297/1143 [06:47<19:18,  1.37s/it]\u001b[A\n",
            " 26%|██▌       | 298/1143 [06:48<19:16,  1.37s/it]\u001b[A\n",
            " 26%|██▌       | 299/1143 [06:49<19:14,  1.37s/it]\u001b[A\n",
            " 26%|██▌       | 300/1143 [06:51<19:14,  1.37s/it]\u001b[A\n",
            " 26%|██▋       | 301/1143 [06:52<19:12,  1.37s/it]\u001b[A\n",
            " 26%|██▋       | 302/1143 [06:53<19:10,  1.37s/it]\u001b[A\n",
            " 27%|██▋       | 303/1143 [06:55<19:08,  1.37s/it]\u001b[A\n",
            " 27%|██▋       | 304/1143 [06:56<19:07,  1.37s/it]\u001b[A\n",
            " 27%|██▋       | 305/1143 [06:58<19:06,  1.37s/it]\u001b[A\n",
            " 27%|██▋       | 306/1143 [06:59<19:06,  1.37s/it]\u001b[A\n",
            " 27%|██▋       | 307/1143 [07:00<19:04,  1.37s/it]\u001b[A\n",
            " 27%|██▋       | 308/1143 [07:02<19:02,  1.37s/it]\u001b[A\n",
            " 27%|██▋       | 309/1143 [07:03<19:00,  1.37s/it]\u001b[A\n",
            " 27%|██▋       | 310/1143 [07:04<19:00,  1.37s/it]\u001b[A\n",
            " 27%|██▋       | 311/1143 [07:06<18:57,  1.37s/it]\u001b[A\n",
            " 27%|██▋       | 312/1143 [07:07<18:55,  1.37s/it]\u001b[A\n",
            " 27%|██▋       | 313/1143 [07:08<18:54,  1.37s/it]\u001b[A\n",
            " 27%|██▋       | 314/1143 [07:10<18:53,  1.37s/it]\u001b[A\n",
            " 28%|██▊       | 315/1143 [07:11<18:52,  1.37s/it]\u001b[A\n",
            " 28%|██▊       | 316/1143 [07:13<18:51,  1.37s/it]\u001b[A\n",
            " 28%|██▊       | 317/1143 [07:14<18:51,  1.37s/it]\u001b[A\n",
            " 28%|██▊       | 318/1143 [07:15<18:49,  1.37s/it]\u001b[A\n",
            " 28%|██▊       | 319/1143 [07:17<18:49,  1.37s/it]\u001b[A\n",
            " 28%|██▊       | 320/1143 [07:18<18:48,  1.37s/it]\u001b[A\n",
            " 28%|██▊       | 321/1143 [07:19<18:45,  1.37s/it]\u001b[A\n",
            " 28%|██▊       | 322/1143 [07:21<18:44,  1.37s/it]\u001b[A\n",
            " 28%|██▊       | 323/1143 [07:22<18:43,  1.37s/it]\u001b[A\n",
            " 28%|██▊       | 324/1143 [07:24<18:40,  1.37s/it]\u001b[A\n",
            " 28%|██▊       | 325/1143 [07:25<18:39,  1.37s/it]\u001b[A\n",
            " 29%|██▊       | 326/1143 [07:26<18:38,  1.37s/it]\u001b[A\n",
            " 29%|██▊       | 327/1143 [07:28<18:38,  1.37s/it]\u001b[A\n",
            " 29%|██▊       | 328/1143 [07:29<18:36,  1.37s/it]\u001b[A\n",
            " 29%|██▉       | 329/1143 [07:30<18:34,  1.37s/it]\u001b[A\n",
            " 29%|██▉       | 330/1143 [07:32<18:33,  1.37s/it]\u001b[A\n",
            " 29%|██▉       | 331/1143 [07:33<18:33,  1.37s/it]\u001b[A\n",
            " 29%|██▉       | 332/1143 [07:34<18:31,  1.37s/it]\u001b[A\n",
            " 29%|██▉       | 333/1143 [07:36<18:31,  1.37s/it]\u001b[A\n",
            " 29%|██▉       | 334/1143 [07:37<18:28,  1.37s/it]\u001b[A\n",
            " 29%|██▉       | 335/1143 [07:39<18:25,  1.37s/it]\u001b[A\n",
            " 29%|██▉       | 336/1143 [07:40<18:23,  1.37s/it]\u001b[A\n",
            " 29%|██▉       | 337/1143 [07:41<18:21,  1.37s/it]\u001b[A\n",
            " 30%|██▉       | 338/1143 [07:43<18:20,  1.37s/it]\u001b[A\n",
            " 30%|██▉       | 339/1143 [07:44<18:18,  1.37s/it]\u001b[A\n",
            " 30%|██▉       | 340/1143 [07:45<18:18,  1.37s/it]\u001b[A\n",
            " 30%|██▉       | 341/1143 [07:47<18:17,  1.37s/it]\u001b[A\n",
            " 30%|██▉       | 342/1143 [07:48<18:15,  1.37s/it]\u001b[A\n",
            " 30%|███       | 343/1143 [07:50<18:14,  1.37s/it]\u001b[A\n",
            " 30%|███       | 344/1143 [07:51<18:15,  1.37s/it]\u001b[A\n",
            " 30%|███       | 345/1143 [07:52<18:14,  1.37s/it]\u001b[A\n",
            " 30%|███       | 346/1143 [07:54<18:12,  1.37s/it]\u001b[A\n",
            " 30%|███       | 347/1143 [07:55<18:09,  1.37s/it]\u001b[A\n",
            " 30%|███       | 348/1143 [07:56<18:07,  1.37s/it]\u001b[A\n",
            " 31%|███       | 349/1143 [07:58<18:06,  1.37s/it]\u001b[A\n",
            " 31%|███       | 350/1143 [07:59<18:06,  1.37s/it]\u001b[A\n",
            " 31%|███       | 351/1143 [08:00<18:03,  1.37s/it]\u001b[A\n",
            " 31%|███       | 352/1143 [08:02<18:03,  1.37s/it]\u001b[A\n",
            " 31%|███       | 353/1143 [08:03<18:03,  1.37s/it]\u001b[A\n",
            " 31%|███       | 354/1143 [08:05<18:00,  1.37s/it]\u001b[A\n",
            " 31%|███       | 355/1143 [08:06<17:59,  1.37s/it]\u001b[A\n",
            " 31%|███       | 356/1143 [08:07<17:59,  1.37s/it]\u001b[A\n",
            " 31%|███       | 357/1143 [08:09<17:59,  1.37s/it]\u001b[A\n",
            " 31%|███▏      | 358/1143 [08:10<17:57,  1.37s/it]\u001b[A\n",
            " 31%|███▏      | 359/1143 [08:11<17:56,  1.37s/it]\u001b[A\n",
            " 31%|███▏      | 360/1143 [08:13<17:52,  1.37s/it]\u001b[A\n",
            " 32%|███▏      | 361/1143 [08:14<17:50,  1.37s/it]\u001b[A\n",
            " 32%|███▏      | 362/1143 [08:16<17:48,  1.37s/it]\u001b[A\n",
            " 32%|███▏      | 363/1143 [08:17<17:47,  1.37s/it]\u001b[A\n",
            " 32%|███▏      | 364/1143 [08:18<17:46,  1.37s/it]\u001b[A\n",
            " 32%|███▏      | 365/1143 [08:20<17:45,  1.37s/it]\u001b[A\n",
            " 32%|███▏      | 366/1143 [08:21<17:44,  1.37s/it]\u001b[A\n",
            " 32%|███▏      | 367/1143 [08:22<17:42,  1.37s/it]\u001b[A\n",
            " 32%|███▏      | 368/1143 [08:24<17:41,  1.37s/it]\u001b[A\n",
            " 32%|███▏      | 369/1143 [08:25<17:40,  1.37s/it]\u001b[A\n",
            " 32%|███▏      | 370/1143 [08:27<17:39,  1.37s/it]\u001b[A\n",
            " 32%|███▏      | 371/1143 [08:28<17:36,  1.37s/it]\u001b[A\n",
            " 33%|███▎      | 372/1143 [08:29<17:34,  1.37s/it]\u001b[A\n",
            " 33%|███▎      | 373/1143 [08:31<17:30,  1.36s/it]\u001b[A\n",
            " 33%|███▎      | 374/1143 [08:32<17:29,  1.37s/it]\u001b[A\n",
            " 33%|███▎      | 375/1143 [08:33<17:30,  1.37s/it]\u001b[A\n",
            " 33%|███▎      | 376/1143 [08:35<17:30,  1.37s/it]\u001b[A\n",
            " 33%|███▎      | 377/1143 [08:36<17:26,  1.37s/it]\u001b[A\n",
            " 33%|███▎      | 378/1143 [08:37<17:25,  1.37s/it]\u001b[A\n",
            " 33%|███▎      | 379/1143 [08:39<17:24,  1.37s/it]\u001b[A\n",
            " 33%|███▎      | 380/1143 [08:40<17:25,  1.37s/it]\u001b[A\n",
            " 33%|███▎      | 381/1143 [08:41<13:43,  1.08s/it]\u001b[A"
          ]
        },
        {
          "output_type": "stream",
          "name": "stdout",
          "text": [
            "(8, 41)\n",
            "\n",
            "Train loss: 0.2646889275482555\n"
          ]
        },
        {
          "output_type": "stream",
          "name": "stderr",
          "text": [
            "\n",
            " 33%|███▎      | 382/1143 [08:42<14:48,  1.17s/it]\u001b[A\n",
            " 34%|███▎      | 383/1143 [08:43<15:33,  1.23s/it]\u001b[A\n",
            " 34%|███▎      | 384/1143 [08:45<16:05,  1.27s/it]\u001b[A\n",
            " 34%|███▎      | 385/1143 [08:46<16:26,  1.30s/it]\u001b[A\n",
            " 34%|███▍      | 386/1143 [08:47<16:41,  1.32s/it]\u001b[A\n",
            " 34%|███▍      | 387/1143 [08:49<16:50,  1.34s/it]\u001b[A\n",
            " 34%|███▍      | 388/1143 [08:50<16:56,  1.35s/it]\u001b[A\n",
            " 34%|███▍      | 389/1143 [08:52<17:01,  1.35s/it]\u001b[A\n",
            " 34%|███▍      | 390/1143 [08:53<17:02,  1.36s/it]\u001b[A\n",
            " 34%|███▍      | 391/1143 [08:54<17:03,  1.36s/it]\u001b[A\n",
            " 34%|███▍      | 392/1143 [08:56<17:03,  1.36s/it]\u001b[A\n",
            " 34%|███▍      | 393/1143 [08:57<17:03,  1.37s/it]\u001b[A\n",
            " 34%|███▍      | 394/1143 [08:58<17:03,  1.37s/it]\u001b[A\n",
            " 35%|███▍      | 395/1143 [09:00<17:03,  1.37s/it]\u001b[A\n",
            " 35%|███▍      | 396/1143 [09:01<17:02,  1.37s/it]\u001b[A\n",
            " 35%|███▍      | 397/1143 [09:03<17:02,  1.37s/it]\u001b[A\n",
            " 35%|███▍      | 398/1143 [09:04<16:59,  1.37s/it]\u001b[A\n",
            " 35%|███▍      | 399/1143 [09:05<16:58,  1.37s/it]\u001b[A\n",
            " 35%|███▍      | 400/1143 [09:07<16:57,  1.37s/it]\u001b[A\n",
            " 35%|███▌      | 401/1143 [09:08<16:56,  1.37s/it]\u001b[A\n",
            " 35%|███▌      | 402/1143 [09:09<16:53,  1.37s/it]\u001b[A\n",
            " 35%|███▌      | 403/1143 [09:11<16:52,  1.37s/it]\u001b[A\n",
            " 35%|███▌      | 404/1143 [09:12<16:50,  1.37s/it]\u001b[A\n",
            " 35%|███▌      | 405/1143 [09:13<16:49,  1.37s/it]\u001b[A\n",
            " 36%|███▌      | 406/1143 [09:15<16:47,  1.37s/it]\u001b[A\n",
            " 36%|███▌      | 407/1143 [09:16<16:47,  1.37s/it]\u001b[A\n",
            " 36%|███▌      | 408/1143 [09:18<16:45,  1.37s/it]\u001b[A\n",
            " 36%|███▌      | 409/1143 [09:19<16:44,  1.37s/it]\u001b[A\n",
            " 36%|███▌      | 410/1143 [09:20<16:42,  1.37s/it]\u001b[A\n",
            " 36%|███▌      | 411/1143 [09:22<16:40,  1.37s/it]\u001b[A\n",
            " 36%|███▌      | 412/1143 [09:23<16:38,  1.37s/it]\u001b[A\n",
            " 36%|███▌      | 413/1143 [09:24<16:37,  1.37s/it]\u001b[A\n",
            " 36%|███▌      | 414/1143 [09:26<16:35,  1.37s/it]\u001b[A\n",
            " 36%|███▋      | 415/1143 [09:27<16:34,  1.37s/it]\u001b[A\n",
            " 36%|███▋      | 416/1143 [09:29<16:34,  1.37s/it]\u001b[A\n",
            " 36%|███▋      | 417/1143 [09:30<16:33,  1.37s/it]\u001b[A\n",
            " 37%|███▋      | 418/1143 [09:31<16:30,  1.37s/it]\u001b[A\n",
            " 37%|███▋      | 419/1143 [09:33<16:28,  1.37s/it]\u001b[A\n",
            " 37%|███▋      | 420/1143 [09:34<16:27,  1.37s/it]\u001b[A\n",
            " 37%|███▋      | 421/1143 [09:35<16:27,  1.37s/it]\u001b[A\n",
            " 37%|███▋      | 422/1143 [09:37<16:26,  1.37s/it]\u001b[A\n",
            " 37%|███▋      | 423/1143 [09:38<16:25,  1.37s/it]\u001b[A\n",
            " 37%|███▋      | 424/1143 [09:39<16:24,  1.37s/it]\u001b[A\n",
            " 37%|███▋      | 425/1143 [09:41<16:23,  1.37s/it]\u001b[A\n",
            " 37%|███▋      | 426/1143 [09:42<16:19,  1.37s/it]\u001b[A\n",
            " 37%|███▋      | 427/1143 [09:44<16:18,  1.37s/it]\u001b[A\n",
            " 37%|███▋      | 428/1143 [09:45<16:17,  1.37s/it]\u001b[A\n",
            " 38%|███▊      | 429/1143 [09:46<16:16,  1.37s/it]\u001b[A\n",
            " 38%|███▊      | 430/1143 [09:48<16:14,  1.37s/it]\u001b[A\n",
            " 38%|███▊      | 431/1143 [09:49<16:13,  1.37s/it]\u001b[A\n",
            " 38%|███▊      | 432/1143 [09:50<16:12,  1.37s/it]\u001b[A\n",
            " 38%|███▊      | 433/1143 [09:52<16:11,  1.37s/it]\u001b[A\n",
            " 38%|███▊      | 434/1143 [09:53<16:09,  1.37s/it]\u001b[A\n",
            " 38%|███▊      | 435/1143 [09:55<16:08,  1.37s/it]\u001b[A\n",
            " 38%|███▊      | 436/1143 [09:56<16:06,  1.37s/it]\u001b[A\n",
            " 38%|███▊      | 437/1143 [09:57<16:05,  1.37s/it]\u001b[A\n",
            " 38%|███▊      | 438/1143 [09:59<16:04,  1.37s/it]\u001b[A\n",
            " 38%|███▊      | 439/1143 [10:00<16:01,  1.37s/it]\u001b[A\n",
            " 38%|███▊      | 440/1143 [10:01<15:59,  1.36s/it]\u001b[A\n",
            " 39%|███▊      | 441/1143 [10:03<16:00,  1.37s/it]\u001b[A\n",
            " 39%|███▊      | 442/1143 [10:04<15:59,  1.37s/it]\u001b[A\n",
            " 39%|███▉      | 443/1143 [10:05<15:57,  1.37s/it]\u001b[A\n",
            " 39%|███▉      | 444/1143 [10:07<15:55,  1.37s/it]\u001b[A\n",
            " 39%|███▉      | 445/1143 [10:08<15:56,  1.37s/it]\u001b[A\n",
            " 39%|███▉      | 446/1143 [10:10<15:56,  1.37s/it]\u001b[A\n",
            " 39%|███▉      | 447/1143 [10:11<15:53,  1.37s/it]\u001b[A\n",
            " 39%|███▉      | 448/1143 [10:12<15:52,  1.37s/it]\u001b[A\n",
            " 39%|███▉      | 449/1143 [10:14<15:50,  1.37s/it]\u001b[A\n",
            " 39%|███▉      | 450/1143 [10:15<15:48,  1.37s/it]\u001b[A\n",
            " 39%|███▉      | 451/1143 [10:16<15:47,  1.37s/it]\u001b[A\n",
            " 40%|███▉      | 452/1143 [10:18<15:46,  1.37s/it]\u001b[A\n",
            " 40%|███▉      | 453/1143 [10:19<15:44,  1.37s/it]\u001b[A\n",
            " 40%|███▉      | 454/1143 [10:21<15:43,  1.37s/it]\u001b[A\n",
            " 40%|███▉      | 455/1143 [10:22<15:41,  1.37s/it]\u001b[A\n",
            " 40%|███▉      | 456/1143 [10:23<15:39,  1.37s/it]\u001b[A\n",
            " 40%|███▉      | 457/1143 [10:25<15:39,  1.37s/it]\u001b[A\n",
            " 40%|████      | 458/1143 [10:26<15:37,  1.37s/it]\u001b[A\n",
            " 40%|████      | 459/1143 [10:27<15:37,  1.37s/it]\u001b[A\n",
            " 40%|████      | 460/1143 [10:29<15:35,  1.37s/it]\u001b[A\n",
            " 40%|████      | 461/1143 [10:30<15:35,  1.37s/it]\u001b[A\n",
            " 40%|████      | 462/1143 [10:31<15:33,  1.37s/it]\u001b[A\n",
            " 41%|████      | 463/1143 [10:33<15:31,  1.37s/it]\u001b[A\n",
            " 41%|████      | 464/1143 [10:34<15:29,  1.37s/it]\u001b[A\n",
            " 41%|████      | 465/1143 [10:36<15:28,  1.37s/it]\u001b[A\n",
            " 41%|████      | 466/1143 [10:37<15:25,  1.37s/it]\u001b[A\n",
            " 41%|████      | 467/1143 [10:38<15:25,  1.37s/it]\u001b[A\n",
            " 41%|████      | 468/1143 [10:40<15:24,  1.37s/it]\u001b[A\n",
            " 41%|████      | 469/1143 [10:41<15:22,  1.37s/it]\u001b[A\n",
            " 41%|████      | 470/1143 [10:42<15:20,  1.37s/it]\u001b[A\n",
            " 41%|████      | 471/1143 [10:44<15:20,  1.37s/it]\u001b[A\n",
            " 41%|████▏     | 472/1143 [10:45<15:19,  1.37s/it]\u001b[A\n",
            " 41%|████▏     | 473/1143 [10:47<15:19,  1.37s/it]\u001b[A\n",
            " 41%|████▏     | 474/1143 [10:48<15:17,  1.37s/it]\u001b[A\n",
            " 42%|████▏     | 475/1143 [10:49<15:14,  1.37s/it]\u001b[A\n",
            " 42%|████▏     | 476/1143 [10:51<15:12,  1.37s/it]\u001b[A\n",
            " 42%|████▏     | 477/1143 [10:52<15:11,  1.37s/it]\u001b[A\n",
            " 42%|████▏     | 478/1143 [10:53<15:10,  1.37s/it]\u001b[A\n",
            " 42%|████▏     | 479/1143 [10:55<15:08,  1.37s/it]\u001b[A\n",
            " 42%|████▏     | 480/1143 [10:56<15:06,  1.37s/it]\u001b[A\n",
            " 42%|████▏     | 481/1143 [10:57<15:06,  1.37s/it]\u001b[A\n",
            " 42%|████▏     | 482/1143 [10:59<15:05,  1.37s/it]\u001b[A\n",
            " 42%|████▏     | 483/1143 [11:00<15:03,  1.37s/it]\u001b[A\n",
            " 42%|████▏     | 484/1143 [11:02<15:02,  1.37s/it]\u001b[A\n",
            " 42%|████▏     | 485/1143 [11:03<15:01,  1.37s/it]\u001b[A\n",
            " 43%|████▎     | 486/1143 [11:04<14:59,  1.37s/it]\u001b[A\n",
            " 43%|████▎     | 487/1143 [11:06<14:58,  1.37s/it]\u001b[A\n",
            " 43%|████▎     | 488/1143 [11:07<14:54,  1.37s/it]\u001b[A\n",
            " 43%|████▎     | 489/1143 [11:08<14:53,  1.37s/it]\u001b[A\n",
            " 43%|████▎     | 490/1143 [11:10<14:52,  1.37s/it]\u001b[A\n",
            " 43%|████▎     | 491/1143 [11:11<14:52,  1.37s/it]\u001b[A\n",
            " 43%|████▎     | 492/1143 [11:13<14:50,  1.37s/it]\u001b[A\n",
            " 43%|████▎     | 493/1143 [11:14<14:48,  1.37s/it]\u001b[A\n",
            " 43%|████▎     | 494/1143 [11:15<14:46,  1.37s/it]\u001b[A\n",
            " 43%|████▎     | 495/1143 [11:17<14:46,  1.37s/it]\u001b[A\n",
            " 43%|████▎     | 496/1143 [11:18<14:43,  1.37s/it]\u001b[A\n",
            " 43%|████▎     | 497/1143 [11:19<14:44,  1.37s/it]\u001b[A\n",
            " 44%|████▎     | 498/1143 [11:21<14:42,  1.37s/it]\u001b[A\n",
            " 44%|████▎     | 499/1143 [11:22<14:40,  1.37s/it]\u001b[A\n",
            " 44%|████▎     | 500/1143 [11:23<14:39,  1.37s/it]\u001b[A\n",
            " 44%|████▍     | 501/1143 [11:25<14:37,  1.37s/it]\u001b[A\n",
            " 44%|████▍     | 502/1143 [11:26<14:34,  1.36s/it]\u001b[A\n",
            " 44%|████▍     | 503/1143 [11:28<14:34,  1.37s/it]\u001b[A\n",
            " 44%|████▍     | 504/1143 [11:29<14:34,  1.37s/it]\u001b[A\n",
            " 44%|████▍     | 505/1143 [11:30<14:32,  1.37s/it]\u001b[A\n",
            " 44%|████▍     | 506/1143 [11:32<14:29,  1.37s/it]\u001b[A\n",
            " 44%|████▍     | 507/1143 [11:33<14:28,  1.37s/it]\u001b[A\n",
            " 44%|████▍     | 508/1143 [11:34<14:28,  1.37s/it]\u001b[A\n",
            " 45%|████▍     | 509/1143 [11:36<14:28,  1.37s/it]\u001b[A\n",
            " 45%|████▍     | 510/1143 [11:37<14:27,  1.37s/it]\u001b[A\n",
            " 45%|████▍     | 511/1143 [11:39<14:26,  1.37s/it]\u001b[A\n",
            " 45%|████▍     | 512/1143 [11:40<14:23,  1.37s/it]\u001b[A\n",
            " 45%|████▍     | 513/1143 [11:41<14:23,  1.37s/it]\u001b[A\n",
            " 45%|████▍     | 514/1143 [11:43<14:21,  1.37s/it]\u001b[A\n",
            " 45%|████▌     | 515/1143 [11:44<14:19,  1.37s/it]\u001b[A\n",
            " 45%|████▌     | 516/1143 [11:45<14:18,  1.37s/it]\u001b[A\n",
            " 45%|████▌     | 517/1143 [11:47<14:16,  1.37s/it]\u001b[A\n",
            " 45%|████▌     | 518/1143 [11:48<14:14,  1.37s/it]\u001b[A\n",
            " 45%|████▌     | 519/1143 [11:49<14:12,  1.37s/it]\u001b[A\n",
            " 45%|████▌     | 520/1143 [11:51<14:11,  1.37s/it]\u001b[A\n",
            " 46%|████▌     | 521/1143 [11:52<14:12,  1.37s/it]\u001b[A\n",
            " 46%|████▌     | 522/1143 [11:54<14:10,  1.37s/it]\u001b[A\n",
            " 46%|████▌     | 523/1143 [11:55<14:09,  1.37s/it]\u001b[A\n",
            " 46%|████▌     | 524/1143 [11:56<14:06,  1.37s/it]\u001b[A\n",
            " 46%|████▌     | 525/1143 [11:58<14:04,  1.37s/it]\u001b[A\n",
            " 46%|████▌     | 526/1143 [11:59<14:02,  1.37s/it]\u001b[A\n",
            " 46%|████▌     | 527/1143 [12:00<14:02,  1.37s/it]\u001b[A\n",
            " 46%|████▌     | 528/1143 [12:02<14:00,  1.37s/it]\u001b[A\n",
            " 46%|████▋     | 529/1143 [12:03<13:59,  1.37s/it]\u001b[A\n",
            " 46%|████▋     | 530/1143 [12:05<13:58,  1.37s/it]\u001b[A\n",
            " 46%|████▋     | 531/1143 [12:06<13:56,  1.37s/it]\u001b[A\n",
            " 47%|████▋     | 532/1143 [12:07<13:55,  1.37s/it]\u001b[A\n",
            " 47%|████▋     | 533/1143 [12:09<13:55,  1.37s/it]\u001b[A\n",
            " 47%|████▋     | 534/1143 [12:10<13:54,  1.37s/it]\u001b[A\n",
            " 47%|████▋     | 535/1143 [12:11<13:52,  1.37s/it]\u001b[A\n",
            " 47%|████▋     | 536/1143 [12:13<13:51,  1.37s/it]\u001b[A\n",
            " 47%|████▋     | 537/1143 [12:14<13:50,  1.37s/it]\u001b[A\n",
            " 47%|████▋     | 538/1143 [12:15<13:49,  1.37s/it]\u001b[A\n",
            " 47%|████▋     | 539/1143 [12:17<13:46,  1.37s/it]\u001b[A\n",
            " 47%|████▋     | 540/1143 [12:18<13:45,  1.37s/it]\u001b[A\n",
            " 47%|████▋     | 541/1143 [12:20<13:44,  1.37s/it]\u001b[A\n",
            " 47%|████▋     | 542/1143 [12:21<13:42,  1.37s/it]\u001b[A\n",
            " 48%|████▊     | 543/1143 [12:22<13:41,  1.37s/it]\u001b[A\n",
            " 48%|████▊     | 544/1143 [12:24<13:38,  1.37s/it]\u001b[A\n",
            " 48%|████▊     | 545/1143 [12:25<13:37,  1.37s/it]\u001b[A\n",
            " 48%|████▊     | 546/1143 [12:26<13:36,  1.37s/it]\u001b[A\n",
            " 48%|████▊     | 547/1143 [12:28<13:36,  1.37s/it]\u001b[A\n",
            " 48%|████▊     | 548/1143 [12:29<13:35,  1.37s/it]\u001b[A\n",
            " 48%|████▊     | 549/1143 [12:31<13:34,  1.37s/it]\u001b[A\n",
            " 48%|████▊     | 550/1143 [12:32<13:31,  1.37s/it]\u001b[A\n",
            " 48%|████▊     | 551/1143 [12:33<13:29,  1.37s/it]\u001b[A\n",
            " 48%|████▊     | 552/1143 [12:35<13:27,  1.37s/it]\u001b[A\n",
            " 48%|████▊     | 553/1143 [12:36<13:26,  1.37s/it]\u001b[A\n",
            " 48%|████▊     | 554/1143 [12:37<13:24,  1.37s/it]\u001b[A\n",
            " 49%|████▊     | 555/1143 [12:39<13:23,  1.37s/it]\u001b[A\n",
            " 49%|████▊     | 556/1143 [12:40<13:22,  1.37s/it]\u001b[A\n",
            " 49%|████▊     | 557/1143 [12:41<13:22,  1.37s/it]\u001b[A\n",
            " 49%|████▉     | 558/1143 [12:43<13:20,  1.37s/it]\u001b[A\n",
            " 49%|████▉     | 559/1143 [12:44<13:19,  1.37s/it]\u001b[A\n",
            " 49%|████▉     | 560/1143 [12:46<13:17,  1.37s/it]\u001b[A\n",
            " 49%|████▉     | 561/1143 [12:47<13:16,  1.37s/it]\u001b[A\n",
            " 49%|████▉     | 562/1143 [12:48<13:13,  1.37s/it]\u001b[A\n",
            " 49%|████▉     | 563/1143 [12:50<13:11,  1.37s/it]\u001b[A\n",
            " 49%|████▉     | 564/1143 [12:51<13:10,  1.37s/it]\u001b[A\n",
            " 49%|████▉     | 565/1143 [12:52<13:10,  1.37s/it]\u001b[A\n",
            " 50%|████▉     | 566/1143 [12:54<13:09,  1.37s/it]\u001b[A\n",
            " 50%|████▉     | 567/1143 [12:55<13:08,  1.37s/it]\u001b[A\n",
            " 50%|████▉     | 568/1143 [12:56<13:06,  1.37s/it]\u001b[A\n",
            " 50%|████▉     | 569/1143 [12:58<13:05,  1.37s/it]\u001b[A\n",
            " 50%|████▉     | 570/1143 [12:59<13:04,  1.37s/it]\u001b[A\n",
            " 50%|████▉     | 571/1143 [13:01<13:02,  1.37s/it]\u001b[A\n",
            " 50%|█████     | 572/1143 [13:02<13:01,  1.37s/it]\u001b[A\n",
            " 50%|█████     | 573/1143 [13:03<13:00,  1.37s/it]\u001b[A\n",
            " 50%|█████     | 574/1143 [13:05<12:57,  1.37s/it]\u001b[A\n",
            " 50%|█████     | 575/1143 [13:06<12:56,  1.37s/it]\u001b[A\n",
            " 50%|█████     | 576/1143 [13:07<12:54,  1.37s/it]\u001b[A\n",
            " 50%|█████     | 577/1143 [13:09<12:53,  1.37s/it]\u001b[A\n",
            " 51%|█████     | 578/1143 [13:10<12:52,  1.37s/it]\u001b[A\n",
            " 51%|█████     | 579/1143 [13:12<12:51,  1.37s/it]\u001b[A\n",
            " 51%|█████     | 580/1143 [13:13<12:50,  1.37s/it]\u001b[A\n",
            " 51%|█████     | 581/1143 [13:14<12:47,  1.37s/it]\u001b[A\n",
            " 51%|█████     | 582/1143 [13:16<12:46,  1.37s/it]\u001b[A\n",
            " 51%|█████     | 583/1143 [13:17<12:46,  1.37s/it]\u001b[A\n",
            " 51%|█████     | 584/1143 [13:18<12:44,  1.37s/it]\u001b[A\n",
            " 51%|█████     | 585/1143 [13:20<12:43,  1.37s/it]\u001b[A\n",
            " 51%|█████▏    | 586/1143 [13:21<12:42,  1.37s/it]\u001b[A\n",
            " 51%|█████▏    | 587/1143 [13:22<12:40,  1.37s/it]\u001b[A\n",
            " 51%|█████▏    | 588/1143 [13:24<12:38,  1.37s/it]\u001b[A\n",
            " 52%|█████▏    | 589/1143 [13:25<12:36,  1.37s/it]\u001b[A\n",
            " 52%|█████▏    | 590/1143 [13:27<12:35,  1.37s/it]\u001b[A\n",
            " 52%|█████▏    | 591/1143 [13:28<12:34,  1.37s/it]\u001b[A\n",
            " 52%|█████▏    | 592/1143 [13:29<12:33,  1.37s/it]\u001b[A\n",
            " 52%|█████▏    | 593/1143 [13:31<12:31,  1.37s/it]\u001b[A\n",
            " 52%|█████▏    | 594/1143 [13:32<12:29,  1.37s/it]\u001b[A\n",
            " 52%|█████▏    | 595/1143 [13:33<12:29,  1.37s/it]\u001b[A\n",
            " 52%|█████▏    | 596/1143 [13:35<12:27,  1.37s/it]\u001b[A\n",
            " 52%|█████▏    | 597/1143 [13:36<12:26,  1.37s/it]\u001b[A\n",
            " 52%|█████▏    | 598/1143 [13:38<12:26,  1.37s/it]\u001b[A\n",
            " 52%|█████▏    | 599/1143 [13:39<12:24,  1.37s/it]\u001b[A\n",
            " 52%|█████▏    | 600/1143 [13:40<12:22,  1.37s/it]\u001b[A\n",
            " 53%|█████▎    | 601/1143 [13:42<12:20,  1.37s/it]\u001b[A\n",
            " 53%|█████▎    | 602/1143 [13:43<12:19,  1.37s/it]\u001b[A\n",
            " 53%|█████▎    | 603/1143 [13:44<12:18,  1.37s/it]\u001b[A\n",
            " 53%|█████▎    | 604/1143 [13:46<12:17,  1.37s/it]\u001b[A\n",
            " 53%|█████▎    | 605/1143 [13:47<12:16,  1.37s/it]\u001b[A\n",
            " 53%|█████▎    | 606/1143 [13:48<12:16,  1.37s/it]\u001b[A\n",
            " 53%|█████▎    | 607/1143 [13:50<12:14,  1.37s/it]\u001b[A\n",
            " 53%|█████▎    | 608/1143 [13:51<12:12,  1.37s/it]\u001b[A\n",
            " 53%|█████▎    | 609/1143 [13:53<12:13,  1.37s/it]\u001b[A\n",
            " 53%|█████▎    | 610/1143 [13:54<12:10,  1.37s/it]\u001b[A\n",
            " 53%|█████▎    | 611/1143 [13:55<12:09,  1.37s/it]\u001b[A\n",
            " 54%|█████▎    | 612/1143 [13:57<12:08,  1.37s/it]\u001b[A\n",
            " 54%|█████▎    | 613/1143 [13:58<12:05,  1.37s/it]\u001b[A\n",
            " 54%|█████▎    | 614/1143 [13:59<12:03,  1.37s/it]\u001b[A\n",
            " 54%|█████▍    | 615/1143 [14:01<12:02,  1.37s/it]\u001b[A\n",
            " 54%|█████▍    | 616/1143 [14:02<12:01,  1.37s/it]\u001b[A\n",
            " 54%|█████▍    | 617/1143 [14:04<12:00,  1.37s/it]\u001b[A\n",
            " 54%|█████▍    | 618/1143 [14:05<11:57,  1.37s/it]\u001b[A\n",
            " 54%|█████▍    | 619/1143 [14:06<11:55,  1.37s/it]\u001b[A\n",
            " 54%|█████▍    | 620/1143 [14:08<11:54,  1.37s/it]\u001b[A\n",
            " 54%|█████▍    | 621/1143 [14:09<11:54,  1.37s/it]\u001b[A\n",
            " 54%|█████▍    | 622/1143 [14:10<11:52,  1.37s/it]\u001b[A\n",
            " 55%|█████▍    | 623/1143 [14:12<11:50,  1.37s/it]\u001b[A\n",
            " 55%|█████▍    | 624/1143 [14:13<11:50,  1.37s/it]\u001b[A\n",
            " 55%|█████▍    | 625/1143 [14:14<11:48,  1.37s/it]\u001b[A\n",
            " 55%|█████▍    | 626/1143 [14:16<11:47,  1.37s/it]\u001b[A\n",
            " 55%|█████▍    | 627/1143 [14:17<11:45,  1.37s/it]\u001b[A\n",
            " 55%|█████▍    | 628/1143 [14:19<11:44,  1.37s/it]\u001b[A\n",
            " 55%|█████▌    | 629/1143 [14:20<11:42,  1.37s/it]\u001b[A\n",
            " 55%|█████▌    | 630/1143 [14:21<11:41,  1.37s/it]\u001b[A\n",
            " 55%|█████▌    | 631/1143 [14:23<11:40,  1.37s/it]\u001b[A\n",
            " 55%|█████▌    | 632/1143 [14:24<11:37,  1.37s/it]\u001b[A\n",
            " 55%|█████▌    | 633/1143 [14:25<11:37,  1.37s/it]\u001b[A\n",
            " 55%|█████▌    | 634/1143 [14:27<11:36,  1.37s/it]\u001b[A\n",
            " 56%|█████▌    | 635/1143 [14:28<11:34,  1.37s/it]\u001b[A\n",
            " 56%|█████▌    | 636/1143 [14:30<11:33,  1.37s/it]\u001b[A\n",
            " 56%|█████▌    | 637/1143 [14:31<11:32,  1.37s/it]\u001b[A\n",
            " 56%|█████▌    | 638/1143 [14:32<11:30,  1.37s/it]\u001b[A\n",
            " 56%|█████▌    | 639/1143 [14:34<11:29,  1.37s/it]\u001b[A\n",
            " 56%|█████▌    | 640/1143 [14:35<11:26,  1.37s/it]\u001b[A\n",
            " 56%|█████▌    | 641/1143 [14:36<11:26,  1.37s/it]\u001b[A\n",
            " 56%|█████▌    | 642/1143 [14:38<11:24,  1.37s/it]\u001b[A\n",
            " 56%|█████▋    | 643/1143 [14:39<11:23,  1.37s/it]\u001b[A\n",
            " 56%|█████▋    | 644/1143 [14:40<11:21,  1.37s/it]\u001b[A\n",
            " 56%|█████▋    | 645/1143 [14:42<11:18,  1.36s/it]\u001b[A\n",
            " 57%|█████▋    | 646/1143 [14:43<11:17,  1.36s/it]\u001b[A\n",
            " 57%|█████▋    | 647/1143 [14:45<11:17,  1.37s/it]\u001b[A\n",
            " 57%|█████▋    | 648/1143 [14:46<11:17,  1.37s/it]\u001b[A\n",
            " 57%|█████▋    | 649/1143 [14:47<11:15,  1.37s/it]\u001b[A\n",
            " 57%|█████▋    | 650/1143 [14:49<11:14,  1.37s/it]\u001b[A\n",
            " 57%|█████▋    | 651/1143 [14:50<11:13,  1.37s/it]\u001b[A\n",
            " 57%|█████▋    | 652/1143 [14:51<11:12,  1.37s/it]\u001b[A\n",
            " 57%|█████▋    | 653/1143 [14:53<11:10,  1.37s/it]\u001b[A\n",
            " 57%|█████▋    | 654/1143 [14:54<11:08,  1.37s/it]\u001b[A\n",
            " 57%|█████▋    | 655/1143 [14:55<11:06,  1.37s/it]\u001b[A\n",
            " 57%|█████▋    | 656/1143 [14:57<11:05,  1.37s/it]\u001b[A\n",
            " 57%|█████▋    | 657/1143 [14:58<11:04,  1.37s/it]\u001b[A\n",
            " 58%|█████▊    | 658/1143 [15:00<11:03,  1.37s/it]\u001b[A\n",
            " 58%|█████▊    | 659/1143 [15:01<11:02,  1.37s/it]\u001b[A\n",
            " 58%|█████▊    | 660/1143 [15:02<11:01,  1.37s/it]\u001b[A\n",
            " 58%|█████▊    | 661/1143 [15:04<11:00,  1.37s/it]\u001b[A\n",
            " 58%|█████▊    | 662/1143 [15:05<10:59,  1.37s/it]\u001b[A\n",
            " 58%|█████▊    | 663/1143 [15:06<10:57,  1.37s/it]\u001b[A\n",
            " 58%|█████▊    | 664/1143 [15:08<10:54,  1.37s/it]\u001b[A\n",
            " 58%|█████▊    | 665/1143 [15:09<10:53,  1.37s/it]\u001b[A\n",
            " 58%|█████▊    | 666/1143 [15:11<10:50,  1.36s/it]\u001b[A\n",
            " 58%|█████▊    | 667/1143 [15:12<10:50,  1.37s/it]\u001b[A\n",
            " 58%|█████▊    | 668/1143 [15:13<10:48,  1.37s/it]\u001b[A\n",
            " 59%|█████▊    | 669/1143 [15:15<10:48,  1.37s/it]\u001b[A\n",
            " 59%|█████▊    | 670/1143 [15:16<10:46,  1.37s/it]\u001b[A\n",
            " 59%|█████▊    | 671/1143 [15:17<10:44,  1.37s/it]\u001b[A\n",
            " 59%|█████▉    | 672/1143 [15:19<10:43,  1.37s/it]\u001b[A\n",
            " 59%|█████▉    | 673/1143 [15:20<10:42,  1.37s/it]\u001b[A\n",
            " 59%|█████▉    | 674/1143 [15:21<10:41,  1.37s/it]\u001b[A\n",
            " 59%|█████▉    | 675/1143 [15:23<10:39,  1.37s/it]\u001b[A\n",
            " 59%|█████▉    | 676/1143 [15:24<10:38,  1.37s/it]\u001b[A\n",
            " 59%|█████▉    | 677/1143 [15:26<10:37,  1.37s/it]\u001b[A\n",
            " 59%|█████▉    | 678/1143 [15:27<10:36,  1.37s/it]\u001b[A\n",
            " 59%|█████▉    | 679/1143 [15:28<10:34,  1.37s/it]\u001b[A\n",
            " 59%|█████▉    | 680/1143 [15:30<10:33,  1.37s/it]\u001b[A\n",
            " 60%|█████▉    | 681/1143 [15:31<10:32,  1.37s/it]\u001b[A\n",
            " 60%|█████▉    | 682/1143 [15:32<10:30,  1.37s/it]\u001b[A\n",
            " 60%|█████▉    | 683/1143 [15:34<10:28,  1.37s/it]\u001b[A\n",
            " 60%|█████▉    | 684/1143 [15:35<10:27,  1.37s/it]\u001b[A\n",
            " 60%|█████▉    | 685/1143 [15:37<10:26,  1.37s/it]\u001b[A\n",
            " 60%|██████    | 686/1143 [15:38<10:26,  1.37s/it]\u001b[A\n",
            " 60%|██████    | 687/1143 [15:39<10:24,  1.37s/it]\u001b[A\n",
            " 60%|██████    | 688/1143 [15:41<10:23,  1.37s/it]\u001b[A\n",
            " 60%|██████    | 689/1143 [15:42<10:21,  1.37s/it]\u001b[A\n",
            " 60%|██████    | 690/1143 [15:43<10:18,  1.37s/it]\u001b[A\n",
            " 60%|██████    | 691/1143 [15:45<10:17,  1.37s/it]\u001b[A\n",
            " 61%|██████    | 692/1143 [15:46<10:16,  1.37s/it]\u001b[A\n",
            " 61%|██████    | 693/1143 [15:47<10:16,  1.37s/it]\u001b[A\n",
            " 61%|██████    | 694/1143 [15:49<10:14,  1.37s/it]\u001b[A\n",
            " 61%|██████    | 695/1143 [15:50<10:12,  1.37s/it]\u001b[A\n",
            " 61%|██████    | 696/1143 [15:52<10:11,  1.37s/it]\u001b[A\n",
            " 61%|██████    | 697/1143 [15:53<10:10,  1.37s/it]\u001b[A\n",
            " 61%|██████    | 698/1143 [15:54<10:09,  1.37s/it]\u001b[A\n",
            " 61%|██████    | 699/1143 [15:56<10:07,  1.37s/it]\u001b[A\n",
            " 61%|██████    | 700/1143 [15:57<10:06,  1.37s/it]\u001b[A\n",
            " 61%|██████▏   | 701/1143 [15:58<10:04,  1.37s/it]\u001b[A\n",
            " 61%|██████▏   | 702/1143 [16:00<10:02,  1.37s/it]\u001b[A\n",
            " 62%|██████▏   | 703/1143 [16:01<10:00,  1.37s/it]\u001b[A\n",
            " 62%|██████▏   | 704/1143 [16:03<10:00,  1.37s/it]\u001b[A\n",
            " 62%|██████▏   | 705/1143 [16:04<09:59,  1.37s/it]\u001b[A\n",
            " 62%|██████▏   | 706/1143 [16:05<09:57,  1.37s/it]\u001b[A\n",
            " 62%|██████▏   | 707/1143 [16:07<09:56,  1.37s/it]\u001b[A\n",
            " 62%|██████▏   | 708/1143 [16:08<09:54,  1.37s/it]\u001b[A\n",
            " 62%|██████▏   | 709/1143 [16:09<09:53,  1.37s/it]\u001b[A\n",
            " 62%|██████▏   | 710/1143 [16:11<09:52,  1.37s/it]\u001b[A\n",
            " 62%|██████▏   | 711/1143 [16:12<09:52,  1.37s/it]\u001b[A\n",
            " 62%|██████▏   | 712/1143 [16:13<09:50,  1.37s/it]\u001b[A\n",
            " 62%|██████▏   | 713/1143 [16:15<09:48,  1.37s/it]\u001b[A\n",
            " 62%|██████▏   | 714/1143 [16:16<09:46,  1.37s/it]\u001b[A\n",
            " 63%|██████▎   | 715/1143 [16:18<09:46,  1.37s/it]\u001b[A\n",
            " 63%|██████▎   | 716/1143 [16:19<09:44,  1.37s/it]\u001b[A\n",
            " 63%|██████▎   | 717/1143 [16:20<09:42,  1.37s/it]\u001b[A\n",
            " 63%|██████▎   | 718/1143 [16:22<09:41,  1.37s/it]\u001b[A\n",
            " 63%|██████▎   | 719/1143 [16:23<09:39,  1.37s/it]\u001b[A\n",
            " 63%|██████▎   | 720/1143 [16:24<09:38,  1.37s/it]\u001b[A\n",
            " 63%|██████▎   | 721/1143 [16:26<09:37,  1.37s/it]\u001b[A\n",
            " 63%|██████▎   | 722/1143 [16:27<09:36,  1.37s/it]\u001b[A\n",
            " 63%|██████▎   | 723/1143 [16:29<09:35,  1.37s/it]\u001b[A\n",
            " 63%|██████▎   | 724/1143 [16:30<09:33,  1.37s/it]\u001b[A\n",
            " 63%|██████▎   | 725/1143 [16:31<09:32,  1.37s/it]\u001b[A\n",
            " 64%|██████▎   | 726/1143 [16:33<09:31,  1.37s/it]\u001b[A\n",
            " 64%|██████▎   | 727/1143 [16:34<09:28,  1.37s/it]\u001b[A\n",
            " 64%|██████▎   | 728/1143 [16:35<09:27,  1.37s/it]\u001b[A\n",
            " 64%|██████▍   | 729/1143 [16:37<09:25,  1.37s/it]\u001b[A\n",
            " 64%|██████▍   | 730/1143 [16:38<09:24,  1.37s/it]\u001b[A\n",
            " 64%|██████▍   | 731/1143 [16:39<09:23,  1.37s/it]\u001b[A\n",
            " 64%|██████▍   | 732/1143 [16:41<09:22,  1.37s/it]\u001b[A\n",
            " 64%|██████▍   | 733/1143 [16:42<09:19,  1.37s/it]\u001b[A\n",
            " 64%|██████▍   | 734/1143 [16:44<09:19,  1.37s/it]\u001b[A\n",
            " 64%|██████▍   | 735/1143 [16:45<09:17,  1.37s/it]\u001b[A\n",
            " 64%|██████▍   | 736/1143 [16:46<09:17,  1.37s/it]\u001b[A\n",
            " 64%|██████▍   | 737/1143 [16:48<09:15,  1.37s/it]\u001b[A\n",
            " 65%|██████▍   | 738/1143 [16:49<09:14,  1.37s/it]\u001b[A\n",
            " 65%|██████▍   | 739/1143 [16:50<09:13,  1.37s/it]\u001b[A\n",
            " 65%|██████▍   | 740/1143 [16:52<09:12,  1.37s/it]\u001b[A\n",
            " 65%|██████▍   | 741/1143 [16:53<09:10,  1.37s/it]\u001b[A\n",
            " 65%|██████▍   | 742/1143 [16:55<09:08,  1.37s/it]\u001b[A\n",
            " 65%|██████▌   | 743/1143 [16:56<09:07,  1.37s/it]\u001b[A\n",
            " 65%|██████▌   | 744/1143 [16:57<09:05,  1.37s/it]\u001b[A\n",
            " 65%|██████▌   | 745/1143 [16:59<09:04,  1.37s/it]\u001b[A\n",
            " 65%|██████▌   | 746/1143 [17:00<09:02,  1.37s/it]\u001b[A\n",
            " 65%|██████▌   | 747/1143 [17:01<09:01,  1.37s/it]\u001b[A\n",
            " 65%|██████▌   | 748/1143 [17:03<09:00,  1.37s/it]\u001b[A\n",
            " 66%|██████▌   | 749/1143 [17:04<08:59,  1.37s/it]\u001b[A\n",
            " 66%|██████▌   | 750/1143 [17:05<08:57,  1.37s/it]\u001b[A\n",
            " 66%|██████▌   | 751/1143 [17:07<08:55,  1.37s/it]\u001b[A\n",
            " 66%|██████▌   | 752/1143 [17:08<08:54,  1.37s/it]\u001b[A\n",
            " 66%|██████▌   | 753/1143 [17:10<08:52,  1.37s/it]\u001b[A\n",
            " 66%|██████▌   | 754/1143 [17:11<08:51,  1.37s/it]\u001b[A\n",
            " 66%|██████▌   | 755/1143 [17:12<08:50,  1.37s/it]\u001b[A\n",
            " 66%|██████▌   | 756/1143 [17:14<08:48,  1.37s/it]\u001b[A\n",
            " 66%|██████▌   | 757/1143 [17:15<08:47,  1.37s/it]\u001b[A\n",
            " 66%|██████▋   | 758/1143 [17:16<08:46,  1.37s/it]\u001b[A\n",
            " 66%|██████▋   | 759/1143 [17:18<08:44,  1.37s/it]\u001b[A\n",
            " 66%|██████▋   | 760/1143 [17:19<08:43,  1.37s/it]\u001b[A\n",
            " 67%|██████▋   | 761/1143 [17:20<08:43,  1.37s/it]\u001b[A\n",
            " 67%|██████▋   | 762/1143 [17:21<06:52,  1.08s/it]\u001b[A"
          ]
        },
        {
          "output_type": "stream",
          "name": "stdout",
          "text": [
            "(8, 40)\n",
            "\n",
            "Train loss: 0.21376718298148295\n"
          ]
        },
        {
          "output_type": "stream",
          "name": "stderr",
          "text": [
            "\n",
            " 67%|██████▋   | 763/1143 [17:22<07:23,  1.17s/it]\u001b[A\n",
            " 67%|██████▋   | 764/1143 [17:24<07:45,  1.23s/it]\u001b[A\n",
            " 67%|██████▋   | 765/1143 [17:25<08:00,  1.27s/it]\u001b[A\n",
            " 67%|██████▋   | 766/1143 [17:26<08:09,  1.30s/it]\u001b[A\n",
            " 67%|██████▋   | 767/1143 [17:28<08:15,  1.32s/it]\u001b[A\n",
            " 67%|██████▋   | 768/1143 [17:29<08:20,  1.33s/it]\u001b[A\n",
            " 67%|██████▋   | 769/1143 [17:30<08:22,  1.34s/it]\u001b[A\n",
            " 67%|██████▋   | 770/1143 [17:32<08:23,  1.35s/it]\u001b[A\n",
            " 67%|██████▋   | 771/1143 [17:33<08:24,  1.36s/it]\u001b[A\n",
            " 68%|██████▊   | 772/1143 [17:35<08:24,  1.36s/it]\u001b[A\n",
            " 68%|██████▊   | 773/1143 [17:36<08:24,  1.36s/it]\u001b[A\n",
            " 68%|██████▊   | 774/1143 [17:37<08:24,  1.37s/it]\u001b[A\n",
            " 68%|██████▊   | 775/1143 [17:39<08:23,  1.37s/it]\u001b[A\n",
            " 68%|██████▊   | 776/1143 [17:40<08:23,  1.37s/it]\u001b[A\n",
            " 68%|██████▊   | 777/1143 [17:41<08:20,  1.37s/it]\u001b[A\n",
            " 68%|██████▊   | 778/1143 [17:43<08:19,  1.37s/it]\u001b[A\n",
            " 68%|██████▊   | 779/1143 [17:44<08:17,  1.37s/it]\u001b[A\n",
            " 68%|██████▊   | 780/1143 [17:46<08:16,  1.37s/it]\u001b[A\n",
            " 68%|██████▊   | 781/1143 [17:47<08:15,  1.37s/it]\u001b[A\n",
            " 68%|██████▊   | 782/1143 [17:48<08:13,  1.37s/it]\u001b[A\n",
            " 69%|██████▊   | 783/1143 [17:50<08:12,  1.37s/it]\u001b[A\n",
            " 69%|██████▊   | 784/1143 [17:51<08:11,  1.37s/it]\u001b[A\n",
            " 69%|██████▊   | 785/1143 [17:52<08:10,  1.37s/it]\u001b[A\n",
            " 69%|██████▉   | 786/1143 [17:54<08:08,  1.37s/it]\u001b[A\n",
            " 69%|██████▉   | 787/1143 [17:55<08:07,  1.37s/it]\u001b[A\n",
            " 69%|██████▉   | 788/1143 [17:56<08:06,  1.37s/it]\u001b[A\n",
            " 69%|██████▉   | 789/1143 [17:58<08:05,  1.37s/it]\u001b[A\n",
            " 69%|██████▉   | 790/1143 [17:59<08:04,  1.37s/it]\u001b[A\n",
            " 69%|██████▉   | 791/1143 [18:01<08:02,  1.37s/it]\u001b[A\n",
            " 69%|██████▉   | 792/1143 [18:02<08:00,  1.37s/it]\u001b[A\n",
            " 69%|██████▉   | 793/1143 [18:03<07:58,  1.37s/it]\u001b[A\n",
            " 69%|██████▉   | 794/1143 [18:05<07:57,  1.37s/it]\u001b[A\n",
            " 70%|██████▉   | 795/1143 [18:06<07:56,  1.37s/it]\u001b[A\n",
            " 70%|██████▉   | 796/1143 [18:07<07:54,  1.37s/it]\u001b[A\n",
            " 70%|██████▉   | 797/1143 [18:09<07:54,  1.37s/it]\u001b[A\n",
            " 70%|██████▉   | 798/1143 [18:10<07:53,  1.37s/it]\u001b[A\n",
            " 70%|██████▉   | 799/1143 [18:12<07:51,  1.37s/it]\u001b[A\n",
            " 70%|██████▉   | 800/1143 [18:13<07:50,  1.37s/it]\u001b[A\n",
            " 70%|███████   | 801/1143 [18:14<07:49,  1.37s/it]\u001b[A\n",
            " 70%|███████   | 802/1143 [18:16<07:47,  1.37s/it]\u001b[A\n",
            " 70%|███████   | 803/1143 [18:17<07:45,  1.37s/it]\u001b[A\n",
            " 70%|███████   | 804/1143 [18:18<07:44,  1.37s/it]\u001b[A\n",
            " 70%|███████   | 805/1143 [18:20<07:42,  1.37s/it]\u001b[A\n",
            " 71%|███████   | 806/1143 [18:21<07:40,  1.37s/it]\u001b[A\n",
            " 71%|███████   | 807/1143 [18:23<07:39,  1.37s/it]\u001b[A\n",
            " 71%|███████   | 808/1143 [18:24<07:38,  1.37s/it]\u001b[A\n",
            " 71%|███████   | 809/1143 [18:25<07:37,  1.37s/it]\u001b[A\n",
            " 71%|███████   | 810/1143 [18:27<07:35,  1.37s/it]\u001b[A\n",
            " 71%|███████   | 811/1143 [18:28<07:34,  1.37s/it]\u001b[A\n",
            " 71%|███████   | 812/1143 [18:29<07:34,  1.37s/it]\u001b[A\n",
            " 71%|███████   | 813/1143 [18:31<07:32,  1.37s/it]\u001b[A\n",
            " 71%|███████   | 814/1143 [18:32<07:31,  1.37s/it]\u001b[A\n",
            " 71%|███████▏  | 815/1143 [18:33<07:29,  1.37s/it]\u001b[A\n",
            " 71%|███████▏  | 816/1143 [18:35<07:27,  1.37s/it]\u001b[A\n",
            " 71%|███████▏  | 817/1143 [18:36<07:26,  1.37s/it]\u001b[A\n",
            " 72%|███████▏  | 818/1143 [18:38<07:24,  1.37s/it]\u001b[A\n",
            " 72%|███████▏  | 819/1143 [18:39<07:23,  1.37s/it]\u001b[A\n",
            " 72%|███████▏  | 820/1143 [18:40<07:22,  1.37s/it]\u001b[A\n",
            " 72%|███████▏  | 821/1143 [18:42<07:21,  1.37s/it]\u001b[A\n",
            " 72%|███████▏  | 822/1143 [18:43<07:19,  1.37s/it]\u001b[A\n",
            " 72%|███████▏  | 823/1143 [18:44<07:17,  1.37s/it]\u001b[A\n",
            " 72%|███████▏  | 824/1143 [18:46<07:16,  1.37s/it]\u001b[A\n",
            " 72%|███████▏  | 825/1143 [18:47<07:15,  1.37s/it]\u001b[A\n",
            " 72%|███████▏  | 826/1143 [18:49<07:14,  1.37s/it]\u001b[A\n",
            " 72%|███████▏  | 827/1143 [18:50<07:12,  1.37s/it]\u001b[A\n",
            " 72%|███████▏  | 828/1143 [18:51<07:11,  1.37s/it]\u001b[A\n",
            " 73%|███████▎  | 829/1143 [18:53<07:09,  1.37s/it]\u001b[A\n",
            " 73%|███████▎  | 830/1143 [18:54<07:07,  1.37s/it]\u001b[A\n",
            " 73%|███████▎  | 831/1143 [18:55<07:06,  1.37s/it]\u001b[A\n",
            " 73%|███████▎  | 832/1143 [18:57<07:05,  1.37s/it]\u001b[A\n",
            " 73%|███████▎  | 833/1143 [18:58<07:04,  1.37s/it]\u001b[A\n",
            " 73%|███████▎  | 834/1143 [18:59<07:03,  1.37s/it]\u001b[A\n",
            " 73%|███████▎  | 835/1143 [19:01<07:01,  1.37s/it]\u001b[A\n",
            " 73%|███████▎  | 836/1143 [19:02<07:00,  1.37s/it]\u001b[A\n",
            " 73%|███████▎  | 837/1143 [19:04<06:59,  1.37s/it]\u001b[A\n",
            " 73%|███████▎  | 838/1143 [19:05<06:57,  1.37s/it]\u001b[A\n",
            " 73%|███████▎  | 839/1143 [19:06<06:56,  1.37s/it]\u001b[A\n",
            " 73%|███████▎  | 840/1143 [19:08<06:55,  1.37s/it]\u001b[A\n",
            " 74%|███████▎  | 841/1143 [19:09<06:53,  1.37s/it]\u001b[A\n",
            " 74%|███████▎  | 842/1143 [19:10<06:51,  1.37s/it]\u001b[A\n",
            " 74%|███████▍  | 843/1143 [19:12<06:50,  1.37s/it]\u001b[A\n",
            " 74%|███████▍  | 844/1143 [19:13<06:48,  1.37s/it]\u001b[A\n",
            " 74%|███████▍  | 845/1143 [19:15<06:47,  1.37s/it]\u001b[A\n",
            " 74%|███████▍  | 846/1143 [19:16<06:45,  1.37s/it]\u001b[A\n",
            " 74%|███████▍  | 847/1143 [19:17<06:44,  1.37s/it]\u001b[A\n",
            " 74%|███████▍  | 848/1143 [19:19<06:42,  1.36s/it]\u001b[A\n",
            " 74%|███████▍  | 849/1143 [19:20<06:41,  1.37s/it]\u001b[A\n",
            " 74%|███████▍  | 850/1143 [19:21<06:41,  1.37s/it]\u001b[A\n",
            " 74%|███████▍  | 851/1143 [19:23<06:40,  1.37s/it]\u001b[A\n",
            " 75%|███████▍  | 852/1143 [19:24<06:38,  1.37s/it]\u001b[A\n",
            " 75%|███████▍  | 853/1143 [19:25<06:37,  1.37s/it]\u001b[A\n",
            " 75%|███████▍  | 854/1143 [19:27<06:35,  1.37s/it]\u001b[A\n",
            " 75%|███████▍  | 855/1143 [19:28<06:34,  1.37s/it]\u001b[A\n",
            " 75%|███████▍  | 856/1143 [19:30<06:32,  1.37s/it]\u001b[A\n",
            " 75%|███████▍  | 857/1143 [19:31<06:31,  1.37s/it]\u001b[A\n",
            " 75%|███████▌  | 858/1143 [19:32<06:30,  1.37s/it]\u001b[A\n",
            " 75%|███████▌  | 859/1143 [19:34<06:28,  1.37s/it]\u001b[A\n",
            " 75%|███████▌  | 860/1143 [19:35<06:27,  1.37s/it]\u001b[A\n",
            " 75%|███████▌  | 861/1143 [19:36<06:25,  1.37s/it]\u001b[A\n",
            " 75%|███████▌  | 862/1143 [19:38<06:23,  1.37s/it]\u001b[A\n",
            " 76%|███████▌  | 863/1143 [19:39<06:22,  1.37s/it]\u001b[A\n",
            " 76%|███████▌  | 864/1143 [19:41<06:21,  1.37s/it]\u001b[A\n",
            " 76%|███████▌  | 865/1143 [19:42<06:20,  1.37s/it]\u001b[A\n",
            " 76%|███████▌  | 866/1143 [19:43<06:19,  1.37s/it]\u001b[A\n",
            " 76%|███████▌  | 867/1143 [19:45<06:17,  1.37s/it]\u001b[A\n",
            " 76%|███████▌  | 868/1143 [19:46<06:16,  1.37s/it]\u001b[A\n",
            " 76%|███████▌  | 869/1143 [19:47<06:14,  1.37s/it]\u001b[A\n",
            " 76%|███████▌  | 870/1143 [19:49<06:13,  1.37s/it]\u001b[A\n",
            " 76%|███████▌  | 871/1143 [19:50<06:12,  1.37s/it]\u001b[A\n",
            " 76%|███████▋  | 872/1143 [19:51<06:10,  1.37s/it]\u001b[A\n",
            " 76%|███████▋  | 873/1143 [19:53<06:09,  1.37s/it]\u001b[A\n",
            " 76%|███████▋  | 874/1143 [19:54<06:08,  1.37s/it]\u001b[A\n",
            " 77%|███████▋  | 875/1143 [19:56<06:06,  1.37s/it]\u001b[A\n",
            " 77%|███████▋  | 876/1143 [19:57<06:05,  1.37s/it]\u001b[A\n",
            " 77%|███████▋  | 877/1143 [19:58<06:04,  1.37s/it]\u001b[A\n",
            " 77%|███████▋  | 878/1143 [20:00<06:02,  1.37s/it]\u001b[A\n",
            " 77%|███████▋  | 879/1143 [20:01<06:01,  1.37s/it]\u001b[A\n",
            " 77%|███████▋  | 880/1143 [20:02<06:00,  1.37s/it]\u001b[A\n",
            " 77%|███████▋  | 881/1143 [20:04<05:58,  1.37s/it]\u001b[A\n",
            " 77%|███████▋  | 882/1143 [20:05<05:57,  1.37s/it]\u001b[A\n",
            " 77%|███████▋  | 883/1143 [20:07<05:55,  1.37s/it]\u001b[A\n",
            " 77%|███████▋  | 884/1143 [20:08<05:54,  1.37s/it]\u001b[A\n",
            " 77%|███████▋  | 885/1143 [20:09<05:52,  1.37s/it]\u001b[A\n",
            " 78%|███████▊  | 886/1143 [20:11<05:51,  1.37s/it]\u001b[A\n",
            " 78%|███████▊  | 887/1143 [20:12<05:50,  1.37s/it]\u001b[A\n",
            " 78%|███████▊  | 888/1143 [20:13<05:48,  1.37s/it]\u001b[A\n",
            " 78%|███████▊  | 889/1143 [20:15<05:47,  1.37s/it]\u001b[A\n",
            " 78%|███████▊  | 890/1143 [20:16<05:46,  1.37s/it]\u001b[A\n",
            " 78%|███████▊  | 891/1143 [20:17<05:44,  1.37s/it]\u001b[A\n",
            " 78%|███████▊  | 892/1143 [20:19<05:43,  1.37s/it]\u001b[A\n",
            " 78%|███████▊  | 893/1143 [20:20<05:42,  1.37s/it]\u001b[A\n",
            " 78%|███████▊  | 894/1143 [20:22<05:40,  1.37s/it]\u001b[A\n",
            " 78%|███████▊  | 895/1143 [20:23<05:39,  1.37s/it]\u001b[A\n",
            " 78%|███████▊  | 896/1143 [20:24<05:38,  1.37s/it]\u001b[A\n",
            " 78%|███████▊  | 897/1143 [20:26<05:36,  1.37s/it]\u001b[A\n",
            " 79%|███████▊  | 898/1143 [20:27<05:35,  1.37s/it]\u001b[A\n",
            " 79%|███████▊  | 899/1143 [20:28<05:34,  1.37s/it]\u001b[A\n",
            " 79%|███████▊  | 900/1143 [20:30<05:32,  1.37s/it]\u001b[A\n",
            " 79%|███████▉  | 901/1143 [20:31<05:31,  1.37s/it]\u001b[A\n",
            " 79%|███████▉  | 902/1143 [20:33<05:29,  1.37s/it]\u001b[A\n",
            " 79%|███████▉  | 903/1143 [20:34<05:28,  1.37s/it]\u001b[A\n",
            " 79%|███████▉  | 904/1143 [20:35<05:27,  1.37s/it]\u001b[A\n",
            " 79%|███████▉  | 905/1143 [20:37<05:25,  1.37s/it]\u001b[A\n",
            " 79%|███████▉  | 906/1143 [20:38<05:24,  1.37s/it]\u001b[A\n",
            " 79%|███████▉  | 907/1143 [20:39<05:22,  1.37s/it]\u001b[A\n",
            " 79%|███████▉  | 908/1143 [20:41<05:21,  1.37s/it]\u001b[A\n",
            " 80%|███████▉  | 909/1143 [20:42<05:20,  1.37s/it]\u001b[A\n",
            " 80%|███████▉  | 910/1143 [20:43<05:18,  1.37s/it]\u001b[A\n",
            " 80%|███████▉  | 911/1143 [20:45<05:17,  1.37s/it]\u001b[A\n",
            " 80%|███████▉  | 912/1143 [20:46<05:16,  1.37s/it]\u001b[A\n",
            " 80%|███████▉  | 913/1143 [20:48<05:15,  1.37s/it]\u001b[A\n",
            " 80%|███████▉  | 914/1143 [20:49<05:13,  1.37s/it]\u001b[A\n",
            " 80%|████████  | 915/1143 [20:50<05:12,  1.37s/it]\u001b[A\n",
            " 80%|████████  | 916/1143 [20:52<05:11,  1.37s/it]\u001b[A\n",
            " 80%|████████  | 917/1143 [20:53<05:09,  1.37s/it]\u001b[A\n",
            " 80%|████████  | 918/1143 [20:54<05:08,  1.37s/it]\u001b[A\n",
            " 80%|████████  | 919/1143 [20:56<05:06,  1.37s/it]\u001b[A\n",
            " 80%|████████  | 920/1143 [20:57<05:05,  1.37s/it]\u001b[A\n",
            " 81%|████████  | 921/1143 [20:59<05:03,  1.37s/it]\u001b[A\n",
            " 81%|████████  | 922/1143 [21:00<05:02,  1.37s/it]\u001b[A\n",
            " 81%|████████  | 923/1143 [21:01<05:00,  1.37s/it]\u001b[A\n",
            " 81%|████████  | 924/1143 [21:03<04:59,  1.37s/it]\u001b[A\n",
            " 81%|████████  | 925/1143 [21:04<04:58,  1.37s/it]\u001b[A\n",
            " 81%|████████  | 926/1143 [21:05<04:57,  1.37s/it]\u001b[A\n",
            " 81%|████████  | 927/1143 [21:07<04:55,  1.37s/it]\u001b[A\n",
            " 81%|████████  | 928/1143 [21:08<04:54,  1.37s/it]\u001b[A\n",
            " 81%|████████▏ | 929/1143 [21:10<04:52,  1.37s/it]\u001b[A\n",
            " 81%|████████▏ | 930/1143 [21:11<04:51,  1.37s/it]\u001b[A\n",
            " 81%|████████▏ | 931/1143 [21:12<04:49,  1.37s/it]\u001b[A\n",
            " 82%|████████▏ | 932/1143 [21:14<04:48,  1.37s/it]\u001b[A\n",
            " 82%|████████▏ | 933/1143 [21:15<04:47,  1.37s/it]\u001b[A\n",
            " 82%|████████▏ | 934/1143 [21:16<04:46,  1.37s/it]\u001b[A\n",
            " 82%|████████▏ | 935/1143 [21:18<04:45,  1.37s/it]\u001b[A\n",
            " 82%|████████▏ | 936/1143 [21:19<04:43,  1.37s/it]\u001b[A\n",
            " 82%|████████▏ | 937/1143 [21:20<04:42,  1.37s/it]\u001b[A\n",
            " 82%|████████▏ | 938/1143 [21:22<04:40,  1.37s/it]\u001b[A\n",
            " 82%|████████▏ | 939/1143 [21:23<04:39,  1.37s/it]\u001b[A\n",
            " 82%|████████▏ | 940/1143 [21:25<04:38,  1.37s/it]\u001b[A\n",
            " 82%|████████▏ | 941/1143 [21:26<04:37,  1.37s/it]\u001b[A\n",
            " 82%|████████▏ | 942/1143 [21:27<04:35,  1.37s/it]\u001b[A\n",
            " 83%|████████▎ | 943/1143 [21:29<04:34,  1.37s/it]\u001b[A\n",
            " 83%|████████▎ | 944/1143 [21:30<04:32,  1.37s/it]\u001b[A\n",
            " 83%|████████▎ | 945/1143 [21:31<04:31,  1.37s/it]\u001b[A\n",
            " 83%|████████▎ | 946/1143 [21:33<04:30,  1.37s/it]\u001b[A\n",
            " 83%|████████▎ | 947/1143 [21:34<04:28,  1.37s/it]\u001b[A"
          ]
        }
      ]
    },
    {
      "cell_type": "markdown",
      "metadata": {
        "id": "taSFo4N7Tf0J"
      },
      "source": [
        "**Validate the model**"
      ]
    },
    {
      "cell_type": "code",
      "metadata": {
        "id": "EiYHmez4S90U",
        "colab": {
          "base_uri": "https://localhost:8080/"
        },
        "outputId": "14540290-e5e6-4232-caf1-e6b0225a5946"
      },
      "source": [
        "accuracy = load_metric(\"accuracy\")\n",
        "precision = load_metric(\"precision\")\n",
        "recall = load_metric(\"recall\")\n",
        "f1 = load_metric(\"f1\")\n",
        "macro_precision = load_metric(\"precision\")\n",
        "macro_recall = load_metric(\"recall\")\n",
        "macro_f1 = load_metric(\"f1\")\n",
        "\n",
        "model.eval()\n",
        "for batch in validation_dataloader:\n",
        "    batch = {k: v.to(device) for k, v in batch.items()}\n",
        "    with torch.no_grad():\n",
        "        outputs = model(**batch)\n",
        "\n",
        "    logits = outputs.logits\n",
        "    predictions = torch.argmax(logits, dim=-1)\n",
        "    accuracy.add_batch(predictions=predictions, references=batch[\"labels\"])\n",
        "    precision.add_batch(predictions=predictions, references=batch[\"labels\"])\n",
        "    recall.add_batch(predictions=predictions, references=batch[\"labels\"])\n",
        "    f1.add_batch(predictions=predictions, references=batch[\"labels\"])\n",
        "    macro_precision.add_batch(predictions=predictions, references=batch[\"labels\"])\n",
        "    macro_recall.add_batch(predictions=predictions, references=batch[\"labels\"])\n",
        "    macro_f1.add_batch(predictions=predictions, references=batch[\"labels\"])\n",
        "\n",
        "print(accuracy.compute())\n",
        "print(precision.compute(average=\"weighted\"))\n",
        "print(recall.compute(average=\"weighted\"))\n",
        "print(f1.compute(average=\"weighted\"))\n",
        "print(\"macro averages:\")\n",
        "print(macro_precision.compute(average=\"macro\"))\n",
        "print(macro_recall.compute(average=\"macro\"))\n",
        "print(macro_f1.compute(average=\"macro\"))"
      ],
      "execution_count": 63,
      "outputs": [
        {
          "output_type": "stream",
          "name": "stdout",
          "text": [
            "{'accuracy': 0.11168639053254438}\n",
            "{'precision': 0.012473849830188018}\n",
            "{'recall': 0.11168639053254438}\n",
            "{'f1': 0.02244131067254052}\n",
            "macro averages:\n",
            "{'precision': 0.05584319526627219}\n",
            "{'recall': 0.5}\n",
            "{'f1': 0.10046573519627411}\n"
          ]
        },
        {
          "output_type": "stream",
          "name": "stderr",
          "text": [
            "/usr/local/lib/python3.7/dist-packages/sklearn/metrics/_classification.py:1272: UndefinedMetricWarning: Precision is ill-defined and being set to 0.0 in labels with no predicted samples. Use `zero_division` parameter to control this behavior.\n",
            "  _warn_prf(average, modifier, msg_start, len(result))\n"
          ]
        }
      ]
    },
    {
      "cell_type": "code",
      "metadata": {
        "id": "HjVmrJoQShFd",
        "colab": {
          "base_uri": "https://localhost:8080/"
        },
        "outputId": "69cc7527-e8a8-4c04-90fb-383f644ed118"
      },
      "source": [
        "print(np.mean([0.9312130177514792, 0.9142011834319527, 0.8883136094674556, 0.9282544378698225, 0.9349112426035503]))\n",
        "print(np.mean([0.9240920952413699, 0.8357638037883829, 0.7891010687650993, 0.9192849828323595, 0.9299954483386437]))\n",
        "print(np.mean([0.9312130177514792, 0.9142011834319527, 0.8883136094674556, 0.9282544378698225, 0.9349112426035503]))\n",
        "print(np.mean([0.9251771873648115, 0.8732246234326844, 0.8357733215592746, 0.919419550184051, 0.9225245299977529]))\n",
        "print(np.mean([0.8341697481951047, 0.45710059171597633, 0.4441568047337278, 0.8302427564604542, 0.8923076923076922]))\n",
        "print(np.mean([0.7341065954467794, 0.50000000000000000, 0.5, 0.6990998363338788, 0.6741620258484817]))\n",
        "print(np.mean([0.7727373780643203, 0.47758887171561054, 0.4704269486878182, 0.7440068710410993, 0.7325949367088608]))"
      ],
      "execution_count": 65,
      "outputs": [
        {
          "output_type": "stream",
          "name": "stdout",
          "text": [
            "0.9193786982248522\n",
            "0.879647479793171\n",
            "0.9193786982248522\n",
            "0.8952238425077148\n",
            "0.6915955186825911\n",
            "0.621473691525828\n",
            "0.6394710012435418\n"
          ]
        }
      ]
    },
    {
      "cell_type": "code",
      "metadata": {
        "id": "nBX0Lr8VDzKU"
      },
      "source": [
        ""
      ],
      "execution_count": null,
      "outputs": []
    }
  ]
}