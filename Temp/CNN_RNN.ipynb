{
  "nbformat": 4,
  "nbformat_minor": 0,
  "metadata": {
    "accelerator": "GPU",
    "colab": {
      "name": "CNN_RNN.ipynb",
      "provenance": [],
      "collapsed_sections": [
        "3zR8-aK009p9",
        "p7y2rE1vNZWc",
        "0BYvE-D5QAc0",
        "xXiAlHRZ7X_p",
        "Shq4w6GcqbIq",
        "IHqkf0XG8dqL",
        "LdKgzrbd8Uy8",
        "91fqgdk67oaZ",
        "sPm_9b6Y8EPi",
        "wVYEOwiN8H3s",
        "hx80tScO_ddi",
        "Pt3TZsP84gRK",
        "WC0ZRhKe5a6C",
        "jbpLZfOPGGKN",
        "fqK6yZoCHIyE",
        "u4DuyDZMkcE3",
        "B6CXqtIDR4jS",
        "dN_uGz3CZMCh",
        "p-x5t7AF_DGO",
        "d46ja9NetIpP",
        "G61FNXmM_QSL",
        "H-RSSqI7BDqE",
        "KMtXKRpRYBx2",
        "BtZBU5XNZaMi",
        "LR7WojLAszo7"
      ],
      "include_colab_link": true
    },
    "environment": {
      "name": "tf2-2-2-gpu.2-2.m50",
      "type": "gcloud",
      "uri": "gcr.io/deeplearning-platform-release/tf2-2-2-gpu.2-2:m50"
    },
    "kernelspec": {
      "display_name": "Python 3",
      "language": "python",
      "name": "python3"
    },
    "language_info": {
      "codemirror_mode": {
        "name": "ipython",
        "version": 3
      },
      "file_extension": ".py",
      "mimetype": "text/x-python",
      "name": "python",
      "nbconvert_exporter": "python",
      "pygments_lexer": "ipython3",
      "version": "3.7.6"
    }
  },
  "cells": [
    {
      "cell_type": "markdown",
      "metadata": {
        "id": "view-in-github",
        "colab_type": "text"
      },
      "source": [
        "<a href=\"https://colab.research.google.com/github/HimashiRathnayake/Hate-Speech-Humor-Detection/blob/branch-1/Baselines/CNN_RNN.ipynb\" target=\"_parent\"><img src=\"https://colab.research.google.com/assets/colab-badge.svg\" alt=\"Open In Colab\"/></a>"
      ]
    },
    {
      "cell_type": "markdown",
      "metadata": {
        "id": "3zR8-aK009p9"
      },
      "source": [
        "# User Parameters"
      ]
    },
    {
      "cell_type": "code",
      "metadata": {
        "colab": {
          "base_uri": "https://localhost:8080/"
        },
        "id": "dbSiWEihH0zu",
        "outputId": "6e76eebb-48bf-4f8a-e7b1-a481400d3e46"
      },
      "source": [
        "Host = \"colab\" #@param [\"colab\", \"AWS\", \"GCP\"]\n",
        "\n",
        "technique = \"hate speech\" #@param [\"humor\", \"hate speech\"]\n",
        "EMBEDDING_SIZE = 300 #@param [50, 100, 150, 200, 250, 300, 350, 400, 450, 500]\n",
        "embedding_type = \"fasttext\" #@param [\"fasttext\",\"word2vec\"]\n",
        "experiment_no = \"1\" #@param [] {allow-input: true}\n",
        "model_type = \"LSTM\" #@param [\"RNN\",\"GRU\", \"LSTM\", \"BiLSTM\" ]\n",
        "\n",
        "stack_modeles = \"\" #@param [\"\",\"2\",\"3\"]\n",
        "apply_CNN = False #@param {type:\"boolean\"}\n",
        "\n",
        "model_name = model_type + \"_model\"\n",
        "\n",
        "if(stack_modeles == \"2\" or stack_modeles == \"3\"):\n",
        "  model_name = \"stacked_\" + model_name + \"_\" + stack_modeles\n",
        "if(apply_CNN):\n",
        "  model_name = \"CNN_\" + model_name \n",
        "\n",
        "print(model_name + \" for \" + technique + \" detection\")"
      ],
      "execution_count": 1,
      "outputs": [
        {
          "output_type": "stream",
          "text": [
            "LSTM_model for hate speech detection\n"
          ],
          "name": "stdout"
        }
      ]
    },
    {
      "cell_type": "markdown",
      "metadata": {
        "id": "p7y2rE1vNZWc"
      },
      "source": [
        "# Folder Paths"
      ]
    },
    {
      "cell_type": "code",
      "metadata": {
        "id": "gWPD3dgEqB5d"
      },
      "source": [
        "data_path = \"/content/drive/Shareddrives/FYP-CodeStars/Annotations/Himashi/Tagged - Sentences.csv\"\n",
        "folder_path = \"/content/drive/Shareddrives/FYP/\"\n",
        "\n",
        "context = 5\n",
        "word_embedding_path = folder_path + \"embedding_models/\" + embedding_type + \"/embedding_\"+embedding_type+\"_\"+str(EMBEDDING_SIZE)\n",
        "word_embedding_keydvectors_path = folder_path + \"embedding_models/\" + embedding_type + \"/keyed_vectors/\" +  \"embedding_\" + embedding_type + \"_\" + str(EMBEDDING_SIZE)\n",
        "embedding_matrix_path = folder_path + 'embedding_matrix/'+embedding_type+'_'+str(EMBEDDING_SIZE)\n",
        "\n",
        "experiment_name = str(experiment_no) + \"_\"+ model_name +\"_\"+embedding_type+\"_\"+str(EMBEDDING_SIZE)+\"_\"+str(context)\n",
        "model_save_path = folder_path + \"saved_models/\"+experiment_name"
      ],
      "execution_count": 2,
      "outputs": []
    },
    {
      "cell_type": "markdown",
      "metadata": {
        "id": "0BYvE-D5QAc0"
      },
      "source": [
        "# Dependencies"
      ]
    },
    {
      "cell_type": "code",
      "metadata": {
        "colab": {
          "base_uri": "https://localhost:8080/"
        },
        "id": "Cf2gZocJff8x",
        "outputId": "8f8ac372-83c2-4b4e-e56a-ccf4150d587f"
      },
      "source": [
        "!pip install tensorflow==1.15.2\n",
        "!pip install q keras==2.3.1"
      ],
      "execution_count": 3,
      "outputs": [
        {
          "output_type": "stream",
          "text": [
            "Collecting tensorflow==1.15.2\n",
            "\u001b[?25l  Downloading https://files.pythonhosted.org/packages/5b/81/84fb7a323f9723f81edfc796d89e89aa95a9446ed7353c144195b3a3a3ba/tensorflow-1.15.2-cp37-cp37m-manylinux2010_x86_64.whl (110.5MB)\n",
            "\u001b[K     |████████████████████████████████| 110.5MB 98kB/s \n",
            "\u001b[?25hRequirement already satisfied: keras-preprocessing>=1.0.5 in /usr/local/lib/python3.7/dist-packages (from tensorflow==1.15.2) (1.1.2)\n",
            "Requirement already satisfied: astor>=0.6.0 in /usr/local/lib/python3.7/dist-packages (from tensorflow==1.15.2) (0.8.1)\n",
            "Collecting tensorboard<1.16.0,>=1.15.0\n",
            "\u001b[?25l  Downloading https://files.pythonhosted.org/packages/1e/e9/d3d747a97f7188f48aa5eda486907f3b345cd409f0a0850468ba867db246/tensorboard-1.15.0-py3-none-any.whl (3.8MB)\n",
            "\u001b[K     |████████████████████████████████| 3.8MB 39.6MB/s \n",
            "\u001b[?25hRequirement already satisfied: numpy<2.0,>=1.16.0 in /usr/local/lib/python3.7/dist-packages (from tensorflow==1.15.2) (1.19.5)\n",
            "Requirement already satisfied: grpcio>=1.8.6 in /usr/local/lib/python3.7/dist-packages (from tensorflow==1.15.2) (1.32.0)\n",
            "Requirement already satisfied: wheel>=0.26; python_version >= \"3\" in /usr/local/lib/python3.7/dist-packages (from tensorflow==1.15.2) (0.36.2)\n",
            "Requirement already satisfied: six>=1.10.0 in /usr/local/lib/python3.7/dist-packages (from tensorflow==1.15.2) (1.15.0)\n",
            "Collecting keras-applications>=1.0.8\n",
            "\u001b[?25l  Downloading https://files.pythonhosted.org/packages/71/e3/19762fdfc62877ae9102edf6342d71b28fbfd9dea3d2f96a882ce099b03f/Keras_Applications-1.0.8-py3-none-any.whl (50kB)\n",
            "\u001b[K     |████████████████████████████████| 51kB 9.2MB/s \n",
            "\u001b[?25hCollecting tensorflow-estimator==1.15.1\n",
            "\u001b[?25l  Downloading https://files.pythonhosted.org/packages/de/62/2ee9cd74c9fa2fa450877847ba560b260f5d0fb70ee0595203082dafcc9d/tensorflow_estimator-1.15.1-py2.py3-none-any.whl (503kB)\n",
            "\u001b[K     |████████████████████████████████| 512kB 42.1MB/s \n",
            "\u001b[?25hCollecting gast==0.2.2\n",
            "  Downloading https://files.pythonhosted.org/packages/4e/35/11749bf99b2d4e3cceb4d55ca22590b0d7c2c62b9de38ac4a4a7f4687421/gast-0.2.2.tar.gz\n",
            "Requirement already satisfied: wrapt>=1.11.1 in /usr/local/lib/python3.7/dist-packages (from tensorflow==1.15.2) (1.12.1)\n",
            "Requirement already satisfied: absl-py>=0.7.0 in /usr/local/lib/python3.7/dist-packages (from tensorflow==1.15.2) (0.12.0)\n",
            "Requirement already satisfied: google-pasta>=0.1.6 in /usr/local/lib/python3.7/dist-packages (from tensorflow==1.15.2) (0.2.0)\n",
            "Requirement already satisfied: protobuf>=3.6.1 in /usr/local/lib/python3.7/dist-packages (from tensorflow==1.15.2) (3.12.4)\n",
            "Requirement already satisfied: opt-einsum>=2.3.2 in /usr/local/lib/python3.7/dist-packages (from tensorflow==1.15.2) (3.3.0)\n",
            "Requirement already satisfied: termcolor>=1.1.0 in /usr/local/lib/python3.7/dist-packages (from tensorflow==1.15.2) (1.1.0)\n",
            "Requirement already satisfied: setuptools>=41.0.0 in /usr/local/lib/python3.7/dist-packages (from tensorboard<1.16.0,>=1.15.0->tensorflow==1.15.2) (56.1.0)\n",
            "Requirement already satisfied: werkzeug>=0.11.15 in /usr/local/lib/python3.7/dist-packages (from tensorboard<1.16.0,>=1.15.0->tensorflow==1.15.2) (2.0.0)\n",
            "Requirement already satisfied: markdown>=2.6.8 in /usr/local/lib/python3.7/dist-packages (from tensorboard<1.16.0,>=1.15.0->tensorflow==1.15.2) (3.3.4)\n",
            "Requirement already satisfied: h5py in /usr/local/lib/python3.7/dist-packages (from keras-applications>=1.0.8->tensorflow==1.15.2) (2.10.0)\n",
            "Requirement already satisfied: importlib-metadata; python_version < \"3.8\" in /usr/local/lib/python3.7/dist-packages (from markdown>=2.6.8->tensorboard<1.16.0,>=1.15.0->tensorflow==1.15.2) (4.0.1)\n",
            "Requirement already satisfied: zipp>=0.5 in /usr/local/lib/python3.7/dist-packages (from importlib-metadata; python_version < \"3.8\"->markdown>=2.6.8->tensorboard<1.16.0,>=1.15.0->tensorflow==1.15.2) (3.4.1)\n",
            "Requirement already satisfied: typing-extensions>=3.6.4; python_version < \"3.8\" in /usr/local/lib/python3.7/dist-packages (from importlib-metadata; python_version < \"3.8\"->markdown>=2.6.8->tensorboard<1.16.0,>=1.15.0->tensorflow==1.15.2) (3.7.4.3)\n",
            "Building wheels for collected packages: gast\n",
            "  Building wheel for gast (setup.py) ... \u001b[?25l\u001b[?25hdone\n",
            "  Created wheel for gast: filename=gast-0.2.2-cp37-none-any.whl size=7540 sha256=cc59d1adbf34fe3a0a09ffc825919723d9b859527139f345db42976dd9ca9bfb\n",
            "  Stored in directory: /root/.cache/pip/wheels/5c/2e/7e/a1d4d4fcebe6c381f378ce7743a3ced3699feb89bcfbdadadd\n",
            "Successfully built gast\n",
            "\u001b[31mERROR: tensorflow-probability 0.12.1 has requirement gast>=0.3.2, but you'll have gast 0.2.2 which is incompatible.\u001b[0m\n",
            "Installing collected packages: tensorboard, keras-applications, tensorflow-estimator, gast, tensorflow\n",
            "  Found existing installation: tensorboard 2.4.1\n",
            "    Uninstalling tensorboard-2.4.1:\n",
            "      Successfully uninstalled tensorboard-2.4.1\n",
            "  Found existing installation: tensorflow-estimator 2.4.0\n",
            "    Uninstalling tensorflow-estimator-2.4.0:\n",
            "      Successfully uninstalled tensorflow-estimator-2.4.0\n",
            "  Found existing installation: gast 0.3.3\n",
            "    Uninstalling gast-0.3.3:\n",
            "      Successfully uninstalled gast-0.3.3\n",
            "  Found existing installation: tensorflow 2.4.1\n",
            "    Uninstalling tensorflow-2.4.1:\n",
            "      Successfully uninstalled tensorflow-2.4.1\n",
            "Successfully installed gast-0.2.2 keras-applications-1.0.8 tensorboard-1.15.0 tensorflow-1.15.2 tensorflow-estimator-1.15.1\n",
            "Collecting q\n",
            "  Downloading https://files.pythonhosted.org/packages/53/bc/51619d89e0bd855567e7652fa16d06f1ed36a85f108a7fe71f6629bf719d/q-2.6-py2.py3-none-any.whl\n",
            "Collecting keras==2.3.1\n",
            "\u001b[?25l  Downloading https://files.pythonhosted.org/packages/ad/fd/6bfe87920d7f4fd475acd28500a42482b6b84479832bdc0fe9e589a60ceb/Keras-2.3.1-py2.py3-none-any.whl (377kB)\n",
            "\u001b[K     |████████████████████████████████| 378kB 24.3MB/s \n",
            "\u001b[?25hRequirement already satisfied: h5py in /usr/local/lib/python3.7/dist-packages (from keras==2.3.1) (2.10.0)\n",
            "Requirement already satisfied: pyyaml in /usr/local/lib/python3.7/dist-packages (from keras==2.3.1) (3.13)\n",
            "Requirement already satisfied: keras-preprocessing>=1.0.5 in /usr/local/lib/python3.7/dist-packages (from keras==2.3.1) (1.1.2)\n",
            "Requirement already satisfied: keras-applications>=1.0.6 in /usr/local/lib/python3.7/dist-packages (from keras==2.3.1) (1.0.8)\n",
            "Requirement already satisfied: six>=1.9.0 in /usr/local/lib/python3.7/dist-packages (from keras==2.3.1) (1.15.0)\n",
            "Requirement already satisfied: numpy>=1.9.1 in /usr/local/lib/python3.7/dist-packages (from keras==2.3.1) (1.19.5)\n",
            "Requirement already satisfied: scipy>=0.14 in /usr/local/lib/python3.7/dist-packages (from keras==2.3.1) (1.4.1)\n",
            "Installing collected packages: q, keras\n",
            "  Found existing installation: Keras 2.4.3\n",
            "    Uninstalling Keras-2.4.3:\n",
            "      Successfully uninstalled Keras-2.4.3\n",
            "Successfully installed keras-2.3.1 q-2.6\n"
          ],
          "name": "stdout"
        }
      ]
    },
    {
      "cell_type": "code",
      "metadata": {
        "id": "gZ9YDtD6qn4t",
        "colab": {
          "base_uri": "https://localhost:8080/"
        },
        "outputId": "d6971dca-96d6-47c6-a6c5-506d7629b6a3"
      },
      "source": [
        "from __future__ import print_function\n",
        "if (Host == \"colab\"):\n",
        "  from google.colab import drive\n",
        "  drive.mount('/content/drive')\n",
        "\n",
        "import collections\n",
        "import pickle\n",
        "import re\n",
        "import random\n",
        "import sys\n",
        "import os \n",
        "import time\n",
        "\n",
        "import gensim\n",
        "from gensim.models.keyedvectors import KeyedVectors\n",
        "from gensim.models.fasttext import FastText\n",
        "from gensim.models import word2vec\n",
        "\n",
        "from sklearn.model_selection import train_test_split,cross_val_score, cross_val_predict, KFold, GridSearchCV\n",
        "from sklearn.metrics import accuracy_score, f1_score, precision_score, recall_score, classification_report, confusion_matrix,precision_recall_fscore_support\n",
        "\n",
        "import pandas as pd\n",
        "import numpy as np\n",
        "from numpy import array\n",
        "from numpy import asarray\n",
        "from numpy import zeros\n",
        "from numpy import cumsum\n",
        "\n",
        "import tensorflow as tf\n",
        "import keras\n",
        "from keras import backend as K\n",
        "from keras.models import Sequential,Model,load_model\n",
        "from keras.preprocessing.text import Tokenizer\n",
        "from keras.preprocessing.sequence import pad_sequences\n",
        "from keras.layers import Dropout, Activation, Flatten, \\\n",
        "    Embedding, Convolution1D, MaxPooling1D, AveragePooling1D, \\\n",
        "    Input, Dense, merge, Add,TimeDistributed, Bidirectional,SpatialDropout1D\n",
        "from keras.layers.recurrent import LSTM, GRU, SimpleRNN\n",
        "from keras.regularizers import l2, l1_l2\n",
        "from keras.constraints import maxnorm\n",
        "from keras import callbacks\n",
        "from keras.utils import generic_utils,plot_model\n",
        "from keras.optimizers import Adadelta\n",
        "from keras.callbacks import ModelCheckpoint,EarlyStopping\n",
        "from keras.wrappers.scikit_learn import KerasClassifier\n",
        "\n",
        "import matplotlib.image  as mpimg\n",
        "import matplotlib.pyplot as plt"
      ],
      "execution_count": 4,
      "outputs": [
        {
          "output_type": "stream",
          "text": [
            "Mounted at /content/drive\n"
          ],
          "name": "stdout"
        },
        {
          "output_type": "stream",
          "text": [
            "Using TensorFlow backend.\n"
          ],
          "name": "stderr"
        }
      ]
    },
    {
      "cell_type": "markdown",
      "metadata": {
        "id": "xXiAlHRZ7X_p"
      },
      "source": [
        "# Load Data"
      ]
    },
    {
      "cell_type": "code",
      "metadata": {
        "colab": {
          "base_uri": "https://localhost:8080/",
          "height": 406
        },
        "id": "GqqHP9rwpbdt",
        "outputId": "186b4eb8-f140-455d-8be6-6e4587a7484f"
      },
      "source": [
        "columns_to_remove = ['Sentiment', 'Comment_ID']\n",
        "\n",
        "if (technique == \"humor\"):\n",
        "  columns_to_remove.append(\"Wheher_Offensive\")\n",
        "else:\n",
        "  columns_to_remove.append(\"Whether_Humorous\")\n",
        "\n",
        "data = pd.read_csv(data_path)\n",
        "data = data.drop(columns=columns_to_remove)\n",
        "data.columns = ['id', 'comment', 'label']\n",
        "data\n",
        "# data.shape"
      ],
      "execution_count": 5,
      "outputs": [
        {
          "output_type": "execute_result",
          "data": {
            "text/html": [
              "<div>\n",
              "<style scoped>\n",
              "    .dataframe tbody tr th:only-of-type {\n",
              "        vertical-align: middle;\n",
              "    }\n",
              "\n",
              "    .dataframe tbody tr th {\n",
              "        vertical-align: top;\n",
              "    }\n",
              "\n",
              "    .dataframe thead th {\n",
              "        text-align: right;\n",
              "    }\n",
              "</style>\n",
              "<table border=\"1\" class=\"dataframe\">\n",
              "  <thead>\n",
              "    <tr style=\"text-align: right;\">\n",
              "      <th></th>\n",
              "      <th>id</th>\n",
              "      <th>comment</th>\n",
              "      <th>label</th>\n",
              "    </tr>\n",
              "  </thead>\n",
              "  <tbody>\n",
              "    <tr>\n",
              "      <th>0</th>\n",
              "      <td>1</td>\n",
              "      <td>Dialog ViU App එක download කරගෙන ඔබ කැමතිම සිං...</td>\n",
              "      <td>not offensive</td>\n",
              "    </tr>\n",
              "    <tr>\n",
              "      <th>1</th>\n",
              "      <td>2</td>\n",
              "      <td>Mulinma honda sewawak lebuna ..</td>\n",
              "      <td>not offensive</td>\n",
              "    </tr>\n",
              "    <tr>\n",
              "      <th>2</th>\n",
              "      <td>3</td>\n",
              "      <td>den slwo</td>\n",
              "      <td>not offensive</td>\n",
              "    </tr>\n",
              "    <tr>\n",
              "      <th>3</th>\n",
              "      <td>4</td>\n",
              "      <td>oba aythanye sewaya ayathanaya wisinma බාල kar...</td>\n",
              "      <td>not offensive</td>\n",
              "    </tr>\n",
              "    <tr>\n",
              "      <th>4</th>\n",
              "      <td>5</td>\n",
              "      <td>anekuth network walta wada hondata thibunu par...</td>\n",
              "      <td>not offensive</td>\n",
              "    </tr>\n",
              "    <tr>\n",
              "      <th>...</th>\n",
              "      <td>...</td>\n",
              "      <td>...</td>\n",
              "      <td>...</td>\n",
              "    </tr>\n",
              "    <tr>\n",
              "      <th>95</th>\n",
              "      <td>96</td>\n",
              "      <td>If my3 will select for president first thing 2...</td>\n",
              "      <td>not offensive</td>\n",
              "    </tr>\n",
              "    <tr>\n",
              "      <th>96</th>\n",
              "      <td>97</td>\n",
              "      <td>අනේ පලඩෝ යන්න තොපිලා කඩේ යනවා හිකනල්ලු.</td>\n",
              "      <td>abusive</td>\n",
              "    </tr>\n",
              "    <tr>\n",
              "      <th>97</th>\n",
              "      <td>98</td>\n",
              "      <td>ලැජ්ජ නැද්ද ආහ් පර වැඩ කරන්නේ.</td>\n",
              "      <td>not offensive</td>\n",
              "    </tr>\n",
              "    <tr>\n",
              "      <th>98</th>\n",
              "      <td>99</td>\n",
              "      <td>නිකන් පසික්කාඩු වැඩ කරන්න එපා අයිසේ බොලා වගේ න...</td>\n",
              "      <td>not offensive</td>\n",
              "    </tr>\n",
              "    <tr>\n",
              "      <th>99</th>\n",
              "      <td>100</td>\n",
              "      <td>We All Hate Dialog</td>\n",
              "      <td>not offensive</td>\n",
              "    </tr>\n",
              "  </tbody>\n",
              "</table>\n",
              "<p>100 rows × 3 columns</p>\n",
              "</div>"
            ],
            "text/plain": [
              "     id                                            comment          label\n",
              "0     1  Dialog ViU App එක download කරගෙන ඔබ කැමතිම සිං...  not offensive\n",
              "1     2                    Mulinma honda sewawak lebuna ..  not offensive\n",
              "2     3                                           den slwo  not offensive\n",
              "3     4  oba aythanye sewaya ayathanaya wisinma බාල kar...  not offensive\n",
              "4     5  anekuth network walta wada hondata thibunu par...  not offensive\n",
              "..  ...                                                ...            ...\n",
              "95   96  If my3 will select for president first thing 2...  not offensive\n",
              "96   97            අනේ පලඩෝ යන්න තොපිලා කඩේ යනවා හිකනල්ලු.        abusive\n",
              "97   98                     ලැජ්ජ නැද්ද ආහ් පර වැඩ කරන්නේ.  not offensive\n",
              "98   99  නිකන් පසික්කාඩු වැඩ කරන්න එපා අයිසේ බොලා වගේ න...  not offensive\n",
              "99  100                                 We All Hate Dialog  not offensive\n",
              "\n",
              "[100 rows x 3 columns]"
            ]
          },
          "metadata": {
            "tags": []
          },
          "execution_count": 5
        }
      ]
    },
    {
      "cell_type": "markdown",
      "metadata": {
        "id": "Zk1Up-Co0r3t"
      },
      "source": [
        "## Count Tokens"
      ]
    },
    {
      "cell_type": "code",
      "metadata": {
        "id": "KS7TzP2tyhF6"
      },
      "source": [
        "# data_path = folder_path + \"corpus/new/preprocess_from_isuru/gossip_lanka_all_comments.csv\"\n",
        "# # \"corpus/new/preprocess_from_isuru/lankadeepa_comments_with_article_2.csv\"\n",
        "# data = pd.read_csv(data_path)\n",
        "\n",
        "# def count_tokens(pandas_df):\n",
        "\n",
        "#   count = 0\n",
        "#   for index, row in pandas_df.iterrows():\n",
        "#     comment_words,article_words = 0,0\n",
        "#     if (type(row['comment']) == str) :\n",
        "#       comment_words = len(row['comment'].split())\n",
        "#     # if (type(row['article']) == str) :\n",
        "#     #   article_words = len(row['article'].split())\n",
        "#     count += (comment_words + article_words)\n",
        "#   return count\n",
        "\n",
        "# tokens = count_tokens(data)\n",
        "# print(tokens)"
      ],
      "execution_count": 6,
      "outputs": []
    },
    {
      "cell_type": "code",
      "metadata": {
        "id": "UTRgXvPTbzi3"
      },
      "source": [
        "# all_data_path = folder_path + \n",
        "# \"corpus/new/tagged_comments_all_with_punctuation_marks.csv\" done\n",
        "# \"corpus/new/tagged_comments_all_with_punctuation_marks_question_only.csv\"\n",
        "# corpus/new/tagged_comments_all_without_punctuation_marks.csv\n",
        "\n",
        "# all_data = pd.read_csv(all_data_path)"
      ],
      "execution_count": 7,
      "outputs": []
    },
    {
      "cell_type": "markdown",
      "metadata": {
        "id": "hwtwg7MaUg_7"
      },
      "source": [
        "## Some other Preprocessing "
      ]
    },
    {
      "cell_type": "code",
      "metadata": {
        "id": "-3GJxgz7TyXP"
      },
      "source": [
        "# all_data['comment'] = all_data['comment'].str.replace('?', '')"
      ],
      "execution_count": 8,
      "outputs": []
    },
    {
      "cell_type": "code",
      "metadata": {
        "id": "ZCCrt693RmRT"
      },
      "source": [
        "# all_data.to_csv(folder_path + 'corpus/new/tagged_comments_all_without_punctuation_marks.csv')"
      ],
      "execution_count": 9,
      "outputs": []
    },
    {
      "cell_type": "code",
      "metadata": {
        "id": "Kxm16KdZVIWo"
      },
      "source": [
        "# all_data['label'].value_counts()\n",
        "# set(lankadeepa_data.comment.apply(list).sum())"
      ],
      "execution_count": 10,
      "outputs": []
    },
    {
      "cell_type": "markdown",
      "metadata": {
        "id": "Shq4w6GcqbIq"
      },
      "source": [
        "# Create Input"
      ]
    },
    {
      "cell_type": "markdown",
      "metadata": {
        "id": "IHqkf0XG8dqL"
      },
      "source": [
        "## comment-label split"
      ]
    },
    {
      "cell_type": "code",
      "metadata": {
        "id": "y9ynks11qZ-e"
      },
      "source": [
        "# edit this later \n",
        "def text_preprocessing(train_data,test_data):\n",
        "  train_data_texts = train_data['comment']\n",
        "  train_data_labels = train_data['label']\n",
        "  test_data_texts = test_data['comment']\n",
        "  test_data_labels = test_data['label']\n",
        "\n",
        "\n",
        "  comment_texts = []\n",
        "  comment_labels = []\n",
        "\n",
        "  train_text = []\n",
        "  test_text = []\n",
        "  train_labels=[]\n",
        "  test_labels=[]\n",
        "\n",
        "  for label in train_data_labels:\n",
        "    if label == \"POSITIVE\":\n",
        "      train_labels.append(1)\n",
        "    else:\n",
        "      train_labels.append(0)\n",
        "  comment_labels.append(train_labels)\n",
        "\n",
        "  for label in test_data_labels:\n",
        "    if label == \"POSITIVE\":\n",
        "      test_labels.append(1)\n",
        "    else:\n",
        "      test_labels.append(0)\n",
        "  comment_labels.append(test_labels)\n",
        "  \n",
        "\n",
        "  for comment in train_data_texts:\n",
        "    lines = []\n",
        "    try:\n",
        "      words = comment.split()\n",
        "      lines += words\n",
        "    except:\n",
        "      continue\n",
        "    train_text.append(lines)\n",
        "  comment_texts.append(train_text)\n",
        "\n",
        "  for comment in test_data_texts:\n",
        "    lines = []\n",
        "    try:\n",
        "      words = comment.split()\n",
        "      lines += words\n",
        "    except:\n",
        "      continue\n",
        "    test_text.append(lines)\n",
        "  comment_texts.append(test_text)\n",
        "\n",
        "\n",
        "  return comment_texts,comment_labels\n",
        "\n",
        "# edit this later \n",
        "def text_preprocessing_1(data):\n",
        "  comments = data['comment']\n",
        "  labels = data['label']\n",
        "\n",
        "  comments_splitted = []\n",
        "  labels_encoded = []\n",
        "\n",
        "  for label in labels:\n",
        "    if label == \"POSITIVE\":\n",
        "      labels_encoded.append(1)\n",
        "    else:\n",
        "      labels_encoded.append(0)\n",
        "\n",
        "  for comment in comments:\n",
        "    lines = []\n",
        "    try:\n",
        "      words = comment.split()\n",
        "      lines += words\n",
        "    except:\n",
        "      continue\n",
        "    comments_splitted.append(lines)\n",
        "  return comments_splitted,labels_encoded\n",
        "\n",
        "\n",
        "def text_preprocessing_2(data):\n",
        "  comments = data['comment']\n",
        "  labels = data['label']\n",
        "\n",
        "  comments_splitted = []\n",
        "\n",
        "  for comment in comments:\n",
        "    lines = []\n",
        "    try:\n",
        "      words = comment.split()\n",
        "      lines += words\n",
        "    except:\n",
        "      continue\n",
        "    comments_splitted.append(lines)\n",
        "\n",
        "  return comments_splitted,labels"
      ],
      "execution_count": 11,
      "outputs": []
    },
    {
      "cell_type": "markdown",
      "metadata": {
        "id": "LdKgzrbd8Uy8"
      },
      "source": [
        "## Takenize and Split Data"
      ]
    },
    {
      "cell_type": "code",
      "metadata": {
        "id": "BZoOqtodrUY1",
        "colab": {
          "base_uri": "https://localhost:8080/"
        },
        "outputId": "8cb278af-b035-4d71-f2fb-b77c188746b4"
      },
      "source": [
        "comment_texts, comment_labels = text_preprocessing_2(data)\n",
        "\n",
        "# prepare tokenizer\n",
        "\n",
        "t = Tokenizer()\n",
        "t.fit_on_texts(comment_texts)\n",
        "vocab_size = len(t.word_index) + 1\n",
        "print(vocab_size)"
      ],
      "execution_count": 12,
      "outputs": [
        {
          "output_type": "stream",
          "text": [
            "622\n"
          ],
          "name": "stdout"
        }
      ]
    },
    {
      "cell_type": "code",
      "metadata": {
        "id": "UMhZbzGur4kt"
      },
      "source": [
        "encoded_docs = t.texts_to_sequences(comment_texts)"
      ],
      "execution_count": 13,
      "outputs": []
    },
    {
      "cell_type": "code",
      "metadata": {
        "id": "Ho5NTzHtsKoN"
      },
      "source": [
        "max_length = len(max(encoded_docs, key=len))\n",
        "padded_docs = pad_sequences(encoded_docs, maxlen=max_length)\n",
        "\n",
        "comment_labels = np.array(comment_labels)\n",
        "padded_docs = np.array(padded_docs)"
      ],
      "execution_count": 14,
      "outputs": []
    },
    {
      "cell_type": "code",
      "metadata": {
        "id": "gBRINFtdvEQS",
        "colab": {
          "base_uri": "https://localhost:8080/"
        },
        "outputId": "e5ea9fbc-7eef-469e-aadf-a01a3234bd84"
      },
      "source": [
        "comment_labels = pd.get_dummies(comment_labels).values\n",
        "# print(comment_labels)\n",
        "print('Shape of label tensor:', comment_labels.shape)"
      ],
      "execution_count": 15,
      "outputs": [
        {
          "output_type": "stream",
          "text": [
            "Shape of label tensor: (100, 3)\n"
          ],
          "name": "stdout"
        }
      ]
    },
    {
      "cell_type": "code",
      "metadata": {
        "id": "Drgv_J0ZUV8j"
      },
      "source": [
        "X_train, X_test, y_train, y_test = train_test_split(padded_docs, comment_labels, test_size=0.1, random_state=0)"
      ],
      "execution_count": 16,
      "outputs": []
    },
    {
      "cell_type": "code",
      "metadata": {
        "id": "49a_GcIvkmch",
        "colab": {
          "base_uri": "https://localhost:8080/"
        },
        "outputId": "97788e69-0b19-4ae5-8ebb-732b211aee40"
      },
      "source": [
        "(unique, counts) = np.unique(y_train, return_counts = True)\n",
        "frequencies = np.asarray((unique, counts)).T\n",
        "print(frequencies)"
      ],
      "execution_count": 17,
      "outputs": [
        {
          "output_type": "stream",
          "text": [
            "[[  0 180]\n",
            " [  1  90]]\n"
          ],
          "name": "stdout"
        }
      ]
    },
    {
      "cell_type": "markdown",
      "metadata": {
        "id": "91fqgdk67oaZ"
      },
      "source": [
        "# Word Embedding"
      ]
    },
    {
      "cell_type": "markdown",
      "metadata": {
        "id": "sPm_9b6Y8EPi"
      },
      "source": [
        "## Generate Embedding Metrix"
      ]
    },
    {
      "cell_type": "code",
      "metadata": {
        "id": "kOB0YKL-fNW5"
      },
      "source": [
        "def generate_embedding_metrix():\n",
        "\n",
        "  if (embedding_type == 'fasttext'):\n",
        "    word_embedding_model = FastText.load(word_embedding_path)\n",
        "  else:\n",
        "    word_embedding_model = word2vec.Word2Vec.load(word_embedding_path)\n",
        "    \n",
        "  word_vectors = word_embedding_model.wv\n",
        "  word_vectors.save(word_embedding_keydvectors_path)\n",
        "  word_vectors = KeyedVectors.load(word_embedding_keydvectors_path, mmap='r')\n",
        "\n",
        "  embeddings_index = dict()\n",
        "  for word, vocab_obj in word_vectors.vocab.items():\n",
        "    embeddings_index[word]=word_vectors[word]\n",
        "\n",
        "  # create a weight matrix for words in training docs\n",
        "  embedding_matrix = zeros((vocab_size, EMBEDDING_SIZE))\n",
        "  for word, i in t.word_index.items():\n",
        "    embedding_vector = embeddings_index.get(word)\n",
        "    if embedding_vector is not None:\n",
        "      embedding_matrix[i] = embedding_vector\n",
        "\n",
        "  pickle.dump(embedding_matrix, open(embedding_matrix_path, 'wb'))\n",
        "  return embedding_matrix"
      ],
      "execution_count": 18,
      "outputs": []
    },
    {
      "cell_type": "markdown",
      "metadata": {
        "id": "wVYEOwiN8H3s"
      },
      "source": [
        "## Load Embedding Matrix"
      ]
    },
    {
      "cell_type": "code",
      "metadata": {
        "id": "YNSwoRM292-u"
      },
      "source": [
        "def load_word_embedding_atrix():\n",
        "  f = open(embedding_matrix_path, 'rb')\n",
        "  embedding_matrix= np.array(pickle.load(f))\n",
        "  return embedding_matrix"
      ],
      "execution_count": 19,
      "outputs": []
    },
    {
      "cell_type": "markdown",
      "metadata": {
        "id": "lrmGuYXf82E_"
      },
      "source": [
        "# Models"
      ]
    },
    {
      "cell_type": "markdown",
      "metadata": {
        "id": "hx80tScO_ddi"
      },
      "source": [
        "## RNN(LSTM/GRU) model"
      ]
    },
    {
      "cell_type": "code",
      "metadata": {
        "id": "K9elMDrR_laX"
      },
      "source": [
        "def RNN_model(RNN_layer, maxlen, hidden_dims, l2_reg, drop_out_value_1, drop_out_value_2):\n",
        "    main_input = Input(shape=(maxlen, ), dtype='int32', name='main_input')\n",
        "    embedding  = Embedding(MAX_FEATURES, EMBEDDING_SIZE,\n",
        "                  weights=[EMBEDDING_MATRIX], input_length=maxlen,\n",
        "                  name='embedding' ,trainable=False)(main_input)\n",
        "\n",
        "    embedding = Dropout(drop_out_value_1)(embedding)\n",
        "\n",
        "    x = RNN_layer(hidden_dims)(embedding)\n",
        "\n",
        "    x = Dense(hidden_dims, activation='relu', init='he_normal', \n",
        "              W_constraint = maxnorm(3), b_constraint=maxnorm(3),\n",
        "              name='mlp')(x)\n",
        "\n",
        "    x = Dropout(drop_out_value_2, name='drop')(x)\n",
        "\n",
        "    output = Dense(3, init='he_normal',\n",
        "                   activation='softmax', name='output')(x)\n",
        "\n",
        "    model = Model(input=main_input, output=output ,name=\"RNN_model\")\n",
        "\n",
        "    model.compile(loss={'output':'categorical_crossentropy'},\n",
        "              optimizer=Adadelta(lr=0.95, epsilon=1e-06),\n",
        "              metrics=[\"accuracy\",\n",
        "                       tf.keras.metrics.Precision(),\n",
        "                        tf.keras.metrics.Recall(),\n",
        "                       f1])\n",
        "    \n",
        "    print(model.summary())\n",
        "    return model\n",
        "\n",
        "def stacked_RNN_model_2(RNN_layer, maxlen, hidden_dims, l2_reg, drop_out_value_1, drop_out_value_2):\n",
        "    main_input = Input(shape=(maxlen, ), dtype='int32', name='main_input')\n",
        "    embedding  = Embedding(MAX_FEATURES, EMBEDDING_SIZE,\n",
        "                  weights=[EMBEDDING_MATRIX], input_length=maxlen,\n",
        "                  name='embedding' ,trainable=False)(main_input)\n",
        "\n",
        "    embedding = Dropout(drop_out_value_1)(embedding)\n",
        "\n",
        "    x = RNN_layer(hidden_dims,return_sequences=True)(embedding)\n",
        "    x = RNN_layer(hidden_dims)(x)\n",
        "\n",
        "    x = Dense(hidden_dims, activation='relu', init='he_normal',\n",
        "              W_constraint = maxnorm(3), b_constraint=maxnorm(3),\n",
        "              name='mlp')(x)\n",
        "\n",
        "    x = Dropout(drop_out_value_2, name='drop')(x)\n",
        "\n",
        "    output = Dense(3, init='he_normal',\n",
        "                   activation='softmax', name='output')(x)\n",
        "\n",
        "    model = Model(input=main_input, output=output, name= \"stacked_RNN_model_2\")\n",
        "\n",
        "    model.compile(loss={'output':'categorical_crossentropy'},\n",
        "          optimizer=Adadelta(lr=0.95, epsilon=1e-06),\n",
        "          metrics=[\"accuracy\",\n",
        "                       tf.keras.metrics.Precision(),\n",
        "                        tf.keras.metrics.Recall(),\n",
        "                       f1])\n",
        "\n",
        "    print(model.summary())\n",
        "    return model\n",
        "\n",
        "def stacked_RNN_model_3(RNN_layer, maxlen, hidden_dims, l2_reg, drop_out_value_1, drop_out_value_2):\n",
        "    main_input = Input(shape=(maxlen, ), dtype='int32', name='main_input')\n",
        "    embedding  = Embedding(MAX_FEATURES, EMBEDDING_SIZE,\n",
        "                  weights=[EMBEDDING_MATRIX], input_length=maxlen,\n",
        "                  name='embedding' ,trainable=False)(main_input)\n",
        "\n",
        "    embedding = Dropout(drop_out_value_1)(embedding)\n",
        "\n",
        "    x = RNN_layer(hidden_dims,return_sequences=True)(embedding)\n",
        "    x = RNN_layer(hidden_dims,return_sequences=True)(x)\n",
        "    x = RNN_layer(hidden_dims)(x)\n",
        "\n",
        "    x = Dense(hidden_dims, activation='relu', init='he_normal',\n",
        "              W_constraint = maxnorm(3), b_constraint=maxnorm(3),\n",
        "              name='mlp')(x)\n",
        "\n",
        "    x = Dropout(drop_out_value_2, name='drop')(x)\n",
        "\n",
        "    output = Dense(3, init='he_normal',\n",
        "                   activation='softmax', name='output')(x)\n",
        "\n",
        "    model = Model(input=main_input, output=output, name=\"stacked_RNN_model_3\")\n",
        "\n",
        "    model.compile(loss={'output':'categorical_crossentropy'},\n",
        "      optimizer=Adadelta(lr=0.95, epsilon=1e-06),\n",
        "      metrics=[\"accuracy\",\n",
        "                    tf.keras.metrics.Precision(),\n",
        "                    tf.keras.metrics.Recall(),\n",
        "                    f1])\n",
        "\n",
        "    print(model.summary())\n",
        "    return model"
      ],
      "execution_count": 20,
      "outputs": []
    },
    {
      "cell_type": "markdown",
      "metadata": {
        "id": "Pt3TZsP84gRK"
      },
      "source": [
        "## CNN+RNN(LSTM /GRU) model "
      ]
    },
    {
      "cell_type": "code",
      "metadata": {
        "id": "m3v2boPz4frA"
      },
      "source": [
        "def CNN_RNN_model(RNN_layer, maxlen, hidden_dims, l2_reg, drop_out_value_1, drop_out_value_2):\n",
        "    main_input = Input(shape=(maxlen, ), dtype='int32', name='main_input')\n",
        "    embedding  = Embedding(MAX_FEATURES, EMBEDDING_SIZE,\n",
        "                  weights=[EMBEDDING_MATRIX], input_length=maxlen,\n",
        "                  name='embedding' ,trainable=False)(main_input)\n",
        "\n",
        "    embedding = Dropout(drop_out_value_1)(embedding)\n",
        "\n",
        "    conv4 = Convolution1D(NB_FILTERS,\n",
        "                          4,\n",
        "                          border_mode='valid',\n",
        "                          activation='relu',\n",
        "                          subsample_length=1,\n",
        "                          name='conv4')(embedding)\n",
        "    maxConv4 = MaxPooling1D(pool_length=2,\n",
        "                             name='maxConv4')(conv4)\n",
        "\n",
        "    conv5 = Convolution1D(NB_FILTERS,\n",
        "                          5,\n",
        "                          border_mode='valid',\n",
        "                          activation='relu',\n",
        "                          subsample_length=1,\n",
        "                          name='conv5')(embedding)\n",
        "    maxConv5 = MaxPooling1D(pool_length=2,\n",
        "                            name='maxConv5')(conv5)\n",
        "\n",
        "    x = keras.layers.Concatenate(axis=1)([maxConv4, maxConv5])\n",
        "\n",
        "    x = Dropout(drop_out_value_2)(x)\n",
        "\n",
        "    x = RNN_layer(rnn_output_size)(x)\n",
        "\n",
        "\n",
        "    x = Dense(hidden_dims, activation='relu', init='he_normal',\n",
        "              W_constraint = maxnorm(3), b_constraint=maxnorm(3),\n",
        "              name='mlp')(x)\n",
        "\n",
        "    x = Dropout(drop_out_value_2, name='drop')(x)\n",
        "\n",
        "    output = Dense(3, init='he_normal',\n",
        "                   activation='softmax', name='output')(x)\n",
        "\n",
        "    model = Model(input=main_input, output=output, name= \"CNN+RNN model\")\n",
        "\n",
        "    model.compile(loss={'output':'categorical_crossentropy'},\n",
        "      optimizer=Adadelta(lr=0.95, epsilon=1e-06),\n",
        "      metrics=[\"accuracy\",\n",
        "                    tf.keras.metrics.Precision(),\n",
        "                    tf.keras.metrics.Recall(),\n",
        "                    f1])\n",
        "\n",
        "    return model"
      ],
      "execution_count": 21,
      "outputs": []
    },
    {
      "cell_type": "markdown",
      "metadata": {
        "id": "WC0ZRhKe5a6C"
      },
      "source": [
        "# Train and Evaluate Model"
      ]
    },
    {
      "cell_type": "markdown",
      "metadata": {
        "id": "jbpLZfOPGGKN"
      },
      "source": [
        "## Custom F1 Implementation"
      ]
    },
    {
      "cell_type": "code",
      "metadata": {
        "id": "O0sMLlLvEGKq"
      },
      "source": [
        "def f1(y_true, y_pred):\n",
        "    def recall(y_true, y_pred):\n",
        "        \"\"\"Recall metric.\n",
        "\n",
        "        Only computes a batch-wise average of recall.\n",
        "\n",
        "        Computes the recall, a metric for multi-label classification of\n",
        "        how many relevant items are selected.\n",
        "        \"\"\"\n",
        "        true_positives = K.sum(K.round(K.clip(y_true * y_pred, 0, 1)))\n",
        "        possible_positives = K.sum(K.round(K.clip(y_true, 0, 1)))\n",
        "        recall = true_positives / (possible_positives + K.epsilon())\n",
        "        return recall\n",
        "\n",
        "    def precision(y_true, y_pred):\n",
        "        \"\"\"Precision metric.\n",
        "\n",
        "        Only computes a batch-wise average of precision.\n",
        "\n",
        "        Computes the precision, a metric for multi-label classification of\n",
        "        how many selected items are relevant.\n",
        "        \"\"\"\n",
        "        true_positives = K.sum(K.round(K.clip(y_true * y_pred, 0, 1)))\n",
        "        predicted_positives = K.sum(K.round(K.clip(y_pred, 0, 1)))\n",
        "        precision = true_positives / (predicted_positives + K.epsilon())\n",
        "        return precision\n",
        "    precision = precision(y_true, y_pred)\n",
        "    recall = recall(y_true, y_pred)\n",
        "    return 2*((precision*recall)/(precision+recall+K.epsilon()))"
      ],
      "execution_count": 22,
      "outputs": []
    },
    {
      "cell_type": "markdown",
      "metadata": {
        "id": "fqK6yZoCHIyE"
      },
      "source": [
        "## Train and Validate model"
      ]
    },
    {
      "cell_type": "code",
      "metadata": {
        "id": "LhOLwIC-5aiD"
      },
      "source": [
        "def Train_Model_old(model,X_train, X_test, y_train, y_test):\n",
        "\n",
        "  print('Training and Testing...')\n",
        "  test_accs = []\n",
        "  first_run = True\n",
        "\n",
        "\n",
        "  acc=[]\n",
        "  val_acc=[]\n",
        "  loss=[]\n",
        "  val_loss=[]\n",
        "  best_val_acc = 0\n",
        "  best_test_acc = 0\n",
        "  for j in range(nb_epoch):\n",
        "      a = time.time()\n",
        "      his = model.fit(X_train, y_train,\n",
        "                      batch_size=batch_size,\n",
        "                      validation_data=[X_test, y_test],\n",
        "                      shuffle=True,\n",
        "                      epochs=1, verbose=verbosity)\n",
        "      acc+=his.history['accuracy']\n",
        "      val_acc+=his.history['val_accuracy']\n",
        "      loss+=his.history['loss']\n",
        "      val_loss+=his.history['val_loss']\n",
        "      # print('Epoch %d/%d\\t%s' % (j + 1, nb_epoch, str(his.history)))\n",
        "      if his.history['val_accuracy'][0] >= best_val_acc:\n",
        "          score, test_acc = model.evaluate(X_test, y_test,\n",
        "                                      batch_size=batch_size,\n",
        "                                      verbose=2)\n",
        "          best_val_acc = his.history['val_accuracy'][0]\n",
        "          best_test_acc = test_acc\n",
        "          print('Got best epoch  best val acc is %f test acc is %f' %\n",
        "                (best_val_acc, best_test_acc))\n",
        "          if len(test_accs) > 0:\n",
        "              print('Current avg test acc:', str(np.mean(test_accs)))\n",
        "      b = time.time()\n",
        "      cost = b - a\n",
        "      left = (nb_epoch - j - 1)\n",
        "      print('One round cost %ds, %d round %ds %dmin left' % (cost, left,\n",
        "                                                            cost * left,\n",
        "                                                            cost * left / 60.0))\n",
        "      test_accs.append(best_test_acc)\n",
        "\n",
        "  print('Avg test acc:', str(np.mean(test_accs)))\n",
        "  return model"
      ],
      "execution_count": 23,
      "outputs": []
    },
    {
      "cell_type": "code",
      "metadata": {
        "id": "XTuRxzncQc5q"
      },
      "source": [
        "def Train_Model(model,X_train, y_train, cross_validation = False):\n",
        "\n",
        "  print('Training and Testing...')\n",
        "  \n",
        "  es = EarlyStopping(monitor='val_f1', mode='max', verbose=1, patience=5)\n",
        "  checkpoint = ModelCheckpoint(model_save_path, monitor='val_f1', verbose=1, save_best_only=True, mode='max')\n",
        "  callbacks_list = [checkpoint,es]\n",
        "\n",
        "  if (cross_validation):\n",
        "    callbacks_list = [es]\n",
        "\n",
        "  his = model.fit(X_train, y_train, validation_split=VALIDATION_SPLIT, epochs=NB_EPOCHS, batch_size=BATCH_SIZE, callbacks=callbacks_list, verbose=1)\n",
        "  return model,his"
      ],
      "execution_count": 24,
      "outputs": []
    },
    {
      "cell_type": "markdown",
      "metadata": {
        "id": "u4DuyDZMkcE3"
      },
      "source": [
        "# Cross Validation"
      ]
    },
    {
      "cell_type": "code",
      "metadata": {
        "id": "4TMmqz8BkTQR"
      },
      "source": [
        "def Do_Cross_Validation(X,y):\n",
        "\n",
        "  # Define per-fold score containers\n",
        "  loss_per_fold = []\n",
        "  acc_per_fold = []\n",
        "  precision_per_fold = []\n",
        "  recall_per_fold = []\n",
        "  f1_per_fold = []\n",
        "  \n",
        "\n",
        "  kfold = KFold(n_splits=FOLDS, shuffle=True)\n",
        "\n",
        "  fold_no = 1\n",
        "  inputs = X\n",
        "  targets = y\n",
        "  for train, test in kfold.split(inputs, targets):\n",
        "\n",
        "    # model = build_model()\n",
        "    model = RNN_model(GRU, MAX_LEN, HIDDEN_DIMS, L2_REG, DROPOUT_VALUE_1, DROPOUT_VALUE_2)\n",
        "    \n",
        "    # RNN_layer, maxlen, hidden_dims, l2_reg, drop_out_value_1, drop_out_value_2\n",
        "\n",
        "    # Generate a print\n",
        "    print('------------------------------------------------------------------------')\n",
        "    print(f'Training for fold {fold_no} ...')\n",
        "\n",
        "    # Fit data to model\n",
        "    model, his = Train_Model(model,inputs[train], targets[train], cross_validation=True)\n",
        " \n",
        "    # Generate generalization metrics\n",
        "    scores = model.evaluate(inputs[test], targets[test], verbose=0)\n",
        "\n",
        "    print(f\"\"\"Score for fold {fold_no}:\n",
        "     {model.metrics_names[0]} of {scores[0]}; \n",
        "     {model.metrics_names[1]} of {scores[1]*100}% ;\n",
        "     {model.metrics_names[2]} of {scores[2]*100}% ;\n",
        "     {model.metrics_names[3]} of {scores[3]*100}% ;\n",
        "     {model.metrics_names[4]} of {scores[4]*100}% ;\n",
        "     \"\"\")\n",
        "    \n",
        "    loss_per_fold.append(scores[0])\n",
        "    acc_per_fold.append(scores[1])\n",
        "    precision_per_fold.append(scores[2])\n",
        "    recall_per_fold.append(scores[3])\n",
        "    f1_per_fold.append(scores[4])\n",
        "\n",
        "    # Increase fold number\n",
        "    fold_no = fold_no + 1\n",
        "\n",
        "  # == Provide average scores ==\n",
        "  print('------------------------------------------------------------------------')\n",
        "  print('Score per fold')\n",
        "  for i in range(0, len(acc_per_fold)):\n",
        "    print('------------------------------------------------------------------------')\n",
        "    print(f\"\"\"> Fold {i+1} - \n",
        "    Loss: {loss_per_fold[i]} - \n",
        "    Accuracy: {acc_per_fold[i]}% - \n",
        "    Precesion: {precision_per_fold[i]}% - \n",
        "    Recall: {recall_per_fold[i]}% - \n",
        "    F1: {f1_per_fold[i]}%\n",
        "    \"\"\")\n",
        "  print('------------------------------------------------------------------------')\n",
        "  print('Average scores for all folds:')\n",
        "  print(f'> Loss: {np.mean(loss_per_fold)}')\n",
        "  print(f'> Accuracy: {np.mean(acc_per_fold)} (+- {np.std(acc_per_fold)})')\n",
        "  print(f'> Precision: {np.mean(precision_per_fold)}')\n",
        "  print(f'> Recall: {np.mean(recall_per_fold)}')\n",
        "  print(f'> F1: {np.mean(f1_per_fold)}')\n",
        "  print('------------------------------------------------------------------------')"
      ],
      "execution_count": 25,
      "outputs": []
    },
    {
      "cell_type": "markdown",
      "metadata": {
        "id": "B6CXqtIDR4jS"
      },
      "source": [
        "# Plot Graphs"
      ]
    },
    {
      "cell_type": "code",
      "metadata": {
        "id": "fvl487sr8seD"
      },
      "source": [
        "def Plot_graphs(metric,val_metric,metric_name):\n",
        "\n",
        "  epochs=range(len(metric)) # Get number of epochs\n",
        "\n",
        "  if metric_name == \"accuracy\":\n",
        "    #------------------------------------------------\n",
        "    # Plot training and validation accuracy per epoch\n",
        "    #------------------------------------------------\n",
        "    plt.plot(epochs, metric, 'r')\n",
        "    plt.plot(epochs, val_metric, 'b')\n",
        "    plt.title('Training and validation accuracy')\n",
        "    plt.xlabel(\"Epochs\")\n",
        "    plt.ylabel(\"Accuracy\")\n",
        "    plt.legend([\"Accuracy\", \"Validation Accuracy\"])\n",
        "\n",
        "    plt.figure()\n",
        "\n",
        "  elif metric_name == \"loss\" :\n",
        "    #------------------------------------------------\n",
        "    # Plot training and validation loss per epoch\n",
        "    #------------------------------------------------\n",
        "    plt.plot(epochs, metric, 'r')\n",
        "    plt.plot(epochs, val_metric, 'b')\n",
        "    plt.title('Training and validation loss')\n",
        "    plt.xlabel(\"Epochs\")\n",
        "    plt.ylabel(\"Loss\")\n",
        "    plt.legend([\"Loss\", \"Validation Loss\"])\n",
        "\n",
        "    plt.figure()\n",
        "\n",
        "  elif metric_name == \"f1\" :\n",
        "    #------------------------------------------------\n",
        "    # Plot training and validation loss per epoch\n",
        "    #------------------------------------------------\n",
        "    plt.plot(epochs, metric, 'r')\n",
        "    plt.plot(epochs, val_metric, 'b')\n",
        "    plt.title('Training and validation F1')\n",
        "    plt.xlabel(\"Epochs\")\n",
        "    plt.ylabel(\"F1\")\n",
        "    plt.legend([\"F1\", \"Validation F1\"])\n",
        "\n",
        "    plt.figure()\n",
        "\n",
        "\n",
        "  # Expected Output\n",
        "  # A chart where the validation loss does not increase sharply!"
      ],
      "execution_count": 26,
      "outputs": []
    },
    {
      "cell_type": "markdown",
      "metadata": {
        "id": "0RS6GyZ8-mk7"
      },
      "source": [
        "# Main Method"
      ]
    },
    {
      "cell_type": "markdown",
      "metadata": {
        "id": "dN_uGz3CZMCh"
      },
      "source": [
        "## Set Hyper-Parameters"
      ]
    },
    {
      "cell_type": "code",
      "metadata": {
        "id": "85wsS8Mn8oeI"
      },
      "source": [
        "# EMBEDDING_MATRIX = generate_embedding_metrix()\n",
        "EMBEDDING_MATRIX = load_word_embedding_atrix()"
      ],
      "execution_count": 27,
      "outputs": []
    },
    {
      "cell_type": "code",
      "metadata": {
        "id": "uueiXUkkWuKl"
      },
      "source": [
        "MAX_FEATURES = EMBEDDING_MATRIX.shape[0] #vocab_size\n",
        "VERBOSITY = 1\n",
        "VALIDATION_SPLIT = 0.1\n",
        "NB_EPOCHS = 10\n",
        "FOLDS = 10\n",
        "\n",
        "BATCH_SIZE = 32 # 64, 128\n",
        "NB_FILTERS = 200\n",
        "FILTER_LENGTH = 3 #4 # test with 2,3,4,5\n",
        "HIDDEN_DIMS = NB_FILTERS * 2\n",
        "MAX_LEN = 22 #210 #test with other values(only this value work for now)\n",
        "DROPOUT_VALUE_1 = 0.5 #0.8 #0.3\n",
        "DROPOUT_VALUE_2 = 0.5\n",
        "L2_REG= 0.01\n",
        "\n",
        "RNN = GRU"
      ],
      "execution_count": 28,
      "outputs": []
    },
    {
      "cell_type": "markdown",
      "metadata": {
        "id": "p-x5t7AF_DGO"
      },
      "source": [
        "## Build and Compile Model"
      ]
    },
    {
      "cell_type": "code",
      "metadata": {
        "id": "IuEifQn3Jc98"
      },
      "source": [
        "def build_model() :\n",
        "  model = None\n",
        "\n",
        "  if ((model_type == \"RNN\" or model_type == \"GRU\" or model_type == \"LSTM\" )):\n",
        "    \n",
        "    # configure layer\n",
        "    layer = None\n",
        "    if (model_type == \"RNN\"):\n",
        "      layer = RNN\n",
        "    if (model_type == \"GRU\"):\n",
        "      layer = GRU\n",
        "    if (model_type == \"LSTM\"):\n",
        "      layer = LSTM\n",
        "    \n",
        "    # configure architecture\n",
        "    if (stack_modeles == \"2\"):\n",
        "      model = stacked_RNN_model_2(layer,MAX_LEN, HIDDEN_DIMS, L2_REG, DROPOUT_VALUE_1, DROPOUT_VALUE_2)\n",
        "    elif (stack_modeles == \"3\"):\n",
        "      model = stacked_RNN_model_3(layer,MAX_LEN, HIDDEN_DIMS, L2_REG, DROPOUT_VALUE_1, DROPOUT_VALUE_2)\n",
        "    elif (apply_CNN):\n",
        "      model = CNN_RNN_model(layer,MAX_LEN, HIDDEN_DIMS, L2_REG, DROPOUT_VALUE_1, DROPOUT_VALUE_2)\n",
        "    else :\n",
        "      model = RNN_model(layer,MAX_LEN, HIDDEN_DIMS, L2_REG, DROPOUT_VALUE_1, DROPOUT_VALUE_2)\n",
        "\n",
        "  elif (model_type == \"BiLSTM\" ):\n",
        "\n",
        "    # configure architecture\n",
        "    if (stack_modeles == \"2\"):\n",
        "      model = stacked_BiLSTM_model_2(MAX_LEN, HIDDEN_DIMS, L2_REG, DROPOUT_VALUE_1, DROPOUT_VALUE_2)\n",
        "    elif (stack_modeles == \"3\"):\n",
        "      model = stacked_BiLSTM_model_3(MAX_LEN, HIDDEN_DIMS, L2_REG, DROPOUT_VALUE_1, DROPOUT_VALUE_2)\n",
        "    elif (apply_CNN):\n",
        "      model = CNN_BiLSTM_model(MAX_LEN, HIDDEN_DIMS, L2_REG, DROPOUT_VALUE_1, DROPOUT_VALUE_2)\n",
        "    else :\n",
        "      model = BiLSTM_model(MAX_LEN, HIDDEN_DIMS, L2_REG, DROPOUT_VALUE_1, DROPOUT_VALUE_2)\n",
        "\n",
        "    \n",
        "  return model"
      ],
      "execution_count": 29,
      "outputs": []
    },
    {
      "cell_type": "markdown",
      "metadata": {
        "id": "d46ja9NetIpP"
      },
      "source": [
        "## Train and Test Model (Holdout Method)"
      ]
    },
    {
      "cell_type": "code",
      "metadata": {
        "colab": {
          "base_uri": "https://localhost:8080/",
          "height": 1000
        },
        "id": "rV8W-Nthbfh5",
        "outputId": "784b9c59-b9dd-484c-91af-a4f1a3974cff"
      },
      "source": [
        "model = build_model()\n",
        "# model = stacked_RNN_model_3(LSTM, MAX_LEN, HIDDEN_DIMS, L2_REG, DROPOUT_VALUE_1, DROPOUT_VALUE_2)\n",
        "plot_model(model,to_file=\"./model.png\")"
      ],
      "execution_count": 30,
      "outputs": [
        {
          "output_type": "stream",
          "text": [
            "WARNING:tensorflow:From /usr/local/lib/python3.7/dist-packages/tensorflow_core/python/ops/resource_variable_ops.py:1630: calling BaseResourceVariable.__init__ (from tensorflow.python.ops.resource_variable_ops) with constraint is deprecated and will be removed in a future version.\n",
            "Instructions for updating:\n",
            "If using Keras pass *_constraint arguments to layers.\n"
          ],
          "name": "stdout"
        },
        {
          "output_type": "stream",
          "text": [
            "/usr/local/lib/python3.7/dist-packages/ipykernel_launcher.py:13: UserWarning: Update your `Dense` call to the Keras 2 API: `Dense(400, activation=\"relu\", name=\"mlp\", kernel_initializer=\"he_normal\", kernel_constraint=<keras.con..., bias_constraint=<keras.con...)`\n",
            "  del sys.path[0]\n",
            "/usr/local/lib/python3.7/dist-packages/ipykernel_launcher.py:18: UserWarning: Update your `Dense` call to the Keras 2 API: `Dense(3, activation=\"softmax\", name=\"output\", kernel_initializer=\"he_normal\")`\n",
            "/usr/local/lib/python3.7/dist-packages/ipykernel_launcher.py:20: UserWarning: Update your `Model` call to the Keras 2 API: `Model(name=\"RNN_model\", inputs=Tensor(\"ma..., outputs=Tensor(\"ou...)`\n"
          ],
          "name": "stderr"
        },
        {
          "output_type": "stream",
          "text": [
            "Model: \"RNN_model\"\n",
            "_________________________________________________________________\n",
            "Layer (type)                 Output Shape              Param #   \n",
            "=================================================================\n",
            "main_input (InputLayer)      (None, 22)                0         \n",
            "_________________________________________________________________\n",
            "embedding (Embedding)        (None, 22, 300)           186600    \n",
            "_________________________________________________________________\n",
            "dropout_1 (Dropout)          (None, 22, 300)           0         \n",
            "_________________________________________________________________\n",
            "lstm_1 (LSTM)                (None, 400)               1121600   \n",
            "_________________________________________________________________\n",
            "mlp (Dense)                  (None, 400)               160400    \n",
            "_________________________________________________________________\n",
            "drop (Dropout)               (None, 400)               0         \n",
            "_________________________________________________________________\n",
            "output (Dense)               (None, 3)                 1203      \n",
            "=================================================================\n",
            "Total params: 1,469,803\n",
            "Trainable params: 1,283,203\n",
            "Non-trainable params: 186,600\n",
            "_________________________________________________________________\n",
            "None\n"
          ],
          "name": "stdout"
        },
        {
          "output_type": "execute_result",
          "data": {
            "image/png": "[encoded data removed]",
            "text/plain": [
              "<IPython.core.display.Image object>"
            ]
          },
          "metadata": {
            "tags": []
          },
          "execution_count": 30
        }
      ]
    },
    {
      "cell_type": "markdown",
      "metadata": {
        "id": "G61FNXmM_QSL"
      },
      "source": [
        "### Train Model"
      ]
    },
    {
      "cell_type": "code",
      "metadata": {
        "colab": {
          "base_uri": "https://localhost:8080/",
          "height": 1000
        },
        "id": "ye7IkwWamR2c",
        "outputId": "3e3096c3-9f17-49a4-b3cc-f9178d5456a1"
      },
      "source": [
        "# trained_model = Train_Model_old(model,X_train, X_test, y_train, y_test)\n",
        "trained_model, his = Train_Model(model,X_train, y_train, cross_validation = False)\n",
        "\n",
        "accuracy = his.history['accuracy']\n",
        "val_accuracy = his.history['val_accuracy']\n",
        "loss = his.history['loss']\n",
        "val_loss = his.history['val_loss']\n",
        "f1 = his.history['f1']\n",
        "val_f1 = his.history['f1']\n",
        "\n",
        "Plot_graphs(accuracy,val_accuracy, \"accuracy\")\n",
        "Plot_graphs(loss,val_loss, \"loss\")\n",
        "Plot_graphs(f1,val_f1, \"f1\")"
      ],
      "execution_count": 296,
      "outputs": [
        {
          "output_type": "stream",
          "text": [
            "Training and Testing...\n",
            "Train on 81 samples, validate on 9 samples\n",
            "Epoch 1/10\n",
            "81/81 [==============================] - 3s 32ms/step - loss: 1.1211 - accuracy: 0.3951 - precision_16: 0.3691 - recall_16: 0.2081 - f1: 0.2883 - val_loss: 0.5434 - val_accuracy: 0.8889 - val_precision_16: 0.5517 - val_recall_16: 0.3556 - val_f1: 0.8889\n",
            "\n",
            "Epoch 00001: val_f1 improved from -inf to 0.88889, saving model to /content/drive/Shareddrives/FYP/saved_models/1_LSTM_model_fasttext_300_5\n",
            "Epoch 2/10\n",
            "81/81 [==============================] - 1s 10ms/step - loss: 1.2462 - accuracy: 0.4815 - precision_16: 0.5757 - recall_16: 0.3857 - f1: 0.4681 - val_loss: 0.6998 - val_accuracy: 0.8889 - val_precision_16: 0.5897 - val_recall_16: 0.3833 - val_f1: 0.5714\n",
            "\n",
            "Epoch 00002: val_f1 did not improve from 0.88889\n",
            "Epoch 3/10\n",
            "81/81 [==============================] - 1s 10ms/step - loss: 0.7551 - accuracy: 0.6790 - precision_16: 0.6085 - recall_16: 0.4219 - f1: 0.6226 - val_loss: 0.6702 - val_accuracy: 0.8889 - val_precision_16: 0.6321 - val_recall_16: 0.4519 - val_f1: 0.7500\n",
            "\n",
            "Epoch 00003: val_f1 did not improve from 0.88889\n",
            "Epoch 4/10\n",
            "81/81 [==============================] - 1s 10ms/step - loss: 0.8311 - accuracy: 0.6296 - precision_16: 0.6347 - recall_16: 0.4666 - f1: 0.5564 - val_loss: 0.4306 - val_accuracy: 0.8889 - val_precision_16: 0.6455 - val_recall_16: 0.4806 - val_f1: 0.8889\n",
            "\n",
            "Epoch 00004: val_f1 did not improve from 0.88889\n",
            "Epoch 5/10\n",
            "81/81 [==============================] - 1s 10ms/step - loss: 0.9791 - accuracy: 0.6049 - precision_16: 0.6518 - recall_16: 0.5053 - f1: 0.5270 - val_loss: 0.6300 - val_accuracy: 0.8889 - val_precision_16: 0.6441 - val_recall_16: 0.5067 - val_f1: 0.8889\n",
            "\n",
            "Epoch 00005: val_f1 did not improve from 0.88889\n",
            "Epoch 6/10\n",
            "81/81 [==============================] - 1s 10ms/step - loss: 0.9865 - accuracy: 0.6543 - precision_16: 0.6409 - recall_16: 0.5004 - f1: 0.5817 - val_loss: 0.4539 - val_accuracy: 0.8889 - val_precision_16: 0.6501 - val_recall_16: 0.5093 - val_f1: 0.8889\n",
            "\n",
            "Epoch 00006: val_f1 did not improve from 0.88889\n",
            "Epoch 00006: early stopping\n"
          ],
          "name": "stdout"
        },
        {
          "output_type": "display_data",
          "data": {
            "image/png": "[encoded data removed]",
            "text/plain": [
              "<Figure size 432x288 with 1 Axes>"
            ]
          },
          "metadata": {
            "tags": [],
            "needs_background": "light"
          }
        },
        {
          "output_type": "display_data",
          "data": {
            "image/png": "[encoded data removed]",
            "text/plain": [
              "<Figure size 432x288 with 1 Axes>"
            ]
          },
          "metadata": {
            "tags": [],
            "needs_background": "light"
          }
        },
        {
          "output_type": "display_data",
          "data": {
            "image/png": "[encoded data removed]",
            "text/plain": [
              "<Figure size 432x288 with 1 Axes>"
            ]
          },
          "metadata": {
            "tags": [],
            "needs_background": "light"
          }
        },
        {
          "output_type": "display_data",
          "data": {
            "text/plain": [
              "<Figure size 432x288 with 0 Axes>"
            ]
          },
          "metadata": {
            "tags": []
          }
        }
      ]
    },
    {
      "cell_type": "markdown",
      "metadata": {
        "id": "H-RSSqI7BDqE"
      },
      "source": [
        "### Restart runtime and import Relibraries\n",
        "There is a bug, if run time isn't restart after this point, It's going to malfunction."
      ]
    },
    {
      "cell_type": "code",
      "metadata": {
        "id": "AnfxE-LmAWmK"
      },
      "source": [
        "# # os.kill(os.getpid(), 9)\n",
        "\n",
        "# exit()"
      ],
      "execution_count": 31,
      "outputs": []
    },
    {
      "cell_type": "code",
      "metadata": {
        "colab": {
          "base_uri": "https://localhost:8080/"
        },
        "id": "Yl7JuOSe3tBl",
        "outputId": "2b35a075-4c2d-4f00-adfc-c563cf1704c6"
      },
      "source": [
        "# model_save_path = folder_path + \"saved_models/1_weights_best_LSTM_model_fasttext_1.hdf5\"\n",
        "loaded_model  = tf.keras.models.load_model(model_save_path,custom_objects={\"f1\": f1}, compile=True)\n",
        "print(\"loaded \" + loaded_model.name)\n",
        "\n",
        "# _, train_acc,train_f1 = loaded_model.evaluate(X_train, y_train, verbose=1)\n",
        "# _, test_acc,test_f1= loaded_model.evaluate(X_test, y_test, verbose=1)\n",
        "# print('Train_acc: %.3f, Test_acc: %.3f, Train_f1: %.3f,  Test_f1: %.3f' % (train_acc, test_acc,train_f1,test_f1))"
      ],
      "execution_count": 32,
      "outputs": [
        {
          "output_type": "stream",
          "text": [
            "WARNING:tensorflow:From /usr/local/lib/python3.7/dist-packages/tensorflow_core/python/keras/initializers.py:119: calling RandomUniform.__init__ (from tensorflow.python.ops.init_ops) with dtype is deprecated and will be removed in a future version.\n",
            "Instructions for updating:\n",
            "Call initializer instance with the dtype argument instead of passing it to the constructor\n",
            "WARNING:tensorflow:From /usr/local/lib/python3.7/dist-packages/tensorflow_core/python/util/deprecation.py:507: calling VarianceScaling.__init__ (from tensorflow.python.ops.init_ops) with distribution=normal is deprecated and will be removed in a future version.\n",
            "Instructions for updating:\n",
            "`normal` is a deprecated alias for `truncated_normal`\n",
            "loaded RNN_model\n"
          ],
          "name": "stdout"
        }
      ]
    },
    {
      "cell_type": "code",
      "metadata": {
        "id": "Cxp9ViDsA2bb"
      },
      "source": [
        "# from keras.models import Sequential,Model,load_model\n",
        "# import pandas as pd\n",
        "# import numpy as np\n",
        "# from sklearn.metrics import accuracy_score, f1_score, precision_score, recall_score, classification_report, confusion_matrix,precision_recall_fscore_support\n",
        "\n",
        "# experiment_no = 100\n",
        "# model_name = \"RNN\"\n",
        "# experiment_name = folder_path + \"Sentiment Analysis/CNN RNN/experiments/\" + model_name +str(experiment_no)+\"_\"+embedding_type+\"_\"+str(EMBEDDING_SIZE)+\"_\"+str(context)\n",
        "\n",
        "# model_save_path = folder_path + \"Sentiment Analysis/CNN RNN/saved_models/weights_best_\"+model_name+\"_\"+embedding_type+\"_\"+str(EMBEDDING_SIZE)+\"_\"+str(experiment_no)+\".hdf5\""
      ],
      "execution_count": 33,
      "outputs": []
    },
    {
      "cell_type": "markdown",
      "metadata": {
        "id": "_VdzOT3zsB9m"
      },
      "source": [
        "### Test Model"
      ]
    },
    {
      "cell_type": "markdown",
      "metadata": {
        "id": "KMtXKRpRYBx2"
      },
      "source": [
        "#### Load Weights to Model"
      ]
    },
    {
      "cell_type": "markdown",
      "metadata": {
        "id": "BtZBU5XNZaMi"
      },
      "source": [
        "#### Get Predictions"
      ]
    },
    {
      "cell_type": "code",
      "metadata": {
        "colab": {
          "base_uri": "https://localhost:8080/"
        },
        "id": "MmA4iDmR2czB",
        "outputId": "e0f1b834-f776-4c18-873c-bca49bc1a4dc"
      },
      "source": [
        "predictions = loaded_model.predict(X_test, batch_size=BATCH_SIZE, verbose=1)\n",
        "labels = np.argmax(y_test, axis=1)\n",
        "predictions = np.argmax(predictions, axis=1)\n",
        "\n",
        "cm = confusion_matrix(labels,predictions)\n",
        "\n",
        "# classification_report\n",
        "report = classification_report(labels, predictions, digits=4,output_dict=True)\n",
        "report_print = classification_report(labels, predictions, digits=4)\n",
        "print(report_print)\n",
        "\n",
        "# report_df = pd.DataFrame(report).transpose()\n",
        "# report_df.to_csv(experiment_name+\".csv\")\n",
        "\n"
      ],
      "execution_count": 34,
      "outputs": [
        {
          "output_type": "stream",
          "text": [
            "\r10/10 [==============================] - 0s 13ms/sample\n",
            "              precision    recall  f1-score   support\n",
            "\n",
            "           0     0.0000    0.0000    0.0000         1\n",
            "           2     0.9000    1.0000    0.9474         9\n",
            "\n",
            "    accuracy                         0.9000        10\n",
            "   macro avg     0.4500    0.5000    0.4737        10\n",
            "weighted avg     0.8100    0.9000    0.8526        10\n",
            "\n"
          ],
          "name": "stdout"
        },
        {
          "output_type": "stream",
          "text": [
            "/usr/local/lib/python3.7/dist-packages/sklearn/metrics/_classification.py:1272: UndefinedMetricWarning: Precision and F-score are ill-defined and being set to 0.0 in labels with no predicted samples. Use `zero_division` parameter to control this behavior.\n",
            "  _warn_prf(average, modifier, msg_start, len(result))\n"
          ],
          "name": "stderr"
        }
      ]
    },
    {
      "cell_type": "code",
      "metadata": {
        "id": "A5QjsfZxq4fq",
        "colab": {
          "base_uri": "https://localhost:8080/"
        },
        "outputId": "26ba8040-f86e-4d07-da8c-b474c2473fcc"
      },
      "source": [
        "train_data_original, test_data_original = train_test_split(data, test_size=0.1, random_state=0)\n",
        "\n",
        "predictions_series = pd.Series(predictions)\n",
        "predictions_1 = pd.get_dummies(predictions_series).idxmax(1)\n",
        "predictions_series"
      ],
      "execution_count": 35,
      "outputs": [
        {
          "output_type": "execute_result",
          "data": {
            "text/plain": [
              "0    2\n",
              "1    2\n",
              "2    2\n",
              "3    2\n",
              "4    2\n",
              "5    2\n",
              "6    2\n",
              "7    2\n",
              "8    2\n",
              "9    2\n",
              "dtype: int64"
            ]
          },
          "metadata": {
            "tags": []
          },
          "execution_count": 35
        }
      ]
    },
    {
      "cell_type": "code",
      "metadata": {
        "id": "HT-ccXWZRdak"
      },
      "source": [
        "data_frame = pd.DataFrame({'comment': test_data_original['comment'], 'Labels': test_data_original['label'], 'Predictions': np.array(predictions_1)})\n",
        "\n",
        "def add_two(value):\n",
        "  return value+2\n",
        "\n",
        "#########################################\n",
        "def apply_label_name(value):\n",
        "  if value == 0:\n",
        "    return \"hate\"\n",
        "  if value == 1:\n",
        "    return \"abusive\"\n",
        "  if value == 2:\n",
        "    return \"not offensive\"\n",
        "\n",
        "data_frame[\"Predictions\"] = data_frame[\"Predictions\"].apply(apply_label_name) #.apply(add_two)\n",
        "\n",
        "prediction_save_name  = folder_path + \"predictions/LSTM_S3_predictions_with_labels_3.csv\"\n",
        "data_frame.to_csv(prediction_save_name)"
      ],
      "execution_count": 37,
      "outputs": []
    },
    {
      "cell_type": "markdown",
      "metadata": {
        "id": "qLkfB_XXPS3O"
      },
      "source": [
        "### Print confusion matrix"
      ]
    },
    {
      "cell_type": "code",
      "metadata": {
        "id": "bdCcVDhPPN_m"
      },
      "source": [
        "def plot_confusion_matrix(cm,\n",
        "                          target_names,\n",
        "                          title='Confusion matrix',\n",
        "                          cmap=None,\n",
        "                          normalize=True):\n",
        "    \"\"\"\n",
        "    given a sklearn confusion matrix (cm), make a nice plot\n",
        "\n",
        "    Arguments\n",
        "    ---------\n",
        "    cm:           confusion matrix from sklearn.metrics.confusion_matrix\n",
        "\n",
        "    target_names: given classification classes such as [0, 1, 2]\n",
        "                  the class names, for example: ['high', 'medium', 'low']\n",
        "\n",
        "    title:        the text to display at the top of the matrix\n",
        "\n",
        "    cmap:         the gradient of the values displayed from matplotlib.pyplot.cm\n",
        "                  see http://matplotlib.org/examples/color/colormaps_reference.html\n",
        "                  plt.get_cmap('jet') or plt.cm.Blues\n",
        "\n",
        "    normalize:    If False, plot the raw numbers\n",
        "                  If True, plot the proportions\n",
        "\n",
        "    Usage\n",
        "    -----\n",
        "    plot_confusion_matrix(cm           = cm,                  # confusion matrix created by\n",
        "                                                              # sklearn.metrics.confusion_matrix\n",
        "                          normalize    = True,                # show proportions\n",
        "                          target_names = y_labels_vals,       # list of names of the classes\n",
        "                          title        = best_estimator_name) # title of graph\n",
        "\n",
        "    Citiation\n",
        "    ---------\n",
        "    http://scikit-learn.org/stable/auto_examples/model_selection/plot_confusion_matrix.html\n",
        "\n",
        "    \"\"\"\n",
        "    import matplotlib.pyplot as plt\n",
        "    import numpy as np\n",
        "    import itertools\n",
        "\n",
        "    accuracy = np.trace(cm) / np.sum(cm).astype('float')\n",
        "    misclass = 1 - accuracy\n",
        "\n",
        "    if cmap is None:\n",
        "        cmap = plt.get_cmap('Blues')\n",
        "\n",
        "    plt.figure(figsize=(8, 6))\n",
        "    plt.imshow(cm, interpolation='nearest', cmap=cmap)\n",
        "    plt.title(title)\n",
        "    plt.colorbar()\n",
        "\n",
        "    if target_names is not None:\n",
        "        tick_marks = np.arange(len(target_names))\n",
        "        plt.xticks(tick_marks, target_names, rotation=45)\n",
        "        plt.yticks(tick_marks, target_names)\n",
        "\n",
        "    if normalize:\n",
        "        cm = cm.astype('float') / cm.sum(axis=1)[:, np.newaxis]\n",
        "\n",
        "\n",
        "    thresh = cm.max() / 1.5 if normalize else cm.max() / 2\n",
        "    for i, j in itertools.product(range(cm.shape[0]), range(cm.shape[1])):\n",
        "        if normalize:\n",
        "            plt.text(j, i, \"{:0.4f}\".format(cm[i, j]),\n",
        "                     horizontalalignment=\"center\",\n",
        "                     color=\"white\" if cm[i, j] > thresh else \"black\")\n",
        "        else:\n",
        "            plt.text(j, i, \"{:,}\".format(cm[i, j]),\n",
        "                     horizontalalignment=\"center\",\n",
        "                     color=\"white\" if cm[i, j] > thresh else \"black\")\n",
        "\n",
        "\n",
        "    plt.tight_layout()\n",
        "    plt.ylabel('True label')\n",
        "    plt.xlabel('Predicted label\\naccuracy={:0.4f}; misclass={:0.4f}'.format(accuracy, misclass))\n",
        "    plt.show()"
      ],
      "execution_count": 38,
      "outputs": []
    },
    {
      "cell_type": "code",
      "metadata": {
        "colab": {
          "base_uri": "https://localhost:8080/",
          "height": 467
        },
        "id": "aVJwG_4FPQ2f",
        "outputId": "d68dbc87-dc7e-4791-d57e-f71b15a0b923"
      },
      "source": [
        "plot_confusion_matrix(cm, [0,1,2],normalize=False)"
      ],
      "execution_count": 39,
      "outputs": [
        {
          "output_type": "display_data",
          "data": {
            "image/png": "[encoded data removed]",
            "text/plain": [
              "<Figure size 576x432 with 2 Axes>"
            ]
          },
          "metadata": {
            "tags": [],
            "needs_background": "light"
          }
        }
      ]
    },
    {
      "cell_type": "markdown",
      "metadata": {
        "id": "_-x34NEZtU5C"
      },
      "source": [
        "## Train and Test Model (Cross Validation)"
      ]
    },
    {
      "cell_type": "code",
      "metadata": {
        "colab": {
          "base_uri": "https://localhost:8080/"
        },
        "id": "2iZDvr80VxPN",
        "outputId": "fb7be12c-60e4-47da-dc67-55906004bd5c"
      },
      "source": [
        "# Do_Cross_Validation(model,padded_docs,comment_labels)\n",
        "Do_Cross_Validation(padded_docs,comment_labels)"
      ],
      "execution_count": 40,
      "outputs": [
        {
          "output_type": "stream",
          "text": [
            "/usr/local/lib/python3.7/dist-packages/ipykernel_launcher.py:13: UserWarning: Update your `Dense` call to the Keras 2 API: `Dense(400, activation=\"relu\", name=\"mlp\", kernel_initializer=\"he_normal\", kernel_constraint=<keras.con..., bias_constraint=<keras.con...)`\n",
            "  del sys.path[0]\n",
            "/usr/local/lib/python3.7/dist-packages/ipykernel_launcher.py:18: UserWarning: Update your `Dense` call to the Keras 2 API: `Dense(3, activation=\"softmax\", name=\"output\", kernel_initializer=\"he_normal\")`\n",
            "/usr/local/lib/python3.7/dist-packages/ipykernel_launcher.py:20: UserWarning: Update your `Model` call to the Keras 2 API: `Model(name=\"RNN_model\", inputs=Tensor(\"ma..., outputs=Tensor(\"ou...)`\n"
          ],
          "name": "stderr"
        },
        {
          "output_type": "stream",
          "text": [
            "Model: \"RNN_model\"\n",
            "_________________________________________________________________\n",
            "Layer (type)                 Output Shape              Param #   \n",
            "=================================================================\n",
            "main_input (InputLayer)      (None, 22)                0         \n",
            "_________________________________________________________________\n",
            "embedding (Embedding)        (None, 22, 300)           186600    \n",
            "_________________________________________________________________\n",
            "dropout_2 (Dropout)          (None, 22, 300)           0         \n",
            "_________________________________________________________________\n",
            "gru_2 (GRU)                  (None, 400)               841200    \n",
            "_________________________________________________________________\n",
            "mlp (Dense)                  (None, 400)               160400    \n",
            "_________________________________________________________________\n",
            "drop (Dropout)               (None, 400)               0         \n",
            "_________________________________________________________________\n",
            "output (Dense)               (None, 3)                 1203      \n",
            "=================================================================\n",
            "Total params: 1,189,403\n",
            "Trainable params: 1,002,803\n",
            "Non-trainable params: 186,600\n",
            "_________________________________________________________________\n",
            "None\n",
            "------------------------------------------------------------------------\n",
            "Training for fold 1 ...\n",
            "Training and Testing...\n",
            "WARNING:tensorflow:From /usr/local/lib/python3.7/dist-packages/keras/backend/tensorflow_backend.py:422: The name tf.global_variables is deprecated. Please use tf.compat.v1.global_variables instead.\n",
            "\n",
            "Train on 81 samples, validate on 9 samples\n",
            "Epoch 1/10\n",
            "81/81 [==============================] - 2s 19ms/step - loss: 1.0712 - accuracy: 0.4321 - precision_1: 0.4339 - recall_1: 0.2268 - f1: 0.3175 - val_loss: 0.4006 - val_accuracy: 0.8889 - val_precision_1: 0.6538 - val_recall_1: 0.3778 - val_f1: 0.8889\n",
            "Epoch 2/10\n",
            "81/81 [==============================] - 1s 10ms/step - loss: 0.8127 - accuracy: 0.7407 - precision_1: 0.6886 - recall_1: 0.4657 - f1: 0.6695 - val_loss: 0.7419 - val_accuracy: 0.8889 - val_precision_1: 0.7049 - val_recall_1: 0.4778 - val_f1: 0.5000\n",
            "Epoch 3/10\n",
            "81/81 [==============================] - 1s 10ms/step - loss: 0.8507 - accuracy: 0.6420 - precision_1: 0.7112 - recall_1: 0.4868 - f1: 0.5880 - val_loss: 1.0453 - val_accuracy: 0.1111 - val_precision_1: 0.6878 - val_recall_1: 0.4815 - val_f1: 0.0000e+00\n",
            "Epoch 4/10\n",
            "81/81 [==============================] - 1s 10ms/step - loss: 0.9624 - accuracy: 0.5185 - precision_1: 0.6625 - recall_1: 0.4496 - f1: 0.3655 - val_loss: 0.3660 - val_accuracy: 0.8889 - val_precision_1: 0.6735 - val_recall_1: 0.4583 - val_f1: 0.8889\n",
            "Epoch 5/10\n",
            "81/81 [==============================] - 1s 9ms/step - loss: 0.7247 - accuracy: 0.6914 - precision_1: 0.6790 - recall_1: 0.4795 - f1: 0.6808 - val_loss: 0.3910 - val_accuracy: 0.8889 - val_precision_1: 0.6883 - val_recall_1: 0.4956 - val_f1: 0.8889\n",
            "Epoch 6/10\n",
            "81/81 [==============================] - 1s 9ms/step - loss: 0.7533 - accuracy: 0.7160 - precision_1: 0.6947 - recall_1: 0.5139 - f1: 0.6710 - val_loss: 0.5096 - val_accuracy: 0.8889 - val_precision_1: 0.6988 - val_recall_1: 0.5241 - val_f1: 0.8889\n",
            "Epoch 00006: early stopping\n",
            "Score for fold 1:\n",
            "     loss of 0.595061719417572; \n",
            "     accuracy of 80.0000011920929% ;\n",
            "     precision_1 of 70.12048363685608% ;\n",
            "     recall_1 of 52.909088134765625% ;\n",
            "     f1 of 80.0000011920929% ;\n",
            "     \n"
          ],
          "name": "stdout"
        },
        {
          "output_type": "stream",
          "text": [
            "/usr/local/lib/python3.7/dist-packages/ipykernel_launcher.py:13: UserWarning: Update your `Dense` call to the Keras 2 API: `Dense(400, activation=\"relu\", name=\"mlp\", kernel_initializer=\"he_normal\", kernel_constraint=<keras.con..., bias_constraint=<keras.con...)`\n",
            "  del sys.path[0]\n",
            "/usr/local/lib/python3.7/dist-packages/ipykernel_launcher.py:18: UserWarning: Update your `Dense` call to the Keras 2 API: `Dense(3, activation=\"softmax\", name=\"output\", kernel_initializer=\"he_normal\")`\n",
            "/usr/local/lib/python3.7/dist-packages/ipykernel_launcher.py:20: UserWarning: Update your `Model` call to the Keras 2 API: `Model(name=\"RNN_model\", inputs=Tensor(\"ma..., outputs=Tensor(\"ou...)`\n"
          ],
          "name": "stderr"
        },
        {
          "output_type": "stream",
          "text": [
            "Model: \"RNN_model\"\n",
            "_________________________________________________________________\n",
            "Layer (type)                 Output Shape              Param #   \n",
            "=================================================================\n",
            "main_input (InputLayer)      (None, 22)                0         \n",
            "_________________________________________________________________\n",
            "embedding (Embedding)        (None, 22, 300)           186600    \n",
            "_________________________________________________________________\n",
            "dropout_3 (Dropout)          (None, 22, 300)           0         \n",
            "_________________________________________________________________\n",
            "gru_3 (GRU)                  (None, 400)               841200    \n",
            "_________________________________________________________________\n",
            "mlp (Dense)                  (None, 400)               160400    \n",
            "_________________________________________________________________\n",
            "drop (Dropout)               (None, 400)               0         \n",
            "_________________________________________________________________\n",
            "output (Dense)               (None, 3)                 1203      \n",
            "=================================================================\n",
            "Total params: 1,189,403\n",
            "Trainable params: 1,002,803\n",
            "Non-trainable params: 186,600\n",
            "_________________________________________________________________\n",
            "None\n",
            "------------------------------------------------------------------------\n",
            "Training for fold 2 ...\n",
            "Training and Testing...\n",
            "Train on 81 samples, validate on 9 samples\n",
            "Epoch 1/10\n",
            "81/81 [==============================] - 1s 18ms/step - loss: 1.1062 - accuracy: 0.4815 - precision_2: 0.4334 - recall_2: 0.2186 - f1: 0.2703 - val_loss: 0.3818 - val_accuracy: 0.8889 - val_precision_2: 0.6154 - val_recall_2: 0.3556 - val_f1: 0.8889\n",
            "Epoch 2/10\n",
            "81/81 [==============================] - 1s 9ms/step - loss: 1.0396 - accuracy: 0.5926 - precision_2: 0.6143 - recall_2: 0.4189 - f1: 0.5889 - val_loss: 0.3803 - val_accuracy: 0.8889 - val_precision_2: 0.6308 - val_recall_2: 0.4556 - val_f1: 0.8889\n",
            "Epoch 3/10\n",
            "81/81 [==============================] - 1s 9ms/step - loss: 0.8311 - accuracy: 0.6914 - precision_2: 0.6531 - recall_2: 0.4793 - f1: 0.6787 - val_loss: 0.3764 - val_accuracy: 0.8889 - val_precision_2: 0.6782 - val_recall_2: 0.5074 - val_f1: 0.8889\n",
            "Epoch 4/10\n",
            "81/81 [==============================] - 1s 9ms/step - loss: 0.7947 - accuracy: 0.7531 - precision_2: 0.6901 - recall_2: 0.5373 - f1: 0.7287 - val_loss: 0.3675 - val_accuracy: 0.8889 - val_precision_2: 0.7028 - val_recall_2: 0.5583 - val_f1: 0.8889\n",
            "Epoch 5/10\n",
            "81/81 [==============================] - 1s 9ms/step - loss: 0.7178 - accuracy: 0.7531 - precision_2: 0.7144 - recall_2: 0.5830 - f1: 0.7062 - val_loss: 1.2107 - val_accuracy: 0.1111 - val_precision_2: 0.7038 - val_recall_2: 0.5756 - val_f1: 0.1333\n",
            "Epoch 6/10\n",
            "81/81 [==============================] - 1s 9ms/step - loss: 0.9989 - accuracy: 0.5185 - precision_2: 0.6796 - recall_2: 0.5501 - f1: 0.3999 - val_loss: 0.3923 - val_accuracy: 0.8889 - val_precision_2: 0.6819 - val_recall_2: 0.5519 - val_f1: 0.8889\n",
            "Epoch 00006: early stopping\n",
            "Score for fold 2:\n",
            "     loss of 0.7156974077224731; \n",
            "     accuracy of 60.00000238418579% ;\n",
            "     precision_2 of 68.1614339351654% ;\n",
            "     recall_2 of 55.27272820472717% ;\n",
            "     f1 of 63.15789222717285% ;\n",
            "     \n"
          ],
          "name": "stdout"
        },
        {
          "output_type": "stream",
          "text": [
            "/usr/local/lib/python3.7/dist-packages/ipykernel_launcher.py:13: UserWarning: Update your `Dense` call to the Keras 2 API: `Dense(400, activation=\"relu\", name=\"mlp\", kernel_initializer=\"he_normal\", kernel_constraint=<keras.con..., bias_constraint=<keras.con...)`\n",
            "  del sys.path[0]\n",
            "/usr/local/lib/python3.7/dist-packages/ipykernel_launcher.py:18: UserWarning: Update your `Dense` call to the Keras 2 API: `Dense(3, activation=\"softmax\", name=\"output\", kernel_initializer=\"he_normal\")`\n",
            "/usr/local/lib/python3.7/dist-packages/ipykernel_launcher.py:20: UserWarning: Update your `Model` call to the Keras 2 API: `Model(name=\"RNN_model\", inputs=Tensor(\"ma..., outputs=Tensor(\"ou...)`\n"
          ],
          "name": "stderr"
        },
        {
          "output_type": "stream",
          "text": [
            "Model: \"RNN_model\"\n",
            "_________________________________________________________________\n",
            "Layer (type)                 Output Shape              Param #   \n",
            "=================================================================\n",
            "main_input (InputLayer)      (None, 22)                0         \n",
            "_________________________________________________________________\n",
            "embedding (Embedding)        (None, 22, 300)           186600    \n",
            "_________________________________________________________________\n",
            "dropout_4 (Dropout)          (None, 22, 300)           0         \n",
            "_________________________________________________________________\n",
            "gru_4 (GRU)                  (None, 400)               841200    \n",
            "_________________________________________________________________\n",
            "mlp (Dense)                  (None, 400)               160400    \n",
            "_________________________________________________________________\n",
            "drop (Dropout)               (None, 400)               0         \n",
            "_________________________________________________________________\n",
            "output (Dense)               (None, 3)                 1203      \n",
            "=================================================================\n",
            "Total params: 1,189,403\n",
            "Trainable params: 1,002,803\n",
            "Non-trainable params: 186,600\n",
            "_________________________________________________________________\n",
            "None\n",
            "------------------------------------------------------------------------\n",
            "Training for fold 3 ...\n",
            "Training and Testing...\n",
            "Train on 81 samples, validate on 9 samples\n",
            "Epoch 1/10\n",
            "81/81 [==============================] - 2s 19ms/step - loss: 1.1482 - accuracy: 0.5309 - precision_3: 0.4015 - recall_3: 0.2205 - f1: 0.3567 - val_loss: 0.1022 - val_accuracy: 1.0000 - val_precision_3: 0.6545 - val_recall_3: 0.4000 - val_f1: 1.0000\n",
            "Epoch 2/10\n",
            "81/81 [==============================] - 1s 9ms/step - loss: 0.9852 - accuracy: 0.5926 - precision_3: 0.6410 - recall_3: 0.4485 - f1: 0.5891 - val_loss: 0.2225 - val_accuracy: 1.0000 - val_precision_3: 0.6641 - val_recall_3: 0.4833 - val_f1: 1.0000\n",
            "Epoch 3/10\n",
            "81/81 [==============================] - 1s 10ms/step - loss: 0.8327 - accuracy: 0.5802 - precision_3: 0.6361 - recall_3: 0.4884 - f1: 0.6195 - val_loss: 0.0401 - val_accuracy: 1.0000 - val_precision_3: 0.6557 - val_recall_3: 0.5148 - val_f1: 1.0000\n",
            "Epoch 4/10\n",
            "81/81 [==============================] - 1s 9ms/step - loss: 0.7947 - accuracy: 0.7284 - precision_3: 0.6730 - recall_3: 0.5466 - f1: 0.7120 - val_loss: 0.3567 - val_accuracy: 1.0000 - val_precision_3: 0.6869 - val_recall_3: 0.5667 - val_f1: 1.0000\n",
            "Epoch 5/10\n",
            "81/81 [==============================] - 1s 9ms/step - loss: 0.7687 - accuracy: 0.7037 - precision_3: 0.6895 - recall_3: 0.5742 - f1: 0.6667 - val_loss: 0.6315 - val_accuracy: 1.0000 - val_precision_3: 0.6968 - val_recall_3: 0.5822 - val_f1: 0.8750\n",
            "Epoch 6/10\n",
            "81/81 [==============================] - 1s 9ms/step - loss: 0.6958 - accuracy: 0.6790 - precision_3: 0.6973 - recall_3: 0.5794 - f1: 0.6802 - val_loss: 0.0869 - val_accuracy: 1.0000 - val_precision_3: 0.7080 - val_recall_3: 0.5926 - val_f1: 1.0000\n",
            "Epoch 00006: early stopping\n",
            "Score for fold 3:\n",
            "     loss of 1.3331754207611084; \n",
            "     accuracy of 69.9999988079071% ;\n",
            "     precision_3 of 70.77922224998474% ;\n",
            "     recall_3 of 59.454548358917236% ;\n",
            "     f1 of 69.99999284744263% ;\n",
            "     \n"
          ],
          "name": "stdout"
        },
        {
          "output_type": "stream",
          "text": [
            "/usr/local/lib/python3.7/dist-packages/ipykernel_launcher.py:13: UserWarning: Update your `Dense` call to the Keras 2 API: `Dense(400, activation=\"relu\", name=\"mlp\", kernel_initializer=\"he_normal\", kernel_constraint=<keras.con..., bias_constraint=<keras.con...)`\n",
            "  del sys.path[0]\n",
            "/usr/local/lib/python3.7/dist-packages/ipykernel_launcher.py:18: UserWarning: Update your `Dense` call to the Keras 2 API: `Dense(3, activation=\"softmax\", name=\"output\", kernel_initializer=\"he_normal\")`\n",
            "/usr/local/lib/python3.7/dist-packages/ipykernel_launcher.py:20: UserWarning: Update your `Model` call to the Keras 2 API: `Model(name=\"RNN_model\", inputs=Tensor(\"ma..., outputs=Tensor(\"ou...)`\n"
          ],
          "name": "stderr"
        },
        {
          "output_type": "stream",
          "text": [
            "Model: \"RNN_model\"\n",
            "_________________________________________________________________\n",
            "Layer (type)                 Output Shape              Param #   \n",
            "=================================================================\n",
            "main_input (InputLayer)      (None, 22)                0         \n",
            "_________________________________________________________________\n",
            "embedding (Embedding)        (None, 22, 300)           186600    \n",
            "_________________________________________________________________\n",
            "dropout_5 (Dropout)          (None, 22, 300)           0         \n",
            "_________________________________________________________________\n",
            "gru_5 (GRU)                  (None, 400)               841200    \n",
            "_________________________________________________________________\n",
            "mlp (Dense)                  (None, 400)               160400    \n",
            "_________________________________________________________________\n",
            "drop (Dropout)               (None, 400)               0         \n",
            "_________________________________________________________________\n",
            "output (Dense)               (None, 3)                 1203      \n",
            "=================================================================\n",
            "Total params: 1,189,403\n",
            "Trainable params: 1,002,803\n",
            "Non-trainable params: 186,600\n",
            "_________________________________________________________________\n",
            "None\n",
            "------------------------------------------------------------------------\n",
            "Training for fold 4 ...\n",
            "Training and Testing...\n",
            "Train on 81 samples, validate on 9 samples\n",
            "Epoch 1/10\n",
            "81/81 [==============================] - 2s 20ms/step - loss: 1.2647 - accuracy: 0.3951 - precision_4: 0.3478 - recall_4: 0.2040 - f1: 0.2618 - val_loss: 0.4543 - val_accuracy: 0.8889 - val_precision_4: 0.5254 - val_recall_4: 0.3444 - val_f1: 0.8889\n",
            "Epoch 2/10\n",
            "81/81 [==============================] - 1s 10ms/step - loss: 0.8469 - accuracy: 0.7037 - precision_4: 0.6201 - recall_4: 0.4515 - f1: 0.6456 - val_loss: 1.2057 - val_accuracy: 0.1111 - val_precision_4: 0.5970 - val_recall_4: 0.4444 - val_f1: 0.1111\n",
            "Epoch 3/10\n",
            "81/81 [==============================] - 1s 10ms/step - loss: 0.9498 - accuracy: 0.5679 - precision_4: 0.5861 - recall_4: 0.4525 - f1: 0.5770 - val_loss: 0.8467 - val_accuracy: 0.4444 - val_precision_4: 0.6049 - val_recall_4: 0.4593 - val_f1: 0.0000e+00\n",
            "Epoch 4/10\n",
            "81/81 [==============================] - 1s 9ms/step - loss: 0.7297 - accuracy: 0.7037 - precision_4: 0.6234 - recall_4: 0.4659 - f1: 0.6618 - val_loss: 0.3678 - val_accuracy: 0.8889 - val_precision_4: 0.6486 - val_recall_4: 0.4972 - val_f1: 0.8889\n",
            "Epoch 5/10\n",
            "81/81 [==============================] - 1s 9ms/step - loss: 0.8458 - accuracy: 0.5926 - precision_4: 0.6450 - recall_4: 0.5015 - f1: 0.5852 - val_loss: 0.4069 - val_accuracy: 0.8889 - val_precision_4: 0.6506 - val_recall_4: 0.5089 - val_f1: 0.8889\n",
            "Epoch 6/10\n",
            "81/81 [==============================] - 1s 10ms/step - loss: 0.7509 - accuracy: 0.7160 - precision_4: 0.6572 - recall_4: 0.5237 - f1: 0.7175 - val_loss: 0.3688 - val_accuracy: 0.8889 - val_precision_4: 0.6682 - val_recall_4: 0.5370 - val_f1: 0.8889\n",
            "Epoch 00006: early stopping\n",
            "Score for fold 4:\n",
            "     loss of 0.7180473804473877; \n",
            "     accuracy of 80.0000011920929% ;\n",
            "     precision_4 of 67.04288721084595% ;\n",
            "     recall_4 of 54.00000214576721% ;\n",
            "     f1 of 73.68420362472534% ;\n",
            "     \n"
          ],
          "name": "stdout"
        },
        {
          "output_type": "stream",
          "text": [
            "/usr/local/lib/python3.7/dist-packages/ipykernel_launcher.py:13: UserWarning: Update your `Dense` call to the Keras 2 API: `Dense(400, activation=\"relu\", name=\"mlp\", kernel_initializer=\"he_normal\", kernel_constraint=<keras.con..., bias_constraint=<keras.con...)`\n",
            "  del sys.path[0]\n",
            "/usr/local/lib/python3.7/dist-packages/ipykernel_launcher.py:18: UserWarning: Update your `Dense` call to the Keras 2 API: `Dense(3, activation=\"softmax\", name=\"output\", kernel_initializer=\"he_normal\")`\n",
            "/usr/local/lib/python3.7/dist-packages/ipykernel_launcher.py:20: UserWarning: Update your `Model` call to the Keras 2 API: `Model(name=\"RNN_model\", inputs=Tensor(\"ma..., outputs=Tensor(\"ou...)`\n"
          ],
          "name": "stderr"
        },
        {
          "output_type": "stream",
          "text": [
            "Model: \"RNN_model\"\n",
            "_________________________________________________________________\n",
            "Layer (type)                 Output Shape              Param #   \n",
            "=================================================================\n",
            "main_input (InputLayer)      (None, 22)                0         \n",
            "_________________________________________________________________\n",
            "embedding (Embedding)        (None, 22, 300)           186600    \n",
            "_________________________________________________________________\n",
            "dropout_6 (Dropout)          (None, 22, 300)           0         \n",
            "_________________________________________________________________\n",
            "gru_6 (GRU)                  (None, 400)               841200    \n",
            "_________________________________________________________________\n",
            "mlp (Dense)                  (None, 400)               160400    \n",
            "_________________________________________________________________\n",
            "drop (Dropout)               (None, 400)               0         \n",
            "_________________________________________________________________\n",
            "output (Dense)               (None, 3)                 1203      \n",
            "=================================================================\n",
            "Total params: 1,189,403\n",
            "Trainable params: 1,002,803\n",
            "Non-trainable params: 186,600\n",
            "_________________________________________________________________\n",
            "None\n",
            "------------------------------------------------------------------------\n",
            "Training for fold 5 ...\n",
            "Training and Testing...\n",
            "Train on 81 samples, validate on 9 samples\n",
            "Epoch 1/10\n",
            "81/81 [==============================] - 2s 21ms/step - loss: 1.2922 - accuracy: 0.3827 - precision_5: 0.5376 - recall_5: 0.1969 - f1: 0.2239 - val_loss: 0.4031 - val_accuracy: 0.8889 - val_precision_5: 0.5600 - val_recall_5: 0.3111 - val_f1: 0.8889\n",
            "Epoch 2/10\n",
            "81/81 [==============================] - 1s 10ms/step - loss: 0.8270 - accuracy: 0.7037 - precision_5: 0.6328 - recall_5: 0.4063 - f1: 0.6150 - val_loss: 0.5062 - val_accuracy: 0.8889 - val_precision_5: 0.6612 - val_recall_5: 0.4444 - val_f1: 0.8889\n",
            "Epoch 3/10\n",
            "81/81 [==============================] - 1s 9ms/step - loss: 0.7667 - accuracy: 0.6914 - precision_5: 0.6668 - recall_5: 0.4753 - f1: 0.6490 - val_loss: 0.7371 - val_accuracy: 0.5556 - val_precision_5: 0.6650 - val_recall_5: 0.4852 - val_f1: 0.2667\n",
            "Epoch 4/10\n",
            "81/81 [==============================] - 1s 10ms/step - loss: 0.7831 - accuracy: 0.6914 - precision_5: 0.6675 - recall_5: 0.5006 - f1: 0.6332 - val_loss: 1.1350 - val_accuracy: 0.1111 - val_precision_5: 0.6582 - val_recall_5: 0.5028 - val_f1: 0.1250\n",
            "Epoch 5/10\n",
            "81/81 [==============================] - 1s 10ms/step - loss: 0.9015 - accuracy: 0.6173 - precision_5: 0.6453 - recall_5: 0.4968 - f1: 0.5822 - val_loss: 0.3560 - val_accuracy: 0.8889 - val_precision_5: 0.6581 - val_recall_5: 0.5133 - val_f1: 0.8889\n",
            "Epoch 6/10\n",
            "81/81 [==============================] - 1s 9ms/step - loss: 0.7710 - accuracy: 0.7037 - precision_5: 0.6661 - recall_5: 0.5291 - f1: 0.6818 - val_loss: 0.3754 - val_accuracy: 0.8889 - val_precision_5: 0.6721 - val_recall_5: 0.5389 - val_f1: 0.8889\n",
            "Epoch 00006: early stopping\n",
            "Score for fold 5:\n",
            "     loss of 0.6963492035865784; \n",
            "     accuracy of 80.0000011920929% ;\n",
            "     precision_5 of 67.49435663223267% ;\n",
            "     recall_5 of 54.363638162612915% ;\n",
            "     f1 of 80.0000011920929% ;\n",
            "     \n"
          ],
          "name": "stdout"
        },
        {
          "output_type": "stream",
          "text": [
            "/usr/local/lib/python3.7/dist-packages/ipykernel_launcher.py:13: UserWarning: Update your `Dense` call to the Keras 2 API: `Dense(400, activation=\"relu\", name=\"mlp\", kernel_initializer=\"he_normal\", kernel_constraint=<keras.con..., bias_constraint=<keras.con...)`\n",
            "  del sys.path[0]\n",
            "/usr/local/lib/python3.7/dist-packages/ipykernel_launcher.py:18: UserWarning: Update your `Dense` call to the Keras 2 API: `Dense(3, activation=\"softmax\", name=\"output\", kernel_initializer=\"he_normal\")`\n",
            "/usr/local/lib/python3.7/dist-packages/ipykernel_launcher.py:20: UserWarning: Update your `Model` call to the Keras 2 API: `Model(name=\"RNN_model\", inputs=Tensor(\"ma..., outputs=Tensor(\"ou...)`\n"
          ],
          "name": "stderr"
        },
        {
          "output_type": "stream",
          "text": [
            "Model: \"RNN_model\"\n",
            "_________________________________________________________________\n",
            "Layer (type)                 Output Shape              Param #   \n",
            "=================================================================\n",
            "main_input (InputLayer)      (None, 22)                0         \n",
            "_________________________________________________________________\n",
            "embedding (Embedding)        (None, 22, 300)           186600    \n",
            "_________________________________________________________________\n",
            "dropout_7 (Dropout)          (None, 22, 300)           0         \n",
            "_________________________________________________________________\n",
            "gru_7 (GRU)                  (None, 400)               841200    \n",
            "_________________________________________________________________\n",
            "mlp (Dense)                  (None, 400)               160400    \n",
            "_________________________________________________________________\n",
            "drop (Dropout)               (None, 400)               0         \n",
            "_________________________________________________________________\n",
            "output (Dense)               (None, 3)                 1203      \n",
            "=================================================================\n",
            "Total params: 1,189,403\n",
            "Trainable params: 1,002,803\n",
            "Non-trainable params: 186,600\n",
            "_________________________________________________________________\n",
            "None\n",
            "------------------------------------------------------------------------\n",
            "Training for fold 6 ...\n",
            "Training and Testing...\n",
            "Train on 81 samples, validate on 9 samples\n",
            "Epoch 1/10\n",
            "81/81 [==============================] - 2s 22ms/step - loss: 1.3577 - accuracy: 0.3457 - precision_6: 0.3830 - recall_6: 0.1865 - f1: 0.2484 - val_loss: 0.3873 - val_accuracy: 0.8889 - val_precision_6: 0.5091 - val_recall_6: 0.3111 - val_f1: 0.8889\n",
            "Epoch 2/10\n",
            "81/81 [==============================] - 1s 9ms/step - loss: 0.8712 - accuracy: 0.6914 - precision_6: 0.5782 - recall_6: 0.3773 - f1: 0.6165 - val_loss: 0.6069 - val_accuracy: 0.8889 - val_precision_6: 0.6198 - val_recall_6: 0.4167 - val_f1: 0.6667\n",
            "Epoch 3/10\n",
            "81/81 [==============================] - 1s 9ms/step - loss: 0.7273 - accuracy: 0.7284 - precision_6: 0.6364 - recall_6: 0.4457 - f1: 0.6636 - val_loss: 0.6304 - val_accuracy: 0.8889 - val_precision_6: 0.6650 - val_recall_6: 0.4852 - val_f1: 0.8889\n",
            "Epoch 4/10\n",
            "81/81 [==============================] - 1s 9ms/step - loss: 1.0771 - accuracy: 0.6296 - precision_6: 0.6602 - recall_6: 0.4841 - f1: 0.4982 - val_loss: 0.4142 - val_accuracy: 0.8889 - val_precision_6: 0.6679 - val_recall_6: 0.4917 - val_f1: 0.8889\n",
            "Epoch 5/10\n",
            "81/81 [==============================] - 1s 9ms/step - loss: 0.7894 - accuracy: 0.6049 - precision_6: 0.6515 - recall_6: 0.4917 - f1: 0.5960 - val_loss: 0.3328 - val_accuracy: 0.8889 - val_precision_6: 0.6580 - val_recall_6: 0.5044 - val_f1: 0.8889\n",
            "Epoch 6/10\n",
            "81/81 [==============================] - 1s 9ms/step - loss: 0.8124 - accuracy: 0.6914 - precision_6: 0.6689 - recall_6: 0.5187 - f1: 0.6673 - val_loss: 0.3547 - val_accuracy: 0.8889 - val_precision_6: 0.6762 - val_recall_6: 0.5259 - val_f1: 0.8889\n",
            "Epoch 00006: early stopping\n",
            "Score for fold 6:\n",
            "     loss of 0.6126790046691895; \n",
            "     accuracy of 80.0000011920929% ;\n",
            "     precision_6 of 67.90697574615479% ;\n",
            "     recall_6 of 53.09090614318848% ;\n",
            "     f1 of 80.0000011920929% ;\n",
            "     \n"
          ],
          "name": "stdout"
        },
        {
          "output_type": "stream",
          "text": [
            "/usr/local/lib/python3.7/dist-packages/ipykernel_launcher.py:13: UserWarning: Update your `Dense` call to the Keras 2 API: `Dense(400, activation=\"relu\", name=\"mlp\", kernel_initializer=\"he_normal\", kernel_constraint=<keras.con..., bias_constraint=<keras.con...)`\n",
            "  del sys.path[0]\n",
            "/usr/local/lib/python3.7/dist-packages/ipykernel_launcher.py:18: UserWarning: Update your `Dense` call to the Keras 2 API: `Dense(3, activation=\"softmax\", name=\"output\", kernel_initializer=\"he_normal\")`\n",
            "/usr/local/lib/python3.7/dist-packages/ipykernel_launcher.py:20: UserWarning: Update your `Model` call to the Keras 2 API: `Model(name=\"RNN_model\", inputs=Tensor(\"ma..., outputs=Tensor(\"ou...)`\n"
          ],
          "name": "stderr"
        },
        {
          "output_type": "stream",
          "text": [
            "Model: \"RNN_model\"\n",
            "_________________________________________________________________\n",
            "Layer (type)                 Output Shape              Param #   \n",
            "=================================================================\n",
            "main_input (InputLayer)      (None, 22)                0         \n",
            "_________________________________________________________________\n",
            "embedding (Embedding)        (None, 22, 300)           186600    \n",
            "_________________________________________________________________\n",
            "dropout_8 (Dropout)          (None, 22, 300)           0         \n",
            "_________________________________________________________________\n",
            "gru_8 (GRU)                  (None, 400)               841200    \n",
            "_________________________________________________________________\n",
            "mlp (Dense)                  (None, 400)               160400    \n",
            "_________________________________________________________________\n",
            "drop (Dropout)               (None, 400)               0         \n",
            "_________________________________________________________________\n",
            "output (Dense)               (None, 3)                 1203      \n",
            "=================================================================\n",
            "Total params: 1,189,403\n",
            "Trainable params: 1,002,803\n",
            "Non-trainable params: 186,600\n",
            "_________________________________________________________________\n",
            "None\n",
            "------------------------------------------------------------------------\n",
            "Training for fold 7 ...\n",
            "Training and Testing...\n",
            "Train on 81 samples, validate on 9 samples\n",
            "Epoch 1/10\n",
            "81/81 [==============================] - 2s 22ms/step - loss: 1.0608 - accuracy: 0.4568 - precision_7: 0.4357 - recall_7: 0.2268 - f1: 0.3059 - val_loss: 0.4554 - val_accuracy: 0.8889 - val_precision_7: 0.6182 - val_recall_7: 0.3778 - val_f1: 0.8889\n",
            "Epoch 2/10\n",
            "81/81 [==============================] - 1s 9ms/step - loss: 0.7468 - accuracy: 0.7531 - precision_7: 0.6981 - recall_7: 0.5196 - f1: 0.6848 - val_loss: 1.0202 - val_accuracy: 0.1111 - val_precision_7: 0.6547 - val_recall_7: 0.5056 - val_f1: 0.1111\n",
            "Epoch 3/10\n",
            "81/81 [==============================] - 1s 9ms/step - loss: 0.9099 - accuracy: 0.6173 - precision_7: 0.6272 - recall_7: 0.5033 - f1: 0.5670 - val_loss: 0.5748 - val_accuracy: 0.8889 - val_precision_7: 0.6471 - val_recall_7: 0.5296 - val_f1: 0.8889\n",
            "Epoch 4/10\n",
            "81/81 [==============================] - 1s 9ms/step - loss: 0.6986 - accuracy: 0.7284 - precision_7: 0.6715 - recall_7: 0.5516 - f1: 0.6843 - val_loss: 0.7370 - val_accuracy: 0.6667 - val_precision_7: 0.6723 - val_recall_7: 0.5528 - val_f1: 0.4000\n",
            "Epoch 5/10\n",
            "81/81 [==============================] - 1s 9ms/step - loss: 0.8519 - accuracy: 0.6543 - precision_7: 0.6661 - recall_7: 0.5541 - f1: 0.6205 - val_loss: 0.4080 - val_accuracy: 0.8889 - val_precision_7: 0.6746 - val_recall_7: 0.5667 - val_f1: 0.8889\n",
            "Epoch 6/10\n",
            "81/81 [==============================] - 1s 9ms/step - loss: 0.9798 - accuracy: 0.7160 - precision_7: 0.6803 - recall_7: 0.5744 - f1: 0.6832 - val_loss: 0.4896 - val_accuracy: 0.8889 - val_precision_7: 0.6871 - val_recall_7: 0.5815 - val_f1: 0.8889\n",
            "Epoch 00006: early stopping\n",
            "Score for fold 7:\n",
            "     loss of 0.6465500593185425; \n",
            "     accuracy of 69.9999988079071% ;\n",
            "     precision_7 of 68.81720423698425% ;\n",
            "     recall_7 of 58.1818163394928% ;\n",
            "     f1 of 66.66666269302368% ;\n",
            "     \n"
          ],
          "name": "stdout"
        },
        {
          "output_type": "stream",
          "text": [
            "/usr/local/lib/python3.7/dist-packages/ipykernel_launcher.py:13: UserWarning: Update your `Dense` call to the Keras 2 API: `Dense(400, activation=\"relu\", name=\"mlp\", kernel_initializer=\"he_normal\", kernel_constraint=<keras.con..., bias_constraint=<keras.con...)`\n",
            "  del sys.path[0]\n",
            "/usr/local/lib/python3.7/dist-packages/ipykernel_launcher.py:18: UserWarning: Update your `Dense` call to the Keras 2 API: `Dense(3, activation=\"softmax\", name=\"output\", kernel_initializer=\"he_normal\")`\n",
            "/usr/local/lib/python3.7/dist-packages/ipykernel_launcher.py:20: UserWarning: Update your `Model` call to the Keras 2 API: `Model(name=\"RNN_model\", inputs=Tensor(\"ma..., outputs=Tensor(\"ou...)`\n"
          ],
          "name": "stderr"
        },
        {
          "output_type": "stream",
          "text": [
            "Model: \"RNN_model\"\n",
            "_________________________________________________________________\n",
            "Layer (type)                 Output Shape              Param #   \n",
            "=================================================================\n",
            "main_input (InputLayer)      (None, 22)                0         \n",
            "_________________________________________________________________\n",
            "embedding (Embedding)        (None, 22, 300)           186600    \n",
            "_________________________________________________________________\n",
            "dropout_9 (Dropout)          (None, 22, 300)           0         \n",
            "_________________________________________________________________\n",
            "gru_9 (GRU)                  (None, 400)               841200    \n",
            "_________________________________________________________________\n",
            "mlp (Dense)                  (None, 400)               160400    \n",
            "_________________________________________________________________\n",
            "drop (Dropout)               (None, 400)               0         \n",
            "_________________________________________________________________\n",
            "output (Dense)               (None, 3)                 1203      \n",
            "=================================================================\n",
            "Total params: 1,189,403\n",
            "Trainable params: 1,002,803\n",
            "Non-trainable params: 186,600\n",
            "_________________________________________________________________\n",
            "None\n",
            "------------------------------------------------------------------------\n",
            "Training for fold 8 ...\n",
            "Training and Testing...\n",
            "Train on 81 samples, validate on 9 samples\n",
            "Epoch 1/10\n",
            "81/81 [==============================] - 2s 23ms/step - loss: 1.1440 - accuracy: 0.3951 - precision_8: 0.3771 - recall_8: 0.1813 - f1: 0.2369 - val_loss: 0.3697 - val_accuracy: 0.8889 - val_precision_8: 0.5490 - val_recall_8: 0.3111 - val_f1: 0.8889\n",
            "Epoch 2/10\n",
            "81/81 [==============================] - 1s 10ms/step - loss: 1.0419 - accuracy: 0.6173 - precision_8: 0.6114 - recall_8: 0.4131 - f1: 0.5694 - val_loss: 0.6891 - val_accuracy: 0.8889 - val_precision_8: 0.6148 - val_recall_8: 0.4167 - val_f1: 0.6154\n",
            "Epoch 3/10\n",
            "81/81 [==============================] - 1s 9ms/step - loss: 0.9460 - accuracy: 0.6173 - precision_8: 0.6216 - recall_8: 0.4217 - f1: 0.5338 - val_loss: 0.3462 - val_accuracy: 0.8889 - val_precision_8: 0.6417 - val_recall_8: 0.4444 - val_f1: 0.8889\n",
            "Epoch 4/10\n",
            "81/81 [==============================] - 1s 9ms/step - loss: 0.7593 - accuracy: 0.7284 - precision_8: 0.6526 - recall_8: 0.4727 - f1: 0.6885 - val_loss: 0.3470 - val_accuracy: 0.8889 - val_precision_8: 0.6717 - val_recall_8: 0.4944 - val_f1: 0.8889\n",
            "Epoch 5/10\n",
            "81/81 [==============================] - 1s 9ms/step - loss: 0.7349 - accuracy: 0.7160 - precision_8: 0.6817 - recall_8: 0.5162 - f1: 0.6777 - val_loss: 0.4276 - val_accuracy: 0.8889 - val_precision_8: 0.6890 - val_recall_8: 0.5267 - val_f1: 0.8889\n",
            "Epoch 6/10\n",
            "81/81 [==============================] - 1s 9ms/step - loss: 0.7402 - accuracy: 0.7037 - precision_8: 0.6902 - recall_8: 0.5355 - f1: 0.6589 - val_loss: 0.5682 - val_accuracy: 0.8889 - val_precision_8: 0.6958 - val_recall_8: 0.5463 - val_f1: 0.8889\n",
            "Epoch 00006: early stopping\n",
            "Score for fold 8:\n",
            "     loss of 0.6106640100479126; \n",
            "     accuracy of 89.99999761581421% ;\n",
            "     precision_8 of 69.90740895271301% ;\n",
            "     recall_8 of 54.90909218788147% ;\n",
            "     f1 of 77.77777910232544% ;\n",
            "     \n"
          ],
          "name": "stdout"
        },
        {
          "output_type": "stream",
          "text": [
            "/usr/local/lib/python3.7/dist-packages/ipykernel_launcher.py:13: UserWarning: Update your `Dense` call to the Keras 2 API: `Dense(400, activation=\"relu\", name=\"mlp\", kernel_initializer=\"he_normal\", kernel_constraint=<keras.con..., bias_constraint=<keras.con...)`\n",
            "  del sys.path[0]\n",
            "/usr/local/lib/python3.7/dist-packages/ipykernel_launcher.py:18: UserWarning: Update your `Dense` call to the Keras 2 API: `Dense(3, activation=\"softmax\", name=\"output\", kernel_initializer=\"he_normal\")`\n",
            "/usr/local/lib/python3.7/dist-packages/ipykernel_launcher.py:20: UserWarning: Update your `Model` call to the Keras 2 API: `Model(name=\"RNN_model\", inputs=Tensor(\"ma..., outputs=Tensor(\"ou...)`\n"
          ],
          "name": "stderr"
        },
        {
          "output_type": "stream",
          "text": [
            "Model: \"RNN_model\"\n",
            "_________________________________________________________________\n",
            "Layer (type)                 Output Shape              Param #   \n",
            "=================================================================\n",
            "main_input (InputLayer)      (None, 22)                0         \n",
            "_________________________________________________________________\n",
            "embedding (Embedding)        (None, 22, 300)           186600    \n",
            "_________________________________________________________________\n",
            "dropout_10 (Dropout)         (None, 22, 300)           0         \n",
            "_________________________________________________________________\n",
            "gru_10 (GRU)                 (None, 400)               841200    \n",
            "_________________________________________________________________\n",
            "mlp (Dense)                  (None, 400)               160400    \n",
            "_________________________________________________________________\n",
            "drop (Dropout)               (None, 400)               0         \n",
            "_________________________________________________________________\n",
            "output (Dense)               (None, 3)                 1203      \n",
            "=================================================================\n",
            "Total params: 1,189,403\n",
            "Trainable params: 1,002,803\n",
            "Non-trainable params: 186,600\n",
            "_________________________________________________________________\n",
            "None\n",
            "------------------------------------------------------------------------\n",
            "Training for fold 9 ...\n",
            "Training and Testing...\n",
            "Train on 81 samples, validate on 9 samples\n",
            "Epoch 1/10\n",
            "81/81 [==============================] - 2s 25ms/step - loss: 0.9453 - accuracy: 0.5185 - precision_9: 0.4621 - recall_9: 0.2402 - f1: 0.3500 - val_loss: 0.4188 - val_accuracy: 0.8889 - val_precision_9: 0.6792 - val_recall_9: 0.4000 - val_f1: 0.8889\n",
            "Epoch 2/10\n",
            "81/81 [==============================] - 1s 10ms/step - loss: 0.9442 - accuracy: 0.5802 - precision_9: 0.6652 - recall_9: 0.4463 - f1: 0.6038 - val_loss: 0.3771 - val_accuracy: 0.8889 - val_precision_9: 0.6825 - val_recall_9: 0.4778 - val_f1: 0.8889\n",
            "Epoch 3/10\n",
            "81/81 [==============================] - 1s 10ms/step - loss: 0.9024 - accuracy: 0.6543 - precision_9: 0.6997 - recall_9: 0.5233 - f1: 0.5695 - val_loss: 0.4094 - val_accuracy: 0.8889 - val_precision_9: 0.6893 - val_recall_9: 0.5259 - val_f1: 0.8889\n",
            "Epoch 4/10\n",
            "81/81 [==============================] - 1s 9ms/step - loss: 0.8273 - accuracy: 0.6049 - precision_9: 0.6697 - recall_9: 0.5291 - f1: 0.6276 - val_loss: 0.3750 - val_accuracy: 0.8889 - val_precision_9: 0.6771 - val_recall_9: 0.5417 - val_f1: 0.8889\n",
            "Epoch 5/10\n",
            "81/81 [==============================] - 1s 9ms/step - loss: 0.8563 - accuracy: 0.7160 - precision_9: 0.6834 - recall_9: 0.5584 - f1: 0.6965 - val_loss: 0.3702 - val_accuracy: 0.8889 - val_precision_9: 0.6919 - val_recall_9: 0.5689 - val_f1: 0.8889\n",
            "Epoch 6/10\n",
            "81/81 [==============================] - 1s 9ms/step - loss: 0.7784 - accuracy: 0.5926 - precision_9: 0.6787 - recall_9: 0.5576 - f1: 0.5828 - val_loss: 0.3577 - val_accuracy: 0.8889 - val_precision_9: 0.6847 - val_recall_9: 0.5630 - val_f1: 0.8889\n",
            "Epoch 00006: early stopping\n",
            "Score for fold 9:\n",
            "     loss of 0.9759260416030884; \n",
            "     accuracy of 80.0000011920929% ;\n",
            "     precision_9 of 68.72246861457825% ;\n",
            "     recall_9 of 56.727272272109985% ;\n",
            "     f1 of 80.0000011920929% ;\n",
            "     \n"
          ],
          "name": "stdout"
        },
        {
          "output_type": "stream",
          "text": [
            "/usr/local/lib/python3.7/dist-packages/ipykernel_launcher.py:13: UserWarning: Update your `Dense` call to the Keras 2 API: `Dense(400, activation=\"relu\", name=\"mlp\", kernel_initializer=\"he_normal\", kernel_constraint=<keras.con..., bias_constraint=<keras.con...)`\n",
            "  del sys.path[0]\n",
            "/usr/local/lib/python3.7/dist-packages/ipykernel_launcher.py:18: UserWarning: Update your `Dense` call to the Keras 2 API: `Dense(3, activation=\"softmax\", name=\"output\", kernel_initializer=\"he_normal\")`\n",
            "/usr/local/lib/python3.7/dist-packages/ipykernel_launcher.py:20: UserWarning: Update your `Model` call to the Keras 2 API: `Model(name=\"RNN_model\", inputs=Tensor(\"ma..., outputs=Tensor(\"ou...)`\n"
          ],
          "name": "stderr"
        },
        {
          "output_type": "stream",
          "text": [
            "Model: \"RNN_model\"\n",
            "_________________________________________________________________\n",
            "Layer (type)                 Output Shape              Param #   \n",
            "=================================================================\n",
            "main_input (InputLayer)      (None, 22)                0         \n",
            "_________________________________________________________________\n",
            "embedding (Embedding)        (None, 22, 300)           186600    \n",
            "_________________________________________________________________\n",
            "dropout_11 (Dropout)         (None, 22, 300)           0         \n",
            "_________________________________________________________________\n",
            "gru_11 (GRU)                 (None, 400)               841200    \n",
            "_________________________________________________________________\n",
            "mlp (Dense)                  (None, 400)               160400    \n",
            "_________________________________________________________________\n",
            "drop (Dropout)               (None, 400)               0         \n",
            "_________________________________________________________________\n",
            "output (Dense)               (None, 3)                 1203      \n",
            "=================================================================\n",
            "Total params: 1,189,403\n",
            "Trainable params: 1,002,803\n",
            "Non-trainable params: 186,600\n",
            "_________________________________________________________________\n",
            "None\n",
            "------------------------------------------------------------------------\n",
            "Training for fold 10 ...\n",
            "Training and Testing...\n",
            "Train on 81 samples, validate on 9 samples\n",
            "Epoch 1/10\n",
            "81/81 [==============================] - 2s 25ms/step - loss: 0.7785 - accuracy: 0.7654 - precision_10: 0.5466 - recall_10: 0.2948 - f1: 0.5629 - val_loss: 0.4094 - val_accuracy: 0.8889 - val_precision_10: 0.8421 - val_recall_10: 0.5333 - val_f1: 0.8889\n",
            "Epoch 2/10\n",
            "81/81 [==============================] - 1s 9ms/step - loss: 1.0718 - accuracy: 0.5556 - precision_10: 0.7344 - recall_10: 0.5492 - f1: 0.5865 - val_loss: 0.6089 - val_accuracy: 0.8889 - val_precision_10: 0.7029 - val_recall_10: 0.5389 - val_f1: 0.7143\n",
            "Epoch 3/10\n",
            "81/81 [==============================] - 1s 9ms/step - loss: 0.7443 - accuracy: 0.7531 - precision_10: 0.7119 - recall_10: 0.5294 - f1: 0.6841 - val_loss: 0.3562 - val_accuracy: 0.8889 - val_precision_10: 0.7356 - val_recall_10: 0.5667 - val_f1: 0.8889\n",
            "Epoch 4/10\n",
            "81/81 [==============================] - 1s 9ms/step - loss: 0.7504 - accuracy: 0.7037 - precision_10: 0.7473 - recall_10: 0.6007 - f1: 0.6468 - val_loss: 0.3563 - val_accuracy: 0.8889 - val_precision_10: 0.7406 - val_recall_10: 0.6028 - val_f1: 0.8889\n",
            "Epoch 5/10\n",
            "81/81 [==============================] - 1s 9ms/step - loss: 0.7763 - accuracy: 0.7531 - precision_10: 0.7425 - recall_10: 0.6079 - f1: 0.6541 - val_loss: 1.7035 - val_accuracy: 0.1111 - val_precision_10: 0.7243 - val_recall_10: 0.5956 - val_f1: 0.1111\n",
            "Epoch 6/10\n",
            "81/81 [==============================] - 1s 9ms/step - loss: 1.0516 - accuracy: 0.5556 - precision_10: 0.6923 - recall_10: 0.5748 - f1: 0.5142 - val_loss: 0.3732 - val_accuracy: 0.8889 - val_precision_10: 0.6993 - val_recall_10: 0.5815 - val_f1: 0.8889\n",
            "Epoch 00006: early stopping\n",
            "Score for fold 10:\n",
            "     loss of 1.6737960577011108; \n",
            "     accuracy of 60.00000238418579% ;\n",
            "     precision_10 of 69.71677541732788% ;\n",
            "     recall_10 of 58.1818163394928% ;\n",
            "     f1 of 59.99999642372131% ;\n",
            "     \n",
            "------------------------------------------------------------------------\n",
            "Score per fold\n",
            "------------------------------------------------------------------------\n",
            "> Fold 1 - \n",
            "    Loss: 0.595061719417572 - \n",
            "    Accuracy: 0.800000011920929% - \n",
            "    Precesion: 0.7012048363685608% - \n",
            "    Recall: 0.5290908813476562% - \n",
            "    F1: 0.800000011920929%\n",
            "    \n",
            "------------------------------------------------------------------------\n",
            "> Fold 2 - \n",
            "    Loss: 0.7156974077224731 - \n",
            "    Accuracy: 0.6000000238418579% - \n",
            "    Precesion: 0.681614339351654% - \n",
            "    Recall: 0.5527272820472717% - \n",
            "    F1: 0.6315789222717285%\n",
            "    \n",
            "------------------------------------------------------------------------\n",
            "> Fold 3 - \n",
            "    Loss: 1.3331754207611084 - \n",
            "    Accuracy: 0.699999988079071% - \n",
            "    Precesion: 0.7077922224998474% - \n",
            "    Recall: 0.5945454835891724% - \n",
            "    F1: 0.6999999284744263%\n",
            "    \n",
            "------------------------------------------------------------------------\n",
            "> Fold 4 - \n",
            "    Loss: 0.7180473804473877 - \n",
            "    Accuracy: 0.800000011920929% - \n",
            "    Precesion: 0.6704288721084595% - \n",
            "    Recall: 0.5400000214576721% - \n",
            "    F1: 0.7368420362472534%\n",
            "    \n",
            "------------------------------------------------------------------------\n",
            "> Fold 5 - \n",
            "    Loss: 0.6963492035865784 - \n",
            "    Accuracy: 0.800000011920929% - \n",
            "    Precesion: 0.6749435663223267% - \n",
            "    Recall: 0.5436363816261292% - \n",
            "    F1: 0.800000011920929%\n",
            "    \n",
            "------------------------------------------------------------------------\n",
            "> Fold 6 - \n",
            "    Loss: 0.6126790046691895 - \n",
            "    Accuracy: 0.800000011920929% - \n",
            "    Precesion: 0.6790697574615479% - \n",
            "    Recall: 0.5309090614318848% - \n",
            "    F1: 0.800000011920929%\n",
            "    \n",
            "------------------------------------------------------------------------\n",
            "> Fold 7 - \n",
            "    Loss: 0.6465500593185425 - \n",
            "    Accuracy: 0.699999988079071% - \n",
            "    Precesion: 0.6881720423698425% - \n",
            "    Recall: 0.581818163394928% - \n",
            "    F1: 0.6666666269302368%\n",
            "    \n",
            "------------------------------------------------------------------------\n",
            "> Fold 8 - \n",
            "    Loss: 0.6106640100479126 - \n",
            "    Accuracy: 0.8999999761581421% - \n",
            "    Precesion: 0.6990740895271301% - \n",
            "    Recall: 0.5490909218788147% - \n",
            "    F1: 0.7777777910232544%\n",
            "    \n",
            "------------------------------------------------------------------------\n",
            "> Fold 9 - \n",
            "    Loss: 0.9759260416030884 - \n",
            "    Accuracy: 0.800000011920929% - \n",
            "    Precesion: 0.6872246861457825% - \n",
            "    Recall: 0.5672727227210999% - \n",
            "    F1: 0.800000011920929%\n",
            "    \n",
            "------------------------------------------------------------------------\n",
            "> Fold 10 - \n",
            "    Loss: 1.6737960577011108 - \n",
            "    Accuracy: 0.6000000238418579% - \n",
            "    Precesion: 0.6971677541732788% - \n",
            "    Recall: 0.581818163394928% - \n",
            "    F1: 0.5999999642372131%\n",
            "    \n",
            "------------------------------------------------------------------------\n",
            "Average scores for all folds:\n",
            "> Loss: 0.8577946305274964\n",
            "> Accuracy: 0.7500000059604645 (+- 0.09219543746139527)\n",
            "> Precision: 0.688669216632843\n",
            "> Recall: 0.5570909082889557\n",
            "> F1: 0.7312865316867828\n",
            "------------------------------------------------------------------------\n"
          ],
          "name": "stdout"
        }
      ]
    },
    {
      "cell_type": "markdown",
      "metadata": {
        "id": "LR7WojLAszo7"
      },
      "source": [
        "# Hyperparameter Tuning"
      ]
    },
    {
      "cell_type": "code",
      "metadata": {
        "id": "GEjuD0hzohUv"
      },
      "source": [
        "def tune_hyperparameters(model_build_fn):\n",
        "  # fix random seed for reproducibility\n",
        "  seed = 7\n",
        "  np.random.seed(seed)\n",
        "\n",
        "  model = KerasClassifier(build_fn=model_build_fn, maxlen=MAX_LEN, hidden_dims=HIDDEN_DIMS, l2_reg= L2_REG, verbose=VERBOSITY)\n",
        "\n",
        "  # optimizer = ['SGD', 'RMSprop', 'Adagrad', 'Adadelta', 'Adam', 'Adamax', 'Nadam']\n",
        "  maxlen_list  = [210]\n",
        "  hidden_dims_list = [300, 400, 500, 600]\n",
        "  l2_reg_list = [0.01, 0.02]\n",
        "  drop_out_value_list = [0.5, 0.8]\n",
        "  # tune for kernal size 2,3,4,5\n",
        "\n",
        "\n",
        "  param_grid = dict(maxlen=maxlen_list, hidden_dims = hidden_dims_list, l2_reg= l2_reg_list, drop_out_value = drop_out_value_list )\n",
        "  grid = GridSearchCV(estimator=model, param_grid=param_grid, n_jobs=-1, cv=FOLDS, verbose = 10 )\n",
        "  grid_result = grid.fit(padded_docs, comment_labels)\n",
        "\n",
        "  # summarize results\n",
        "  print(\"Best: %f using %s\" % (grid_result.best_score_, grid_result.best_params_))\n",
        "  means = grid_result.cv_results_['mean_test_score']\n",
        "  stds = grid_result.cv_results_['std_test_score']\n",
        "  params = grid_result.cv_results_['params']\n",
        "  for mean, stdev, param in zip(means, stds, params):\n",
        "      print(\"%f (%f) with: %r\" % (mean, stdev, param))"
      ],
      "execution_count": 41,
      "outputs": []
    },
    {
      "cell_type": "code",
      "metadata": {
        "id": "oHYpTsTDtFIr",
        "colab": {
          "base_uri": "https://localhost:8080/",
          "height": 321
        },
        "outputId": "38fb1a4c-1c54-4914-862a-9cf582af6125"
      },
      "source": [
        "tune_hyperparameters(build_model)"
      ],
      "execution_count": 42,
      "outputs": [
        {
          "output_type": "error",
          "ename": "ValueError",
          "evalue": "ignored",
          "traceback": [
            "\u001b[0;31m---------------------------------------------------------------------------\u001b[0m",
            "\u001b[0;31mValueError\u001b[0m                                Traceback (most recent call last)",
            "\u001b[0;32m<ipython-input-42-31c1bdef2b64>\u001b[0m in \u001b[0;36m<module>\u001b[0;34m()\u001b[0m\n\u001b[0;32m----> 1\u001b[0;31m \u001b[0mtune_hyperparameters\u001b[0m\u001b[0;34m(\u001b[0m\u001b[0mbuild_model\u001b[0m\u001b[0;34m)\u001b[0m\u001b[0;34m\u001b[0m\u001b[0;34m\u001b[0m\u001b[0m\n\u001b[0m",
            "\u001b[0;32m<ipython-input-41-a590149e0b62>\u001b[0m in \u001b[0;36mtune_hyperparameters\u001b[0;34m(model_build_fn)\u001b[0m\n\u001b[1;32m      4\u001b[0m   \u001b[0mnp\u001b[0m\u001b[0;34m.\u001b[0m\u001b[0mrandom\u001b[0m\u001b[0;34m.\u001b[0m\u001b[0mseed\u001b[0m\u001b[0;34m(\u001b[0m\u001b[0mseed\u001b[0m\u001b[0;34m)\u001b[0m\u001b[0;34m\u001b[0m\u001b[0;34m\u001b[0m\u001b[0m\n\u001b[1;32m      5\u001b[0m \u001b[0;34m\u001b[0m\u001b[0m\n\u001b[0;32m----> 6\u001b[0;31m   \u001b[0mmodel\u001b[0m \u001b[0;34m=\u001b[0m \u001b[0mKerasClassifier\u001b[0m\u001b[0;34m(\u001b[0m\u001b[0mbuild_fn\u001b[0m\u001b[0;34m=\u001b[0m\u001b[0mmodel_build_fn\u001b[0m\u001b[0;34m,\u001b[0m \u001b[0mmaxlen\u001b[0m\u001b[0;34m=\u001b[0m\u001b[0mMAX_LEN\u001b[0m\u001b[0;34m,\u001b[0m \u001b[0mhidden_dims\u001b[0m\u001b[0;34m=\u001b[0m\u001b[0mHIDDEN_DIMS\u001b[0m\u001b[0;34m,\u001b[0m \u001b[0ml2_reg\u001b[0m\u001b[0;34m=\u001b[0m \u001b[0mL2_REG\u001b[0m\u001b[0;34m,\u001b[0m \u001b[0mverbose\u001b[0m\u001b[0;34m=\u001b[0m\u001b[0mVERBOSITY\u001b[0m\u001b[0;34m)\u001b[0m\u001b[0;34m\u001b[0m\u001b[0;34m\u001b[0m\u001b[0m\n\u001b[0m\u001b[1;32m      7\u001b[0m \u001b[0;34m\u001b[0m\u001b[0m\n\u001b[1;32m      8\u001b[0m   \u001b[0;31m# optimizer = ['SGD', 'RMSprop', 'Adagrad', 'Adadelta', 'Adam', 'Adamax', 'Nadam']\u001b[0m\u001b[0;34m\u001b[0m\u001b[0;34m\u001b[0m\u001b[0;34m\u001b[0m\u001b[0m\n",
            "\u001b[0;32m/usr/local/lib/python3.7/dist-packages/keras/wrappers/scikit_learn.py\u001b[0m in \u001b[0;36m__init__\u001b[0;34m(self, build_fn, **sk_params)\u001b[0m\n\u001b[1;32m     61\u001b[0m         \u001b[0mself\u001b[0m\u001b[0;34m.\u001b[0m\u001b[0mbuild_fn\u001b[0m \u001b[0;34m=\u001b[0m \u001b[0mbuild_fn\u001b[0m\u001b[0;34m\u001b[0m\u001b[0;34m\u001b[0m\u001b[0m\n\u001b[1;32m     62\u001b[0m         \u001b[0mself\u001b[0m\u001b[0;34m.\u001b[0m\u001b[0msk_params\u001b[0m \u001b[0;34m=\u001b[0m \u001b[0msk_params\u001b[0m\u001b[0;34m\u001b[0m\u001b[0;34m\u001b[0m\u001b[0m\n\u001b[0;32m---> 63\u001b[0;31m         \u001b[0mself\u001b[0m\u001b[0;34m.\u001b[0m\u001b[0mcheck_params\u001b[0m\u001b[0;34m(\u001b[0m\u001b[0msk_params\u001b[0m\u001b[0;34m)\u001b[0m\u001b[0;34m\u001b[0m\u001b[0;34m\u001b[0m\u001b[0m\n\u001b[0m\u001b[1;32m     64\u001b[0m \u001b[0;34m\u001b[0m\u001b[0m\n\u001b[1;32m     65\u001b[0m     \u001b[0;32mdef\u001b[0m \u001b[0mcheck_params\u001b[0m\u001b[0;34m(\u001b[0m\u001b[0mself\u001b[0m\u001b[0;34m,\u001b[0m \u001b[0mparams\u001b[0m\u001b[0;34m)\u001b[0m\u001b[0;34m:\u001b[0m\u001b[0;34m\u001b[0m\u001b[0;34m\u001b[0m\u001b[0m\n",
            "\u001b[0;32m/usr/local/lib/python3.7/dist-packages/keras/wrappers/scikit_learn.py\u001b[0m in \u001b[0;36mcheck_params\u001b[0;34m(self, params)\u001b[0m\n\u001b[1;32m     89\u001b[0m                 \u001b[0;32mif\u001b[0m \u001b[0mparams_name\u001b[0m \u001b[0;34m!=\u001b[0m \u001b[0;34m'nb_epoch'\u001b[0m\u001b[0;34m:\u001b[0m\u001b[0;34m\u001b[0m\u001b[0;34m\u001b[0m\u001b[0m\n\u001b[1;32m     90\u001b[0m                     raise ValueError(\n\u001b[0;32m---> 91\u001b[0;31m                         '{} is not a legal parameter'.format(params_name))\n\u001b[0m\u001b[1;32m     92\u001b[0m \u001b[0;34m\u001b[0m\u001b[0m\n\u001b[1;32m     93\u001b[0m     \u001b[0;32mdef\u001b[0m \u001b[0mget_params\u001b[0m\u001b[0;34m(\u001b[0m\u001b[0mself\u001b[0m\u001b[0;34m,\u001b[0m \u001b[0;34m**\u001b[0m\u001b[0mparams\u001b[0m\u001b[0;34m)\u001b[0m\u001b[0;34m:\u001b[0m\u001b[0;34m\u001b[0m\u001b[0;34m\u001b[0m\u001b[0m\n",
            "\u001b[0;31mValueError\u001b[0m: maxlen is not a legal parameter"
          ]
        }
      ]
    },
    {
      "cell_type": "code",
      "metadata": {
        "id": "ZJm_BROqteb3"
      },
      "source": [
        ""
      ],
      "execution_count": null,
      "outputs": []
    }
  ]
}