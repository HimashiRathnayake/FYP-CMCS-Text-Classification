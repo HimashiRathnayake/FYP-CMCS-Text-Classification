{
  "nbformat": 4,
  "nbformat_minor": 0,
  "metadata": {
    "colab": {
      "name": "XLM-R.ipynb",
      "provenance": [],
      "collapsed_sections": [],
      "include_colab_link": true
    },
    "kernelspec": {
      "display_name": "Python 3",
      "name": "python3"
    },
    "language_info": {
      "name": "python"
    },
    "accelerator": "GPU"
  },
  "cells": [
    {
      "cell_type": "markdown",
      "metadata": {
        "id": "view-in-github",
        "colab_type": "text"
      },
      "source": [
        "<a href=\"https://colab.research.google.com/github/HimashiRathnayake/CMCS-Text-Classification/blob/main/XLM-R/CMCS_single_task_learning_with_XLMR.ipynb\" target=\"_parent\"><img src=\"https://colab.research.google.com/assets/colab-badge.svg\" alt=\"Open In Colab\"/></a>"
      ]
    },
    {
      "cell_type": "markdown",
      "metadata": {
        "id": "jjz_B0ExMG-i"
      },
      "source": [
        "## Fine Tune XLM-R \n",
        "Humor Detection & Hate speech Detection of Sinhala-English Code-Mixed Data."
      ]
    },
    {
      "cell_type": "markdown",
      "metadata": {
        "id": "83BIF6GkMOgX"
      },
      "source": [
        "### **Parameters**"
      ]
    },
    {
      "cell_type": "markdown",
      "metadata": {
        "id": "ttEdhhiXzLV4"
      },
      "source": [
        "**User Parameters**"
      ]
    },
    {
      "cell_type": "code",
      "metadata": {
        "id": "g-dOwN7izK9c"
      },
      "source": [
        "technique = \"hate speech\" #@param [\"humor\", \"hate speech\"]\n",
        "experiment_no = \"1\" #@param [] {allow-input: true}\n",
        "over_sampling_technique = \"ROS\" #@param [\"\", \"ROS\",\"ADASYN\", \"SMOTE\", \"BorderlineSMOTE\"]\n",
        "sampling_strategy = \"1:0.25:0.25\" #@param [] {allow-input: true}\n",
        "random_state = 45 #@param\n",
        "\n",
        "if technique == \"humor\" :\n",
        "  NO_OUTPUT_LAYERS = 2\n",
        "  tag_set = [\"Humorous\", \"Non-Humorous\"]\n",
        "elif technique == \"hate speech\":\n",
        "  NO_OUTPUT_LAYERS = 3\n",
        "  tag_set = [\"Abusive\", \"Hate-Inducing\", \"Not offensive\"]"
      ],
      "execution_count": null,
      "outputs": []
    },
    {
      "cell_type": "code",
      "metadata": {
        "id": "rOJd03ixfefB"
      },
      "source": [
        "MAX_LEN = 128\n",
        "BATCH_SIZE = 32\n",
        "LEARNING_RATE = 2e-5\n",
        "EPOCHS = 3"
      ],
      "execution_count": null,
      "outputs": []
    },
    {
      "cell_type": "markdown",
      "metadata": {
        "id": "h8TuP3plzhYD"
      },
      "source": [
        "**Folder Paths**"
      ]
    },
    {
      "cell_type": "code",
      "metadata": {
        "id": "S-0l0Ry7zkCr"
      },
      "source": [
        "dataset_path = \"/content/drive/Shareddrives/FYP/corpus/çompleted_draft.csv\"\n",
        "model_save_path = \"/content/drive/Shareddrives/FYP/Humor_HateSpeech_detection/XLMR/\"+technique+\"/\"+experiment_no"
      ],
      "execution_count": null,
      "outputs": []
    },
    {
      "cell_type": "markdown",
      "metadata": {
        "id": "sEbnAyepy4Bp"
      },
      "source": [
        "**Dependencies**"
      ]
    },
    {
      "cell_type": "code",
      "metadata": {
        "id": "FzofSf7qwUjJ"
      },
      "source": [
        "# !pip install transformers\n",
        "# !pip install sentencepiece\n",
        "# !pip install datasets\n",
        "# # !pip install optuna"
      ],
      "execution_count": null,
      "outputs": []
    },
    {
      "cell_type": "code",
      "metadata": {
        "id": "oNDBKaShv_EH"
      },
      "source": [
        "import re\n",
        "import time\n",
        "import torch\n",
        "from torch.utils.data import TensorDataset, DataLoader, RandomSampler, SequentialSampler\n",
        "from transformers import XLMRobertaTokenizer, XLMRobertaForSequenceClassification, TrainingArguments, Trainer, AdamW, get_scheduler\n",
        "from tqdm import tqdm\n",
        "import numpy as np\n",
        "import pandas as pd\n",
        "from sklearn.model_selection import train_test_split\n",
        "from google.colab import drive\n",
        "from keras.preprocessing.sequence import pad_sequences\n",
        "from sklearn.metrics import classification_report\n",
        "import io\n",
        "import seaborn as sns\n",
        "from datasets import load_metric\n",
        "from collections import Counter\n",
        "from imblearn.over_sampling import RandomOverSampler, SMOTE, ADASYN, BorderlineSMOTE\n",
        "import matplotlib.pyplot as plt\n",
        "% matplotlib inline"
      ],
      "execution_count": null,
      "outputs": []
    },
    {
      "cell_type": "code",
      "metadata": {
        "colab": {
          "base_uri": "https://localhost:8080/"
        },
        "id": "gGy9gk5_w-37",
        "outputId": "b701660d-ae62-46f2-b991-3a7ee2388d31"
      },
      "source": [
        "drive.mount('/content/drive')"
      ],
      "execution_count": null,
      "outputs": [
        {
          "output_type": "stream",
          "name": "stdout",
          "text": [
            "Drive already mounted at /content/drive; to attempt to forcibly remount, call drive.mount(\"/content/drive\", force_remount=True).\n"
          ]
        }
      ]
    },
    {
      "cell_type": "markdown",
      "metadata": {
        "id": "Dui-e7Gz2w-R"
      },
      "source": [
        "### **Oversampling**"
      ]
    },
    {
      "cell_type": "code",
      "metadata": {
        "id": "94nmLCkX2v6r"
      },
      "source": [
        "def apply_oversampling(x, y):\n",
        "\n",
        "  (unique, counts) = np.unique(y, axis=0, return_counts=True)\n",
        "  print(\"Class Distribution Without Oversampling\", counts)\n",
        "\n",
        "  # define oversampling strategy\n",
        "  if (over_sampling_technique == \"\"):\n",
        "    return x, y\n",
        "  elif (over_sampling_technique == \"ROS\"):\n",
        "    if (technique==\"humor\"):\n",
        "      oversample = RandomOverSampler(sampling_strategy = float(sampling_strategy))\n",
        "    else:\n",
        "      sampling_ratio = sampling_strategy.split(\":\");\n",
        "      oversample = RandomOverSampler(sampling_strategy = {\n",
        "          0:int(counts[0]*float(sampling_ratio[0])), \n",
        "          1:int(counts[0]*float(sampling_ratio[1])), \n",
        "          2:int(counts[0]*float(sampling_ratio[2]))\n",
        "          })\n",
        "  elif (over_sampling_technique == \"ADASYN\"):\n",
        "    oversample = ADASYN(sampling_strategy=\"minority\")\n",
        "  elif (over_sampling_technique == \"SMOTE\"):\n",
        "    oversample = SMOTE()\n",
        "  elif (over_sampling_technique == \"BorderlineSMOTE\"):\n",
        "    oversample = BorderlineSMOTE()\n",
        "\n",
        "  # fit and apply the transform\n",
        "  X_over, y_over = oversample.fit_resample(x, y)\n",
        "\n",
        "  (unique, counts) = np.unique(y_over, axis=0, return_counts=True)\n",
        "  print(\"Class Distribution After Oversampling\", counts)\n",
        "\n",
        "  return X_over, y_over"
      ],
      "execution_count": null,
      "outputs": []
    },
    {
      "cell_type": "markdown",
      "metadata": {
        "id": "LLhb8qPCsVr9"
      },
      "source": [
        "### **Load & Preprocess Dataset**"
      ]
    },
    {
      "cell_type": "code",
      "metadata": {
        "id": "ai_G9OEMt2iF"
      },
      "source": [
        "def preprocess_texts(sentences):\n",
        "  sentences = [re.sub(r'http\\S+','',s) for s in sentences]\n",
        "  sentences = [s.replace('#','') for s in sentences]\n",
        "  sentences = [\"[CLS] \" + s + \" [SEP]\" for s in sentences]\n",
        "  return sentences"
      ],
      "execution_count": null,
      "outputs": []
    },
    {
      "cell_type": "code",
      "metadata": {
        "id": "9YTNMEO4sUFw"
      },
      "source": [
        "all_data = pd.read_csv(dataset_path)\n",
        "\n",
        "if (technique == \"humor\"):\n",
        "  all_data = all_data[['Sentence', 'Humor']]\n",
        "elif (technique == \"hate speech\"):\n",
        "  all_data = all_data[['Sentence', 'Hate_speech']]\n",
        "else:\n",
        "  all_data = all_data[['Sentence', 'Offensive']]\n",
        "\n",
        "all_data.columns = ['Sentence', 'Label']\n",
        "all_data['Label'], uniq = pd.factorize(all_data['Label'])\n",
        "\n",
        "X = all_data['Sentence'].values.tolist()\n",
        "y = all_data['Label'].values.tolist()\n",
        "\n",
        "# X = preprocess_texts(X)"
      ],
      "execution_count": null,
      "outputs": []
    },
    {
      "cell_type": "code",
      "metadata": {
        "id": "NZLIxGtZzAxW"
      },
      "source": [
        "X_train, X_test, y_train, y_test = train_test_split(X, y, test_size=0.1, random_state = random_state)"
      ],
      "execution_count": null,
      "outputs": []
    },
    {
      "cell_type": "code",
      "source": [
        "X_train = np.array(X_train).reshape(-1, 1)\n",
        "X_train, y_train = apply_oversampling(X_train, y_train)\n",
        "X_train = [x[0] for x in X_train.tolist()]\n",
        "# y_train = y_train.tolist()"
      ],
      "metadata": {
        "colab": {
          "base_uri": "https://localhost:8080/"
        },
        "id": "YXuDWejX0eL6",
        "outputId": "4ad62224-e698-4b8b-8ab3-539c5ba489d6"
      },
      "execution_count": null,
      "outputs": [
        {
          "output_type": "stream",
          "name": "stdout",
          "text": [
            "Class Distribution Without Oversampling [11044   308   814]\n",
            "Class Distribution After Oversampling [11044  2761  2761]\n"
          ]
        }
      ]
    },
    {
      "cell_type": "markdown",
      "metadata": {
        "id": "yPVtYGe-aiqR"
      },
      "source": [
        "##### **Preprocess Data**"
      ]
    },
    {
      "cell_type": "code",
      "metadata": {
        "id": "ENzyR3O6ahPv"
      },
      "source": [
        "tokenizer = XLMRobertaTokenizer.from_pretrained(\"xlm-roberta-base\", do_lower_case=True) #######################################################uncased"
      ],
      "execution_count": null,
      "outputs": []
    },
    {
      "cell_type": "code",
      "metadata": {
        "id": "3Q5BljjzbKS_"
      },
      "source": [
        "encoded_X_train = tokenizer(X_train, truncation=True, padding=True, max_length=MAX_LEN)\n",
        "encoded_X_test = tokenizer(X_test, truncation=True, padding=True, max_length=MAX_LEN)"
      ],
      "execution_count": null,
      "outputs": []
    },
    {
      "cell_type": "code",
      "metadata": {
        "id": "mQ36Nr1mbjk8"
      },
      "source": [
        "class DatasetObject(torch.utils.data.Dataset):\n",
        "    def __init__(self, encodings, labels):\n",
        "        self.encodings = encodings\n",
        "        self.labels = labels\n",
        "\n",
        "    def __getitem__(self, idx):\n",
        "        item = {key: torch.tensor(val[idx]) for key, val in self.encodings.items()}\n",
        "        item['labels'] = torch.tensor(self.labels[idx])\n",
        "        return item\n",
        "\n",
        "    def __len__(self):\n",
        "        return len(self.labels)\n",
        "\n",
        "train_dataset = DatasetObject(encoded_X_train, y_train)\n",
        "test_dataset = DatasetObject(encoded_X_test, y_test)"
      ],
      "execution_count": null,
      "outputs": []
    },
    {
      "cell_type": "code",
      "metadata": {
        "id": "-z8jK1iSwavn"
      },
      "source": [
        "train_sampler = RandomSampler(train_dataset)\n",
        "validation_sampler = SequentialSampler(test_dataset)\n",
        "train_loader = DataLoader(train_dataset, sampler=train_sampler , batch_size=BATCH_SIZE)\n",
        "test_loader = DataLoader(test_dataset, sampler=validation_sampler , batch_size=BATCH_SIZE) "
      ],
      "execution_count": null,
      "outputs": []
    },
    {
      "cell_type": "markdown",
      "metadata": {
        "id": "fYK-Ax5INrYU"
      },
      "source": [
        "### **Fine-Tuning**"
      ]
    },
    {
      "cell_type": "markdown",
      "metadata": {
        "id": "-e-V4t_dREav"
      },
      "source": [
        "#### **Initialize the model**"
      ]
    },
    {
      "cell_type": "code",
      "metadata": {
        "colab": {
          "base_uri": "https://localhost:8080/"
        },
        "id": "pdW_oSQEft7g",
        "outputId": "d5a19e47-cf5a-45e0-9d40-efc1b56d90ce"
      },
      "source": [
        "model = XLMRobertaForSequenceClassification.from_pretrained(\"xlm-roberta-base\", num_labels=NO_OUTPUT_LAYERS)\n",
        "model.cuda()\n",
        "print(\"Done\")"
      ],
      "execution_count": null,
      "outputs": [
        {
          "output_type": "stream",
          "name": "stderr",
          "text": [
            "Some weights of the model checkpoint at xlm-roberta-base were not used when initializing XLMRobertaForSequenceClassification: ['lm_head.decoder.weight', 'lm_head.layer_norm.weight', 'roberta.pooler.dense.bias', 'lm_head.dense.bias', 'lm_head.dense.weight', 'lm_head.layer_norm.bias', 'lm_head.bias', 'roberta.pooler.dense.weight']\n",
            "- This IS expected if you are initializing XLMRobertaForSequenceClassification from the checkpoint of a model trained on another task or with another architecture (e.g. initializing a BertForSequenceClassification model from a BertForPreTraining model).\n",
            "- This IS NOT expected if you are initializing XLMRobertaForSequenceClassification from the checkpoint of a model that you expect to be exactly identical (initializing a BertForSequenceClassification model from a BertForSequenceClassification model).\n",
            "Some weights of XLMRobertaForSequenceClassification were not initialized from the model checkpoint at xlm-roberta-base and are newly initialized: ['classifier.dense.weight', 'classifier.out_proj.weight', 'classifier.dense.bias', 'classifier.out_proj.bias']\n",
            "You should probably TRAIN this model on a down-stream task to be able to use it for predictions and inference.\n"
          ]
        },
        {
          "output_type": "stream",
          "name": "stdout",
          "text": [
            "Done\n"
          ]
        }
      ]
    },
    {
      "cell_type": "code",
      "metadata": {
        "colab": {
          "base_uri": "https://localhost:8080/",
          "height": 35
        },
        "id": "47WrmTxGMx8-",
        "outputId": "1a3d8e61-8ae0-4d42-d706-2961026a8d34"
      },
      "source": [
        "device = torch.device(\"cuda\" if torch.cuda.is_available() else \"cpu\")\n",
        "n_gpu = torch.cuda.device_count()\n",
        "torch.cuda.get_device_name(0)"
      ],
      "execution_count": null,
      "outputs": [
        {
          "output_type": "execute_result",
          "data": {
            "application/vnd.google.colaboratory.intrinsic+json": {
              "type": "string"
            },
            "text/plain": [
              "'Tesla K80'"
            ]
          },
          "metadata": {},
          "execution_count": 17
        }
      ]
    },
    {
      "cell_type": "code",
      "metadata": {
        "colab": {
          "base_uri": "https://localhost:8080/"
        },
        "id": "pbBk4Z7oECtx",
        "outputId": "8bdcf23d-bcda-4c82-97d1-3b121a55ef92"
      },
      "source": [
        "import gc\n",
        "# del all_data, encoded_X_train, encoded_X_test, X_train, X_test, tokenizer, DatasetObject\n",
        "torch.cuda.empty_cache()\n",
        "gc.collect()"
      ],
      "execution_count": null,
      "outputs": [
        {
          "output_type": "execute_result",
          "data": {
            "text/plain": [
              "521"
            ]
          },
          "metadata": {},
          "execution_count": 18
        }
      ]
    },
    {
      "cell_type": "markdown",
      "metadata": {
        "id": "L583oCwfvgiR"
      },
      "source": [
        "#### **Fine-tuning in PyTorch with the Trainer API**"
      ]
    },
    {
      "cell_type": "markdown",
      "metadata": {
        "id": "hslUWjdO2mg6"
      },
      "source": [
        "##### **Fine-tune & Test the model**"
      ]
    },
    {
      "cell_type": "code",
      "metadata": {
        "id": "rgEPDn1_yIwe"
      },
      "source": [
        "def compute_metrics(eval_pred):\n",
        "    metric1 = load_metric(\"precision\")\n",
        "    metric2 = load_metric(\"recall\")\n",
        "    metric3 = load_metric(\"f1\")\n",
        "    metric4 = load_metric(\"accuracy\")\n",
        "    \n",
        "    logits, labels = eval_pred\n",
        "    predictions = np.argmax(logits, axis=-1)\n",
        "    precision = metric1.compute(predictions=predictions, references=labels, average=\"weighted\")[\"precision\"]\n",
        "    recall = metric2.compute(predictions=predictions, references=labels, average=\"weighted\")[\"recall\"]\n",
        "    f1 = metric3.compute(predictions=predictions, references=labels, average=\"weighted\")[\"f1\"]\n",
        "    accuracy = metric4.compute(predictions=predictions, references=labels)[\"accuracy\"]\n",
        "    macro_precision = metric1.compute(predictions=predictions, references=labels, average=\"macro\")[\"precision\"]\n",
        "    macro_recall = metric2.compute(predictions=predictions, references=labels, average=\"macro\")[\"recall\"]\n",
        "    macro_f1 = metric3.compute(predictions=predictions, references=labels, average=\"macro\")[\"f1\"]\n",
        "    return {\"accuracy\":accuracy, \"precision\": precision, \"recall\": recall, \"f1\": f1, \"macro_precision\": macro_precision, \"macro_recall\": macro_recall, \"macro_f1\": macro_f1}"
      ],
      "execution_count": null,
      "outputs": []
    },
    {
      "cell_type": "code",
      "metadata": {
        "id": "MI63-kjFvni-"
      },
      "source": [
        "# Default Hyperparameters\n",
        "# training_args = TrainingArguments(\"test_trainer\") \n",
        "# learning_rate=5e-5, batch_size=8,  weight_decay=0, num_train_epochs=3\n",
        "\n",
        "training_args = TrainingArguments(\n",
        "    learning_rate = LEARNING_RATE,\n",
        "    per_device_train_batch_size = BATCH_SIZE,\n",
        "    per_device_eval_batch_size = BATCH_SIZE,\n",
        "    output_dir = model_save_path,\n",
        "    num_train_epochs = EPOCHS,\n",
        "    evaluation_strategy = \"epoch\",\n",
        "    save_strategy = \"epoch\",\n",
        ")"
      ],
      "execution_count": null,
      "outputs": []
    },
    {
      "cell_type": "code",
      "metadata": {
        "id": "llV3iiwDsRso"
      },
      "source": [
        "trainer = Trainer(\n",
        "    model = model, \n",
        "    args = training_args, \n",
        "    train_dataset = train_dataset,\n",
        "    eval_dataset = test_dataset,\n",
        "    compute_metrics = compute_metrics,\n",
        ")"
      ],
      "execution_count": null,
      "outputs": []
    },
    {
      "cell_type": "markdown",
      "metadata": {
        "id": "lUzsMRnQsSqm"
      },
      "source": [
        "**Train the model**"
      ]
    },
    {
      "cell_type": "code",
      "metadata": {
        "colab": {
          "base_uri": "https://localhost:8080/",
          "height": 913
        },
        "id": "mX7ezOnK2rvM",
        "outputId": "1e9a970d-c559-47d1-d834-0e34c3e4e1a5"
      },
      "source": [
        "trainer.train()"
      ],
      "execution_count": null,
      "outputs": [
        {
          "metadata": {
            "tags": null
          },
          "name": "stderr",
          "output_type": "stream",
          "text": [
            "/usr/local/lib/python3.7/dist-packages/transformers/optimization.py:309: FutureWarning: This implementation of AdamW is deprecated and will be removed in a future version. Use thePyTorch implementation torch.optim.AdamW instead, or set `no_deprecation_warning=True` to disable this warning\n",
            "  FutureWarning,\n",
            "***** Running training *****\n",
            "  Num examples = 16566\n",
            "  Num Epochs = 3\n",
            "  Instantaneous batch size per device = 32\n",
            "  Total train batch size (w. parallel, distributed & accumulation) = 32\n",
            "  Gradient Accumulation steps = 1\n",
            "  Total optimization steps = 1554\n"
          ]
        },
        {
          "data": {
            "text/html": [
              "\n",
              "    <div>\n",
              "      \n",
              "      <progress value='1190' max='1554' style='width:300px; height:20px; vertical-align: middle;'></progress>\n",
              "      [1190/1554 30:56 < 09:28, 0.64 it/s, Epoch 2.30/3]\n",
              "    </div>\n",
              "    <table border=\"1\" class=\"dataframe\">\n",
              "  <thead>\n",
              " <tr style=\"text-align: left;\">\n",
              "      <th>Epoch</th>\n",
              "      <th>Training Loss</th>\n",
              "      <th>Validation Loss</th>\n",
              "      <th>Accuracy</th>\n",
              "      <th>Precision</th>\n",
              "      <th>Recall</th>\n",
              "      <th>F1</th>\n",
              "      <th>Macro Precision</th>\n",
              "      <th>Macro Recall</th>\n",
              "      <th>Macro F1</th>\n",
              "    </tr>\n",
              "  </thead>\n",
              "  <tbody>\n",
              "    <tr>\n",
              "      <td>1</td>\n",
              "      <td>0.672000</td>\n",
              "      <td>0.288575</td>\n",
              "      <td>0.886834</td>\n",
              "      <td>0.900408</td>\n",
              "      <td>0.886834</td>\n",
              "      <td>0.893046</td>\n",
              "      <td>0.555893</td>\n",
              "      <td>0.607620</td>\n",
              "      <td>0.577582</td>\n",
              "    </tr>\n",
              "    <tr>\n",
              "      <td>2</td>\n",
              "      <td>0.329000</td>\n",
              "      <td>0.293011</td>\n",
              "      <td>0.900148</td>\n",
              "      <td>0.917077</td>\n",
              "      <td>0.900148</td>\n",
              "      <td>0.907097</td>\n",
              "      <td>0.633483</td>\n",
              "      <td>0.698658</td>\n",
              "      <td>0.659958</td>\n",
              "    </tr>\n",
              "  </tbody>\n",
              "</table><p>"
            ],
            "text/plain": [
              "<IPython.core.display.HTML object>"
            ]
          },
          "metadata": {},
          "output_type": "display_data"
        },
        {
          "metadata": {
            "tags": null
          },
          "name": "stderr",
          "output_type": "stream",
          "text": [
            "***** Running Evaluation *****\n",
            "  Num examples = 1352\n",
            "  Batch size = 32\n",
            "Saving model checkpoint to /content/drive/Shareddrives/FYP/Humor_HateSpeech_detection/XLMR/hate speech/1/checkpoint-518\n",
            "Configuration saved in /content/drive/Shareddrives/FYP/Humor_HateSpeech_detection/XLMR/hate speech/1/checkpoint-518/config.json\n",
            "Model weights saved in /content/drive/Shareddrives/FYP/Humor_HateSpeech_detection/XLMR/hate speech/1/checkpoint-518/pytorch_model.bin\n",
            "***** Running Evaluation *****\n",
            "  Num examples = 1352\n",
            "  Batch size = 32\n",
            "Saving model checkpoint to /content/drive/Shareddrives/FYP/Humor_HateSpeech_detection/XLMR/hate speech/1/checkpoint-1036\n",
            "Configuration saved in /content/drive/Shareddrives/FYP/Humor_HateSpeech_detection/XLMR/hate speech/1/checkpoint-1036/config.json\n",
            "Model weights saved in /content/drive/Shareddrives/FYP/Humor_HateSpeech_detection/XLMR/hate speech/1/checkpoint-1036/pytorch_model.bin\n"
          ]
        },
        {
          "output_type": "display_data",
          "data": {
            "text/html": [
              "\n",
              "    <div>\n",
              "      \n",
              "      <progress value='1554' max='1554' style='width:300px; height:20px; vertical-align: middle;'></progress>\n",
              "      [1554/1554 40:54, Epoch 3/3]\n",
              "    </div>\n",
              "    <table border=\"1\" class=\"dataframe\">\n",
              "  <thead>\n",
              " <tr style=\"text-align: left;\">\n",
              "      <th>Epoch</th>\n",
              "      <th>Training Loss</th>\n",
              "      <th>Validation Loss</th>\n",
              "      <th>Accuracy</th>\n",
              "      <th>Precision</th>\n",
              "      <th>Recall</th>\n",
              "      <th>F1</th>\n",
              "      <th>Macro Precision</th>\n",
              "      <th>Macro Recall</th>\n",
              "      <th>Macro F1</th>\n",
              "    </tr>\n",
              "  </thead>\n",
              "  <tbody>\n",
              "    <tr>\n",
              "      <td>1</td>\n",
              "      <td>0.672000</td>\n",
              "      <td>0.288575</td>\n",
              "      <td>0.886834</td>\n",
              "      <td>0.900408</td>\n",
              "      <td>0.886834</td>\n",
              "      <td>0.893046</td>\n",
              "      <td>0.555893</td>\n",
              "      <td>0.607620</td>\n",
              "      <td>0.577582</td>\n",
              "    </tr>\n",
              "    <tr>\n",
              "      <td>2</td>\n",
              "      <td>0.329000</td>\n",
              "      <td>0.293011</td>\n",
              "      <td>0.900148</td>\n",
              "      <td>0.917077</td>\n",
              "      <td>0.900148</td>\n",
              "      <td>0.907097</td>\n",
              "      <td>0.633483</td>\n",
              "      <td>0.698658</td>\n",
              "      <td>0.659958</td>\n",
              "    </tr>\n",
              "    <tr>\n",
              "      <td>3</td>\n",
              "      <td>0.181500</td>\n",
              "      <td>0.304687</td>\n",
              "      <td>0.916420</td>\n",
              "      <td>0.924205</td>\n",
              "      <td>0.916420</td>\n",
              "      <td>0.919650</td>\n",
              "      <td>0.686671</td>\n",
              "      <td>0.722556</td>\n",
              "      <td>0.701798</td>\n",
              "    </tr>\n",
              "  </tbody>\n",
              "</table><p>"
            ],
            "text/plain": [
              "<IPython.core.display.HTML object>"
            ]
          },
          "metadata": {}
        },
        {
          "output_type": "stream",
          "name": "stderr",
          "text": [
            "***** Running Evaluation *****\n",
            "  Num examples = 1352\n",
            "  Batch size = 32\n",
            "Saving model checkpoint to /content/drive/Shareddrives/FYP/Humor_HateSpeech_detection/XLMR/hate speech/1/checkpoint-1554\n",
            "Configuration saved in /content/drive/Shareddrives/FYP/Humor_HateSpeech_detection/XLMR/hate speech/1/checkpoint-1554/config.json\n",
            "Model weights saved in /content/drive/Shareddrives/FYP/Humor_HateSpeech_detection/XLMR/hate speech/1/checkpoint-1554/pytorch_model.bin\n",
            "\n",
            "\n",
            "Training completed. Do not forget to share your model on huggingface.co/models =)\n",
            "\n",
            "\n"
          ]
        },
        {
          "output_type": "execute_result",
          "data": {
            "text/plain": [
              "TrainOutput(global_step=1554, training_loss=0.3851877980250649, metrics={'train_runtime': 2455.536, 'train_samples_per_second': 20.239, 'train_steps_per_second': 0.633, 'total_flos': 3269052658561536.0, 'train_loss': 0.3851877980250649, 'epoch': 3.0})"
            ]
          },
          "metadata": {},
          "execution_count": 22
        }
      ]
    },
    {
      "cell_type": "markdown",
      "metadata": {
        "id": "wYCFMo-_karm"
      },
      "source": [
        "**Test the fine-tuned model**"
      ]
    },
    {
      "cell_type": "code",
      "metadata": {
        "id": "bIcv3yEmwFpx",
        "colab": {
          "base_uri": "https://localhost:8080/",
          "height": 311
        },
        "outputId": "cf96426f-20a3-4a21-992c-3efe7aeb2295"
      },
      "source": [
        "trainer.evaluate()"
      ],
      "execution_count": null,
      "outputs": [
        {
          "output_type": "stream",
          "name": "stderr",
          "text": [
            "***** Running Evaluation *****\n",
            "  Num examples = 1352\n",
            "  Batch size = 32\n"
          ]
        },
        {
          "output_type": "display_data",
          "data": {
            "text/html": [
              "\n",
              "    <div>\n",
              "      \n",
              "      <progress value='43' max='43' style='width:300px; height:20px; vertical-align: middle;'></progress>\n",
              "      [43/43 00:20]\n",
              "    </div>\n",
              "    "
            ],
            "text/plain": [
              "<IPython.core.display.HTML object>"
            ]
          },
          "metadata": {}
        },
        {
          "output_type": "execute_result",
          "data": {
            "text/plain": [
              "{'epoch': 3.0,\n",
              " 'eval_accuracy': 0.9164201183431953,\n",
              " 'eval_f1': 0.9196499274261476,\n",
              " 'eval_loss': 0.30468660593032837,\n",
              " 'eval_macro_f1': 0.7017978588269406,\n",
              " 'eval_macro_precision': 0.6866711637625028,\n",
              " 'eval_macro_recall': 0.722555869988005,\n",
              " 'eval_precision': 0.9242047251079533,\n",
              " 'eval_recall': 0.9164201183431953,\n",
              " 'eval_runtime': 25.0298,\n",
              " 'eval_samples_per_second': 54.016,\n",
              " 'eval_steps_per_second': 1.718}"
            ]
          },
          "metadata": {},
          "execution_count": 23
        }
      ]
    },
    {
      "cell_type": "code",
      "source": [
        "# predictions = trainer.predict(test_dataset)"
      ],
      "metadata": {
        "id": "9ZgJgh5Sch_5"
      },
      "execution_count": null,
      "outputs": []
    },
    {
      "cell_type": "code",
      "source": [
        "# preds = np.argmax(predictions.predictions, axis=-1)"
      ],
      "metadata": {
        "id": "hjCNA_Ixn89J"
      },
      "execution_count": null,
      "outputs": []
    },
    {
      "cell_type": "code",
      "source": [
        "# test_set = {'Sentence': X_test,\n",
        "#         'Label':predictions.label_ids,\n",
        "#         'Prediction':preds}\n",
        "  \n",
        "# # Create DataFrame\n",
        "# df = pd.DataFrame(test_set)"
      ],
      "metadata": {
        "id": "ssTI0FG1oKpk"
      },
      "execution_count": null,
      "outputs": []
    },
    {
      "cell_type": "code",
      "source": [
        "# df"
      ],
      "metadata": {
        "id": "R0vU4ku0pAZK"
      },
      "execution_count": null,
      "outputs": []
    },
    {
      "cell_type": "code",
      "source": [
        "model.save_pretrained(\"/content/drive/Shareddrives/FYP/final_models/xlmr-st/hate\")"
      ],
      "metadata": {
        "colab": {
          "base_uri": "https://localhost:8080/"
        },
        "id": "23n8yQBdtbMN",
        "outputId": "2fca2751-7a4f-49ce-84de-980c968169d7"
      },
      "execution_count": null,
      "outputs": [
        {
          "output_type": "stream",
          "name": "stderr",
          "text": [
            "Configuration saved in /content/drive/Shareddrives/FYP/final_models/xlmr-st/hate/config.json\n",
            "Model weights saved in /content/drive/Shareddrives/FYP/final_models/xlmr-st/hate/pytorch_model.bin\n"
          ]
        }
      ]
    },
    {
      "cell_type": "markdown",
      "metadata": {
        "id": "hjpu4loFOhF-"
      },
      "source": [
        "##### **Hyperparameter Search**"
      ]
    },
    {
      "cell_type": "code",
      "metadata": {
        "id": "Oq_MOrsM8ugi"
      },
      "source": [
        "# args = TrainingArguments(\n",
        "#     \"test-glue\",\n",
        "#     evaluation_strategy = \"epoch\",\n",
        "#     save_strategy = \"epoch\",\n",
        "#     learning_rate=LEARNING_RATE,\n",
        "#     per_device_train_batch_size=BATCH_SIZE,\n",
        "#     per_device_eval_batch_size=BATCH_SIZE,\n",
        "#     num_train_epochs=EPOCHS,\n",
        "#     weight_decay=0.01,\n",
        "#     load_best_model_at_end=True,\n",
        "#     metric_for_best_model=\"eval_macro_f1\",\n",
        "# )"
      ],
      "execution_count": null,
      "outputs": []
    },
    {
      "cell_type": "code",
      "metadata": {
        "id": "CsAB0QwAOjp9"
      },
      "source": [
        "# def my_hp_space(trial):\n",
        "#     return {\n",
        "#         # \"learning_rate\": trial.suggest_float(\"learning_rate\", 1e-7, 1e-3, log=True),\n",
        "#         \"num_train_epochs\": trial.suggest_discrete_uniform(\"num_train_epochs\", 1, 5, 1),\n",
        "#         # \"seed\": trial.suggest_int(\"seed\", 1, 40),\n",
        "#         # \"per_device_train_batch_size\": trial.suggest_categorical(\"per_device_train_batch_size\", [4, 8, 16, 32, 64]),\n",
        "#     }"
      ],
      "execution_count": null,
      "outputs": []
    },
    {
      "cell_type": "code",
      "metadata": {
        "id": "7_B7-8AGOlhu"
      },
      "source": [
        "# trainer = Trainer(\n",
        "#     model_init=model_init,\n",
        "#     args=args,\n",
        "#     train_dataset=train_dataset,\n",
        "#     eval_dataset=test_dataset,\n",
        "#     # tokenizer=tokenizer,\n",
        "#     compute_metrics=compute_metrics\n",
        "# )\n",
        "\n",
        "# best_run = trainer.hyperparameter_search(n_trials=5, direction=\"maximize\", hp_space=my_hp_space)"
      ],
      "execution_count": null,
      "outputs": []
    },
    {
      "cell_type": "markdown",
      "metadata": {
        "id": "UX_9phbzvS-w"
      },
      "source": [
        "#### **Fine tuning with native PyTorch**"
      ]
    },
    {
      "cell_type": "markdown",
      "metadata": {
        "id": "3f_2f-ifTkas"
      },
      "source": [
        "**Fine-tune the model**"
      ]
    },
    {
      "cell_type": "code",
      "metadata": {
        "id": "8YupLb6tQvCt"
      },
      "source": [
        "# def epoch_time(start_time, end_time):\n",
        "#   elapsed_time = end_time - start_time\n",
        "#   elapsed_mins = int(elapsed_time / 60)\n",
        "#   elapsed_secs = int(elapsed_time - (elapsed_mins * 60))\n",
        "#   return elapsed_mins, elapsed_secs"
      ],
      "execution_count": null,
      "outputs": []
    },
    {
      "cell_type": "code",
      "metadata": {
        "id": "Exnw9_AAPMMI"
      },
      "source": [
        "# # apply different hyperpameters for specific parameter groups\n",
        "# # param_optimizer = list(model.named_parameters())\n",
        "\n",
        "# # optimizer_grouped_parameters = [\n",
        "# #     {'params': [p for n, p in param_optimizer if not any(nd in n for nd in no_decay)],\n",
        "# #      'weight_decay_rate': 0.01},\n",
        "# #     {'params': [p for n, p in param_optimizer if any(nd in n for nd in no_decay)],\n",
        "# #      'weight_decay_rate': 0.0}\n",
        "# # ]\n",
        "# # optimizer = AdamW(optimizer_grouped_parameters, lr=LEARNING_RATE)\n",
        "# optimizer = AdamW(model.parameters(), lr=LEARNING_RATE)"
      ],
      "execution_count": null,
      "outputs": []
    },
    {
      "cell_type": "code",
      "metadata": {
        "id": "9rCA2AEoB3HU"
      },
      "source": [
        "# train_loss_set = []\n",
        "# num_training_steps = EPOCHS * len(train_loader)\n",
        "# progress_bar = tqdm(range(num_training_steps))\n",
        "# model.train()\n",
        "\n",
        "# for epoch in range(EPOCHS):\n",
        "#   start_time = time.time()\n",
        "\n",
        "#   tr_loss = 0\n",
        "#   nb_tr_steps = 0\n",
        "  \n",
        "#   for batch in train_loader:\n",
        "\n",
        "#     batch = {k: v.to(device) for k, v in batch.items()}\n",
        "#     outputs = model(**batch)\n",
        "#     loss = outputs.loss\n",
        "#     loss.backward()\n",
        "\n",
        "#     optimizer.step()\n",
        "#     optimizer.zero_grad()\n",
        "#     progress_bar.update(1)\n",
        "\n",
        "#     train_loss_set.append(loss.item())    \n",
        "    \n",
        "#     tr_loss += loss.item()\n",
        "#     nb_tr_steps += 1\n",
        "\n",
        "#   end_time = time.time()\n",
        "\n",
        "#   print(epoch_time(start_time,end_time))\n",
        "#   print(\"\\nTrain loss: {}\".format(tr_loss/nb_tr_steps))"
      ],
      "execution_count": null,
      "outputs": []
    },
    {
      "cell_type": "markdown",
      "metadata": {
        "id": "taSFo4N7Tf0J"
      },
      "source": [
        "**Validate the model**"
      ]
    },
    {
      "cell_type": "code",
      "metadata": {
        "id": "EiYHmez4S90U"
      },
      "source": [
        "# accuracy = load_metric(\"accuracy\")\n",
        "# precision = load_metric(\"precision\")\n",
        "# recall = load_metric(\"recall\")\n",
        "# f1 = load_metric(\"f1\")\n",
        "# macro_precision = load_metric(\"precision\")\n",
        "# macro_recall = load_metric(\"recall\")\n",
        "# macro_f1 = load_metric(\"f1\")\n",
        "\n",
        "# model.eval()\n",
        "# for batch in test_loader:\n",
        "#     batch = {k: v.to(device) for k, v in batch.items()}\n",
        "#     with torch.no_grad():\n",
        "#         outputs = model(**batch)\n",
        "\n",
        "#     logits = outputs.logits\n",
        "#     predictions = torch.argmax(logits, dim=-1)\n",
        "#     accuracy.add_batch(predictions=predictions, references=batch[\"labels\"])\n",
        "#     precision.add_batch(predictions=predictions, references=batch[\"labels\"])\n",
        "#     recall.add_batch(predictions=predictions, references=batch[\"labels\"])\n",
        "#     f1.add_batch(predictions=predictions, references=batch[\"labels\"])\n",
        "#     macro_precision.add_batch(predictions=predictions, references=batch[\"labels\"])\n",
        "#     macro_recall.add_batch(predictions=predictions, references=batch[\"labels\"])\n",
        "#     macro_f1.add_batch(predictions=predictions, references=batch[\"labels\"])\n",
        "\n",
        "# print(accuracy.compute())\n",
        "# print(precision.compute(average=\"weighted\"))\n",
        "# print(recall.compute(average=\"weighted\"))\n",
        "# print(f1.compute(average=\"weighted\"))\n",
        "# print(\"macro averages:\")\n",
        "# print(macro_precision.compute(average=\"macro\"))\n",
        "# print(macro_recall.compute(average=\"macro\"))\n",
        "# print(macro_f1.compute(average=\"macro\"))"
      ],
      "execution_count": null,
      "outputs": []
    },
    {
      "cell_type": "code",
      "metadata": {
        "id": "nZDYa5WdkQzO"
      },
      "source": [
        ""
      ],
      "execution_count": null,
      "outputs": []
    }
  ]
}